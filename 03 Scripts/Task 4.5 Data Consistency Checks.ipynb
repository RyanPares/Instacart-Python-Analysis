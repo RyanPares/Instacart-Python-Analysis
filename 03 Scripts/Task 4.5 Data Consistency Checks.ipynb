{
 "cells": [
  {
   "cell_type": "markdown",
   "id": "781cc3e9",
   "metadata": {},
   "source": [
    "# Data Consistency Checks"
   ]
  },
  {
   "cell_type": "code",
   "execution_count": 10,
   "id": "3bcb6b0e",
   "metadata": {},
   "outputs": [],
   "source": [
    "# Import libraries \n",
    "import pandas as pd\n",
    "import numpy as np\n",
    "import os"
   ]
  },
  {
   "cell_type": "code",
   "execution_count": 11,
   "id": "e703b528",
   "metadata": {},
   "outputs": [],
   "source": [
    "# Set path\n",
    "path = r'C:\\Users\\Ryan Pares\\Instacart Basket Analysis'"
   ]
  },
  {
   "cell_type": "code",
   "execution_count": 12,
   "id": "67230d91",
   "metadata": {},
   "outputs": [],
   "source": [
    "# Import dataframes ('products.csv' and 'orders_wrangled.csv')\n",
    "df_prods = pd.read_csv(os.path.join(path, '02 Data', 'Original Data', 'products.csv'), index_col = False)\n",
    "df_ords = pd.read_csv(os.path.join(path, '02 Data', 'Prepared Data', 'orders_wrangled.csv'), index_col = False)"
   ]
  },
  {
   "cell_type": "markdown",
   "id": "c5286134",
   "metadata": {},
   "source": [
    "# 1. Consistency Checks"
   ]
  },
  {
   "cell_type": "code",
   "execution_count": 13,
   "id": "bbfcae2a",
   "metadata": {},
   "outputs": [
    {
     "data": {
      "text/html": [
       "<div>\n",
       "<style scoped>\n",
       "    .dataframe tbody tr th:only-of-type {\n",
       "        vertical-align: middle;\n",
       "    }\n",
       "\n",
       "    .dataframe tbody tr th {\n",
       "        vertical-align: top;\n",
       "    }\n",
       "\n",
       "    .dataframe thead th {\n",
       "        text-align: right;\n",
       "    }\n",
       "</style>\n",
       "<table border=\"1\" class=\"dataframe\">\n",
       "  <thead>\n",
       "    <tr style=\"text-align: right;\">\n",
       "      <th></th>\n",
       "      <th>Unnamed: 0</th>\n",
       "      <th>order_id</th>\n",
       "      <th>user_id</th>\n",
       "      <th>order_number</th>\n",
       "      <th>order_dow</th>\n",
       "      <th>order_hour_of_day</th>\n",
       "      <th>days_since_prior_order</th>\n",
       "    </tr>\n",
       "  </thead>\n",
       "  <tbody>\n",
       "    <tr>\n",
       "      <th>count</th>\n",
       "      <td>3.421083e+06</td>\n",
       "      <td>3.421083e+06</td>\n",
       "      <td>3.421083e+06</td>\n",
       "      <td>3.421083e+06</td>\n",
       "      <td>3.421083e+06</td>\n",
       "      <td>3.421083e+06</td>\n",
       "      <td>3.214874e+06</td>\n",
       "    </tr>\n",
       "    <tr>\n",
       "      <th>mean</th>\n",
       "      <td>1.710541e+06</td>\n",
       "      <td>1.710542e+06</td>\n",
       "      <td>1.029782e+05</td>\n",
       "      <td>1.715486e+01</td>\n",
       "      <td>2.776219e+00</td>\n",
       "      <td>1.345202e+01</td>\n",
       "      <td>1.111484e+01</td>\n",
       "    </tr>\n",
       "    <tr>\n",
       "      <th>std</th>\n",
       "      <td>9.875817e+05</td>\n",
       "      <td>9.875817e+05</td>\n",
       "      <td>5.953372e+04</td>\n",
       "      <td>1.773316e+01</td>\n",
       "      <td>2.046829e+00</td>\n",
       "      <td>4.226088e+00</td>\n",
       "      <td>9.206737e+00</td>\n",
       "    </tr>\n",
       "    <tr>\n",
       "      <th>min</th>\n",
       "      <td>0.000000e+00</td>\n",
       "      <td>1.000000e+00</td>\n",
       "      <td>1.000000e+00</td>\n",
       "      <td>1.000000e+00</td>\n",
       "      <td>0.000000e+00</td>\n",
       "      <td>0.000000e+00</td>\n",
       "      <td>0.000000e+00</td>\n",
       "    </tr>\n",
       "    <tr>\n",
       "      <th>25%</th>\n",
       "      <td>8.552705e+05</td>\n",
       "      <td>8.552715e+05</td>\n",
       "      <td>5.139400e+04</td>\n",
       "      <td>5.000000e+00</td>\n",
       "      <td>1.000000e+00</td>\n",
       "      <td>1.000000e+01</td>\n",
       "      <td>4.000000e+00</td>\n",
       "    </tr>\n",
       "    <tr>\n",
       "      <th>50%</th>\n",
       "      <td>1.710541e+06</td>\n",
       "      <td>1.710542e+06</td>\n",
       "      <td>1.026890e+05</td>\n",
       "      <td>1.100000e+01</td>\n",
       "      <td>3.000000e+00</td>\n",
       "      <td>1.300000e+01</td>\n",
       "      <td>7.000000e+00</td>\n",
       "    </tr>\n",
       "    <tr>\n",
       "      <th>75%</th>\n",
       "      <td>2.565812e+06</td>\n",
       "      <td>2.565812e+06</td>\n",
       "      <td>1.543850e+05</td>\n",
       "      <td>2.300000e+01</td>\n",
       "      <td>5.000000e+00</td>\n",
       "      <td>1.600000e+01</td>\n",
       "      <td>1.500000e+01</td>\n",
       "    </tr>\n",
       "    <tr>\n",
       "      <th>max</th>\n",
       "      <td>3.421082e+06</td>\n",
       "      <td>3.421083e+06</td>\n",
       "      <td>2.062090e+05</td>\n",
       "      <td>1.000000e+02</td>\n",
       "      <td>6.000000e+00</td>\n",
       "      <td>2.300000e+01</td>\n",
       "      <td>3.000000e+01</td>\n",
       "    </tr>\n",
       "  </tbody>\n",
       "</table>\n",
       "</div>"
      ],
      "text/plain": [
       "         Unnamed: 0      order_id       user_id  order_number     order_dow  \\\n",
       "count  3.421083e+06  3.421083e+06  3.421083e+06  3.421083e+06  3.421083e+06   \n",
       "mean   1.710541e+06  1.710542e+06  1.029782e+05  1.715486e+01  2.776219e+00   \n",
       "std    9.875817e+05  9.875817e+05  5.953372e+04  1.773316e+01  2.046829e+00   \n",
       "min    0.000000e+00  1.000000e+00  1.000000e+00  1.000000e+00  0.000000e+00   \n",
       "25%    8.552705e+05  8.552715e+05  5.139400e+04  5.000000e+00  1.000000e+00   \n",
       "50%    1.710541e+06  1.710542e+06  1.026890e+05  1.100000e+01  3.000000e+00   \n",
       "75%    2.565812e+06  2.565812e+06  1.543850e+05  2.300000e+01  5.000000e+00   \n",
       "max    3.421082e+06  3.421083e+06  2.062090e+05  1.000000e+02  6.000000e+00   \n",
       "\n",
       "       order_hour_of_day  days_since_prior_order  \n",
       "count       3.421083e+06            3.214874e+06  \n",
       "mean        1.345202e+01            1.111484e+01  \n",
       "std         4.226088e+00            9.206737e+00  \n",
       "min         0.000000e+00            0.000000e+00  \n",
       "25%         1.000000e+01            4.000000e+00  \n",
       "50%         1.300000e+01            7.000000e+00  \n",
       "75%         1.600000e+01            1.500000e+01  \n",
       "max         2.300000e+01            3.000000e+01  "
      ]
     },
     "execution_count": 13,
     "metadata": {},
     "output_type": "execute_result"
    }
   ],
   "source": [
    "# Data consistency check by reviewing descriptive statistics\n",
    "df_ords.describe()"
   ]
  },
  {
   "cell_type": "code",
   "execution_count": 14,
   "id": "49b240d9",
   "metadata": {},
   "outputs": [],
   "source": [
    "df_ords.drop(columns=['Unnamed: 0'], inplace =True)"
   ]
  },
  {
   "cell_type": "code",
   "execution_count": 15,
   "id": "3135d5e2",
   "metadata": {},
   "outputs": [
    {
     "data": {
      "text/html": [
       "<div>\n",
       "<style scoped>\n",
       "    .dataframe tbody tr th:only-of-type {\n",
       "        vertical-align: middle;\n",
       "    }\n",
       "\n",
       "    .dataframe tbody tr th {\n",
       "        vertical-align: top;\n",
       "    }\n",
       "\n",
       "    .dataframe thead th {\n",
       "        text-align: right;\n",
       "    }\n",
       "</style>\n",
       "<table border=\"1\" class=\"dataframe\">\n",
       "  <thead>\n",
       "    <tr style=\"text-align: right;\">\n",
       "      <th></th>\n",
       "      <th>order_id</th>\n",
       "      <th>user_id</th>\n",
       "      <th>order_number</th>\n",
       "      <th>order_dow</th>\n",
       "      <th>order_hour_of_day</th>\n",
       "      <th>days_since_prior_order</th>\n",
       "    </tr>\n",
       "  </thead>\n",
       "  <tbody>\n",
       "    <tr>\n",
       "      <th>count</th>\n",
       "      <td>3.421083e+06</td>\n",
       "      <td>3.421083e+06</td>\n",
       "      <td>3.421083e+06</td>\n",
       "      <td>3.421083e+06</td>\n",
       "      <td>3.421083e+06</td>\n",
       "      <td>3.214874e+06</td>\n",
       "    </tr>\n",
       "    <tr>\n",
       "      <th>mean</th>\n",
       "      <td>1.710542e+06</td>\n",
       "      <td>1.029782e+05</td>\n",
       "      <td>1.715486e+01</td>\n",
       "      <td>2.776219e+00</td>\n",
       "      <td>1.345202e+01</td>\n",
       "      <td>1.111484e+01</td>\n",
       "    </tr>\n",
       "    <tr>\n",
       "      <th>std</th>\n",
       "      <td>9.875817e+05</td>\n",
       "      <td>5.953372e+04</td>\n",
       "      <td>1.773316e+01</td>\n",
       "      <td>2.046829e+00</td>\n",
       "      <td>4.226088e+00</td>\n",
       "      <td>9.206737e+00</td>\n",
       "    </tr>\n",
       "    <tr>\n",
       "      <th>min</th>\n",
       "      <td>1.000000e+00</td>\n",
       "      <td>1.000000e+00</td>\n",
       "      <td>1.000000e+00</td>\n",
       "      <td>0.000000e+00</td>\n",
       "      <td>0.000000e+00</td>\n",
       "      <td>0.000000e+00</td>\n",
       "    </tr>\n",
       "    <tr>\n",
       "      <th>25%</th>\n",
       "      <td>8.552715e+05</td>\n",
       "      <td>5.139400e+04</td>\n",
       "      <td>5.000000e+00</td>\n",
       "      <td>1.000000e+00</td>\n",
       "      <td>1.000000e+01</td>\n",
       "      <td>4.000000e+00</td>\n",
       "    </tr>\n",
       "    <tr>\n",
       "      <th>50%</th>\n",
       "      <td>1.710542e+06</td>\n",
       "      <td>1.026890e+05</td>\n",
       "      <td>1.100000e+01</td>\n",
       "      <td>3.000000e+00</td>\n",
       "      <td>1.300000e+01</td>\n",
       "      <td>7.000000e+00</td>\n",
       "    </tr>\n",
       "    <tr>\n",
       "      <th>75%</th>\n",
       "      <td>2.565812e+06</td>\n",
       "      <td>1.543850e+05</td>\n",
       "      <td>2.300000e+01</td>\n",
       "      <td>5.000000e+00</td>\n",
       "      <td>1.600000e+01</td>\n",
       "      <td>1.500000e+01</td>\n",
       "    </tr>\n",
       "    <tr>\n",
       "      <th>max</th>\n",
       "      <td>3.421083e+06</td>\n",
       "      <td>2.062090e+05</td>\n",
       "      <td>1.000000e+02</td>\n",
       "      <td>6.000000e+00</td>\n",
       "      <td>2.300000e+01</td>\n",
       "      <td>3.000000e+01</td>\n",
       "    </tr>\n",
       "  </tbody>\n",
       "</table>\n",
       "</div>"
      ],
      "text/plain": [
       "           order_id       user_id  order_number     order_dow  \\\n",
       "count  3.421083e+06  3.421083e+06  3.421083e+06  3.421083e+06   \n",
       "mean   1.710542e+06  1.029782e+05  1.715486e+01  2.776219e+00   \n",
       "std    9.875817e+05  5.953372e+04  1.773316e+01  2.046829e+00   \n",
       "min    1.000000e+00  1.000000e+00  1.000000e+00  0.000000e+00   \n",
       "25%    8.552715e+05  5.139400e+04  5.000000e+00  1.000000e+00   \n",
       "50%    1.710542e+06  1.026890e+05  1.100000e+01  3.000000e+00   \n",
       "75%    2.565812e+06  1.543850e+05  2.300000e+01  5.000000e+00   \n",
       "max    3.421083e+06  2.062090e+05  1.000000e+02  6.000000e+00   \n",
       "\n",
       "       order_hour_of_day  days_since_prior_order  \n",
       "count       3.421083e+06            3.214874e+06  \n",
       "mean        1.345202e+01            1.111484e+01  \n",
       "std         4.226088e+00            9.206737e+00  \n",
       "min         0.000000e+00            0.000000e+00  \n",
       "25%         1.000000e+01            4.000000e+00  \n",
       "50%         1.300000e+01            7.000000e+00  \n",
       "75%         1.600000e+01            1.500000e+01  \n",
       "max         2.300000e+01            3.000000e+01  "
      ]
     },
     "execution_count": 15,
     "metadata": {},
     "output_type": "execute_result"
    }
   ],
   "source": [
    "df_ords.describe()"
   ]
  },
  {
   "cell_type": "markdown",
   "id": "62a2f7fe",
   "metadata": {},
   "source": [
    "# 2. Mixe-Type Data"
   ]
  },
  {
   "cell_type": "code",
   "execution_count": 16,
   "id": "979ea5b9",
   "metadata": {},
   "outputs": [],
   "source": [
    "# Create a dataframe\n",
    "df_test = pd.DataFrame()"
   ]
  },
  {
   "cell_type": "code",
   "execution_count": 17,
   "id": "8e2bf307",
   "metadata": {},
   "outputs": [],
   "source": [
    "# Create a mixed type column\n",
    "df_test['mix'] = ['a', 'b', 1, True]"
   ]
  },
  {
   "cell_type": "code",
   "execution_count": 18,
   "id": "4129b8bf",
   "metadata": {},
   "outputs": [
    {
     "data": {
      "text/html": [
       "<div>\n",
       "<style scoped>\n",
       "    .dataframe tbody tr th:only-of-type {\n",
       "        vertical-align: middle;\n",
       "    }\n",
       "\n",
       "    .dataframe tbody tr th {\n",
       "        vertical-align: top;\n",
       "    }\n",
       "\n",
       "    .dataframe thead th {\n",
       "        text-align: right;\n",
       "    }\n",
       "</style>\n",
       "<table border=\"1\" class=\"dataframe\">\n",
       "  <thead>\n",
       "    <tr style=\"text-align: right;\">\n",
       "      <th></th>\n",
       "      <th>mix</th>\n",
       "    </tr>\n",
       "  </thead>\n",
       "  <tbody>\n",
       "    <tr>\n",
       "      <th>0</th>\n",
       "      <td>a</td>\n",
       "    </tr>\n",
       "    <tr>\n",
       "      <th>1</th>\n",
       "      <td>b</td>\n",
       "    </tr>\n",
       "    <tr>\n",
       "      <th>2</th>\n",
       "      <td>1</td>\n",
       "    </tr>\n",
       "    <tr>\n",
       "      <th>3</th>\n",
       "      <td>True</td>\n",
       "    </tr>\n",
       "  </tbody>\n",
       "</table>\n",
       "</div>"
      ],
      "text/plain": [
       "    mix\n",
       "0     a\n",
       "1     b\n",
       "2     1\n",
       "3  True"
      ]
     },
     "execution_count": 18,
     "metadata": {},
     "output_type": "execute_result"
    }
   ],
   "source": [
    "df_test.head()"
   ]
  },
  {
   "cell_type": "code",
   "execution_count": 19,
   "id": "55c3c377",
   "metadata": {},
   "outputs": [
    {
     "name": "stdout",
     "output_type": "stream",
     "text": [
      "mix\n"
     ]
    }
   ],
   "source": [
    "# Check for any mixed-type columns\n",
    "for col in df_test.columns.tolist():\n",
    "  weird = (df_test[[col]].applymap(type) != df_test[[col]].iloc[0].apply(type)).any(axis = 1)\n",
    "  if len (df_test[weird]) > 0:\n",
    "    print (col)"
   ]
  },
  {
   "cell_type": "markdown",
   "id": "09385098",
   "metadata": {},
   "source": [
    "#### Mixed data types are found, Single data type for column is decided (as String)"
   ]
  },
  {
   "cell_type": "code",
   "execution_count": 20,
   "id": "b737e79f",
   "metadata": {},
   "outputs": [],
   "source": [
    "# Change data type\n",
    "df_test['mix'] = df_test['mix'].astype('str')"
   ]
  },
  {
   "cell_type": "code",
   "execution_count": 21,
   "id": "d6e75cfd",
   "metadata": {},
   "outputs": [
    {
     "data": {
      "text/plain": [
       "0       a\n",
       "1       b\n",
       "2       1\n",
       "3    True\n",
       "Name: mix, dtype: object"
      ]
     },
     "execution_count": 21,
     "metadata": {},
     "output_type": "execute_result"
    }
   ],
   "source": [
    "df_test['mix']"
   ]
  },
  {
   "cell_type": "markdown",
   "id": "95c31622",
   "metadata": {},
   "source": [
    "# 3. Missing Values"
   ]
  },
  {
   "cell_type": "code",
   "execution_count": 22,
   "id": "2a0bc855",
   "metadata": {},
   "outputs": [
    {
     "data": {
      "text/plain": [
       "product_id        0\n",
       "product_name     16\n",
       "aisle_id          0\n",
       "department_id     0\n",
       "prices            0\n",
       "dtype: int64"
      ]
     },
     "execution_count": 22,
     "metadata": {},
     "output_type": "execute_result"
    }
   ],
   "source": [
    "#Functions used:'isnull()', which is used the find missing observations & the 'sum()' function returns the total missing values\n",
    "df_prods.isnull().sum()"
   ]
  },
  {
   "cell_type": "code",
   "execution_count": 23,
   "id": "13b8dab9",
   "metadata": {},
   "outputs": [],
   "source": [
    "# To view the 16 missing values, create a subset of the dataframe containing only the values in question"
   ]
  },
  {
   "cell_type": "code",
   "execution_count": 24,
   "id": "b7469ba7",
   "metadata": {},
   "outputs": [],
   "source": [
    "# Create a new dataframe, df_nan, containing on the values within the 'product_name' column that meets the condition of 'isnull()' true\n",
    "df_nan = df_prods[df_prods['product_name'].isnull() == True]"
   ]
  },
  {
   "cell_type": "code",
   "execution_count": 25,
   "id": "cb6acad5",
   "metadata": {},
   "outputs": [
    {
     "data": {
      "text/html": [
       "<div>\n",
       "<style scoped>\n",
       "    .dataframe tbody tr th:only-of-type {\n",
       "        vertical-align: middle;\n",
       "    }\n",
       "\n",
       "    .dataframe tbody tr th {\n",
       "        vertical-align: top;\n",
       "    }\n",
       "\n",
       "    .dataframe thead th {\n",
       "        text-align: right;\n",
       "    }\n",
       "</style>\n",
       "<table border=\"1\" class=\"dataframe\">\n",
       "  <thead>\n",
       "    <tr style=\"text-align: right;\">\n",
       "      <th></th>\n",
       "      <th>product_id</th>\n",
       "      <th>product_name</th>\n",
       "      <th>aisle_id</th>\n",
       "      <th>department_id</th>\n",
       "      <th>prices</th>\n",
       "    </tr>\n",
       "  </thead>\n",
       "  <tbody>\n",
       "    <tr>\n",
       "      <th>33</th>\n",
       "      <td>34</td>\n",
       "      <td>NaN</td>\n",
       "      <td>121</td>\n",
       "      <td>14</td>\n",
       "      <td>12.2</td>\n",
       "    </tr>\n",
       "    <tr>\n",
       "      <th>68</th>\n",
       "      <td>69</td>\n",
       "      <td>NaN</td>\n",
       "      <td>26</td>\n",
       "      <td>7</td>\n",
       "      <td>11.8</td>\n",
       "    </tr>\n",
       "    <tr>\n",
       "      <th>115</th>\n",
       "      <td>116</td>\n",
       "      <td>NaN</td>\n",
       "      <td>93</td>\n",
       "      <td>3</td>\n",
       "      <td>10.8</td>\n",
       "    </tr>\n",
       "    <tr>\n",
       "      <th>261</th>\n",
       "      <td>262</td>\n",
       "      <td>NaN</td>\n",
       "      <td>110</td>\n",
       "      <td>13</td>\n",
       "      <td>12.1</td>\n",
       "    </tr>\n",
       "    <tr>\n",
       "      <th>525</th>\n",
       "      <td>525</td>\n",
       "      <td>NaN</td>\n",
       "      <td>109</td>\n",
       "      <td>11</td>\n",
       "      <td>1.2</td>\n",
       "    </tr>\n",
       "    <tr>\n",
       "      <th>1511</th>\n",
       "      <td>1511</td>\n",
       "      <td>NaN</td>\n",
       "      <td>84</td>\n",
       "      <td>16</td>\n",
       "      <td>14.3</td>\n",
       "    </tr>\n",
       "    <tr>\n",
       "      <th>1780</th>\n",
       "      <td>1780</td>\n",
       "      <td>NaN</td>\n",
       "      <td>126</td>\n",
       "      <td>11</td>\n",
       "      <td>12.3</td>\n",
       "    </tr>\n",
       "    <tr>\n",
       "      <th>2240</th>\n",
       "      <td>2240</td>\n",
       "      <td>NaN</td>\n",
       "      <td>52</td>\n",
       "      <td>1</td>\n",
       "      <td>14.2</td>\n",
       "    </tr>\n",
       "    <tr>\n",
       "      <th>2586</th>\n",
       "      <td>2586</td>\n",
       "      <td>NaN</td>\n",
       "      <td>104</td>\n",
       "      <td>13</td>\n",
       "      <td>12.4</td>\n",
       "    </tr>\n",
       "    <tr>\n",
       "      <th>3159</th>\n",
       "      <td>3159</td>\n",
       "      <td>NaN</td>\n",
       "      <td>126</td>\n",
       "      <td>11</td>\n",
       "      <td>13.1</td>\n",
       "    </tr>\n",
       "    <tr>\n",
       "      <th>3230</th>\n",
       "      <td>3230</td>\n",
       "      <td>NaN</td>\n",
       "      <td>120</td>\n",
       "      <td>16</td>\n",
       "      <td>14.4</td>\n",
       "    </tr>\n",
       "    <tr>\n",
       "      <th>3736</th>\n",
       "      <td>3736</td>\n",
       "      <td>NaN</td>\n",
       "      <td>41</td>\n",
       "      <td>8</td>\n",
       "      <td>14.8</td>\n",
       "    </tr>\n",
       "    <tr>\n",
       "      <th>4283</th>\n",
       "      <td>4283</td>\n",
       "      <td>NaN</td>\n",
       "      <td>77</td>\n",
       "      <td>7</td>\n",
       "      <td>14.4</td>\n",
       "    </tr>\n",
       "    <tr>\n",
       "      <th>4790</th>\n",
       "      <td>4790</td>\n",
       "      <td>NaN</td>\n",
       "      <td>91</td>\n",
       "      <td>16</td>\n",
       "      <td>14.5</td>\n",
       "    </tr>\n",
       "    <tr>\n",
       "      <th>38187</th>\n",
       "      <td>38183</td>\n",
       "      <td>NaN</td>\n",
       "      <td>39</td>\n",
       "      <td>12</td>\n",
       "      <td>20.9</td>\n",
       "    </tr>\n",
       "    <tr>\n",
       "      <th>40444</th>\n",
       "      <td>40440</td>\n",
       "      <td>NaN</td>\n",
       "      <td>120</td>\n",
       "      <td>16</td>\n",
       "      <td>14.8</td>\n",
       "    </tr>\n",
       "  </tbody>\n",
       "</table>\n",
       "</div>"
      ],
      "text/plain": [
       "       product_id product_name  aisle_id  department_id  prices\n",
       "33             34          NaN       121             14    12.2\n",
       "68             69          NaN        26              7    11.8\n",
       "115           116          NaN        93              3    10.8\n",
       "261           262          NaN       110             13    12.1\n",
       "525           525          NaN       109             11     1.2\n",
       "1511         1511          NaN        84             16    14.3\n",
       "1780         1780          NaN       126             11    12.3\n",
       "2240         2240          NaN        52              1    14.2\n",
       "2586         2586          NaN       104             13    12.4\n",
       "3159         3159          NaN       126             11    13.1\n",
       "3230         3230          NaN       120             16    14.4\n",
       "3736         3736          NaN        41              8    14.8\n",
       "4283         4283          NaN        77              7    14.4\n",
       "4790         4790          NaN        91             16    14.5\n",
       "38187       38183          NaN        39             12    20.9\n",
       "40444       40440          NaN       120             16    14.8"
      ]
     },
     "execution_count": 25,
     "metadata": {},
     "output_type": "execute_result"
    }
   ],
   "source": [
    "df_nan"
   ]
  },
  {
   "cell_type": "markdown",
   "id": "33b0dce9",
   "metadata": {},
   "source": [
    "# Addressing missing values"
   ]
  },
  {
   "cell_type": "code",
   "execution_count": 26,
   "id": "4ba00d65",
   "metadata": {},
   "outputs": [],
   "source": [
    "# There are several ways to deal with missing data:\n",
    "# 1. Create a new variable that acts like a flag based on the missing value\n",
    "# 2. Impute the value with the mean or median of the column (if the variable is numeric)\n",
    "# 3. Remove or filter out the missing data"
   ]
  },
  {
   "cell_type": "code",
   "execution_count": 27,
   "id": "21a64d0b",
   "metadata": {},
   "outputs": [],
   "source": [
    "# Looking at df_nan it's clear imputation isn't an option because the data-type is a string\n",
    "# You can either remove the missing values entirely or filter the non-missing values into a subset dataframe"
   ]
  },
  {
   "cell_type": "code",
   "execution_count": 28,
   "id": "1ac5a4ec",
   "metadata": {},
   "outputs": [
    {
     "data": {
      "text/plain": [
       "(49693, 5)"
      ]
     },
     "execution_count": 28,
     "metadata": {},
     "output_type": "execute_result"
    }
   ],
   "source": [
    "# Compare the number of rows in the current dataframe with the number in your subset once the missing rows are removed\n",
    "df_prods.shape"
   ]
  },
  {
   "cell_type": "code",
   "execution_count": 29,
   "id": "264d6f0c",
   "metadata": {},
   "outputs": [],
   "source": [
    "# Create a new dataframe, setting the 'isnull()' condition to False so that only non-missing values are present\n",
    "df_prods_clean = df_prods[df_prods['product_name'].isnull() == False]"
   ]
  },
  {
   "cell_type": "code",
   "execution_count": 30,
   "id": "c6043df3",
   "metadata": {},
   "outputs": [
    {
     "data": {
      "text/plain": [
       "(49677, 5)"
      ]
     },
     "execution_count": 30,
     "metadata": {},
     "output_type": "execute_result"
    }
   ],
   "source": [
    "# Check the number of rows again to make sure it descreased\n",
    "df_prods_clean.shape"
   ]
  },
  {
   "cell_type": "code",
   "execution_count": 31,
   "id": "55864796",
   "metadata": {},
   "outputs": [],
   "source": [
    "# To drop only NaNs from a particular column use the following command\n",
    "df_prods.dropna(subset = ['product_name'], inplace = True)"
   ]
  },
  {
   "cell_type": "code",
   "execution_count": 32,
   "id": "1de2823c",
   "metadata": {},
   "outputs": [
    {
     "data": {
      "text/plain": [
       "product_id       0\n",
       "product_name     0\n",
       "aisle_id         0\n",
       "department_id    0\n",
       "prices           0\n",
       "dtype: int64"
      ]
     },
     "execution_count": 32,
     "metadata": {},
     "output_type": "execute_result"
    }
   ],
   "source": [
    "df_prods.isnull().sum()"
   ]
  },
  {
   "cell_type": "markdown",
   "id": "a141a5db",
   "metadata": {},
   "source": [
    "# 5. Duplicates"
   ]
  },
  {
   "cell_type": "code",
   "execution_count": 33,
   "id": "39cfd0b4",
   "metadata": {},
   "outputs": [],
   "source": [
    "# Look for full duplicates within the dataframe\n",
    "df_dups = df_prods_clean[df_prods_clean.duplicated()]"
   ]
  },
  {
   "cell_type": "code",
   "execution_count": 34,
   "id": "c2f01dc7",
   "metadata": {},
   "outputs": [
    {
     "data": {
      "text/html": [
       "<div>\n",
       "<style scoped>\n",
       "    .dataframe tbody tr th:only-of-type {\n",
       "        vertical-align: middle;\n",
       "    }\n",
       "\n",
       "    .dataframe tbody tr th {\n",
       "        vertical-align: top;\n",
       "    }\n",
       "\n",
       "    .dataframe thead th {\n",
       "        text-align: right;\n",
       "    }\n",
       "</style>\n",
       "<table border=\"1\" class=\"dataframe\">\n",
       "  <thead>\n",
       "    <tr style=\"text-align: right;\">\n",
       "      <th></th>\n",
       "      <th>product_id</th>\n",
       "      <th>product_name</th>\n",
       "      <th>aisle_id</th>\n",
       "      <th>department_id</th>\n",
       "      <th>prices</th>\n",
       "    </tr>\n",
       "  </thead>\n",
       "  <tbody>\n",
       "    <tr>\n",
       "      <th>462</th>\n",
       "      <td>462</td>\n",
       "      <td>Fiber 4g Gummy Dietary Supplement</td>\n",
       "      <td>70</td>\n",
       "      <td>11</td>\n",
       "      <td>4.8</td>\n",
       "    </tr>\n",
       "    <tr>\n",
       "      <th>18459</th>\n",
       "      <td>18458</td>\n",
       "      <td>Ranger IPA</td>\n",
       "      <td>27</td>\n",
       "      <td>5</td>\n",
       "      <td>9.2</td>\n",
       "    </tr>\n",
       "    <tr>\n",
       "      <th>26810</th>\n",
       "      <td>26808</td>\n",
       "      <td>Black House Coffee Roasty Stout Beer</td>\n",
       "      <td>27</td>\n",
       "      <td>5</td>\n",
       "      <td>13.4</td>\n",
       "    </tr>\n",
       "    <tr>\n",
       "      <th>35309</th>\n",
       "      <td>35306</td>\n",
       "      <td>Gluten Free Organic Peanut Butter &amp; Chocolate ...</td>\n",
       "      <td>121</td>\n",
       "      <td>14</td>\n",
       "      <td>6.8</td>\n",
       "    </tr>\n",
       "    <tr>\n",
       "      <th>35495</th>\n",
       "      <td>35491</td>\n",
       "      <td>Adore Forever Body Wash</td>\n",
       "      <td>127</td>\n",
       "      <td>11</td>\n",
       "      <td>9.9</td>\n",
       "    </tr>\n",
       "  </tbody>\n",
       "</table>\n",
       "</div>"
      ],
      "text/plain": [
       "       product_id                                       product_name  \\\n",
       "462           462                  Fiber 4g Gummy Dietary Supplement   \n",
       "18459       18458                                         Ranger IPA   \n",
       "26810       26808               Black House Coffee Roasty Stout Beer   \n",
       "35309       35306  Gluten Free Organic Peanut Butter & Chocolate ...   \n",
       "35495       35491                            Adore Forever Body Wash   \n",
       "\n",
       "       aisle_id  department_id  prices  \n",
       "462          70             11     4.8  \n",
       "18459        27              5     9.2  \n",
       "26810        27              5    13.4  \n",
       "35309       121             14     6.8  \n",
       "35495       127             11     9.9  "
      ]
     },
     "execution_count": 34,
     "metadata": {},
     "output_type": "execute_result"
    }
   ],
   "source": [
    "df_dups"
   ]
  },
  {
   "cell_type": "markdown",
   "id": "79b6c952",
   "metadata": {},
   "source": [
    "# 6. Addressing Duplicates"
   ]
  },
  {
   "cell_type": "code",
   "execution_count": 35,
   "id": "c824be49",
   "metadata": {},
   "outputs": [
    {
     "data": {
      "text/plain": [
       "(49677, 5)"
      ]
     },
     "execution_count": 35,
     "metadata": {},
     "output_type": "execute_result"
    }
   ],
   "source": [
    "#Remove duplicates using 'df.drop_duplicates()' \n",
    "#Row count of df_prods_clean before duplicate removal\n",
    "df_prods_clean.shape"
   ]
  },
  {
   "cell_type": "code",
   "execution_count": 36,
   "id": "c3c54afb",
   "metadata": {},
   "outputs": [],
   "source": [
    "# Create a new dataframe that does not include duplicates \n",
    "df_prods_clean_no_dups = df_prods_clean.drop_duplicates()"
   ]
  },
  {
   "cell_type": "code",
   "execution_count": 37,
   "id": "e268bd88",
   "metadata": {},
   "outputs": [
    {
     "data": {
      "text/plain": [
       "(49672, 5)"
      ]
     },
     "execution_count": 37,
     "metadata": {},
     "output_type": "execute_result"
    }
   ],
   "source": [
    "#Row count of df_prods_clean after duplicate removal\n",
    "df_prods_clean_no_dups.shape"
   ]
  },
  {
   "cell_type": "markdown",
   "id": "a505be84",
   "metadata": {},
   "source": [
    "# 7. Tidying up & exporting changes"
   ]
  },
  {
   "cell_type": "code",
   "execution_count": 38,
   "id": "fcc7d268",
   "metadata": {},
   "outputs": [],
   "source": [
    "df_prods_clean_no_dups.to_csv(os.path.join(path, '02 Data', 'Prepared Data', 'products_checked.csv'))"
   ]
  },
  {
   "cell_type": "markdown",
   "id": "dfef48e9",
   "metadata": {},
   "source": [
    "# Task"
   ]
  },
  {
   "cell_type": "markdown",
   "id": "a0d06429",
   "metadata": {},
   "source": [
    "# 2. Run df.describe()"
   ]
  },
  {
   "cell_type": "code",
   "execution_count": 39,
   "id": "940aeff3",
   "metadata": {},
   "outputs": [
    {
     "data": {
      "text/html": [
       "<div>\n",
       "<style scoped>\n",
       "    .dataframe tbody tr th:only-of-type {\n",
       "        vertical-align: middle;\n",
       "    }\n",
       "\n",
       "    .dataframe tbody tr th {\n",
       "        vertical-align: top;\n",
       "    }\n",
       "\n",
       "    .dataframe thead th {\n",
       "        text-align: right;\n",
       "    }\n",
       "</style>\n",
       "<table border=\"1\" class=\"dataframe\">\n",
       "  <thead>\n",
       "    <tr style=\"text-align: right;\">\n",
       "      <th></th>\n",
       "      <th>order_id</th>\n",
       "      <th>user_id</th>\n",
       "      <th>order_number</th>\n",
       "      <th>order_dow</th>\n",
       "      <th>order_hour_of_day</th>\n",
       "      <th>days_since_prior_order</th>\n",
       "    </tr>\n",
       "  </thead>\n",
       "  <tbody>\n",
       "    <tr>\n",
       "      <th>count</th>\n",
       "      <td>3.421083e+06</td>\n",
       "      <td>3.421083e+06</td>\n",
       "      <td>3.421083e+06</td>\n",
       "      <td>3.421083e+06</td>\n",
       "      <td>3.421083e+06</td>\n",
       "      <td>3.214874e+06</td>\n",
       "    </tr>\n",
       "    <tr>\n",
       "      <th>mean</th>\n",
       "      <td>1.710542e+06</td>\n",
       "      <td>1.029782e+05</td>\n",
       "      <td>1.715486e+01</td>\n",
       "      <td>2.776219e+00</td>\n",
       "      <td>1.345202e+01</td>\n",
       "      <td>1.111484e+01</td>\n",
       "    </tr>\n",
       "    <tr>\n",
       "      <th>std</th>\n",
       "      <td>9.875817e+05</td>\n",
       "      <td>5.953372e+04</td>\n",
       "      <td>1.773316e+01</td>\n",
       "      <td>2.046829e+00</td>\n",
       "      <td>4.226088e+00</td>\n",
       "      <td>9.206737e+00</td>\n",
       "    </tr>\n",
       "    <tr>\n",
       "      <th>min</th>\n",
       "      <td>1.000000e+00</td>\n",
       "      <td>1.000000e+00</td>\n",
       "      <td>1.000000e+00</td>\n",
       "      <td>0.000000e+00</td>\n",
       "      <td>0.000000e+00</td>\n",
       "      <td>0.000000e+00</td>\n",
       "    </tr>\n",
       "    <tr>\n",
       "      <th>25%</th>\n",
       "      <td>8.552715e+05</td>\n",
       "      <td>5.139400e+04</td>\n",
       "      <td>5.000000e+00</td>\n",
       "      <td>1.000000e+00</td>\n",
       "      <td>1.000000e+01</td>\n",
       "      <td>4.000000e+00</td>\n",
       "    </tr>\n",
       "    <tr>\n",
       "      <th>50%</th>\n",
       "      <td>1.710542e+06</td>\n",
       "      <td>1.026890e+05</td>\n",
       "      <td>1.100000e+01</td>\n",
       "      <td>3.000000e+00</td>\n",
       "      <td>1.300000e+01</td>\n",
       "      <td>7.000000e+00</td>\n",
       "    </tr>\n",
       "    <tr>\n",
       "      <th>75%</th>\n",
       "      <td>2.565812e+06</td>\n",
       "      <td>1.543850e+05</td>\n",
       "      <td>2.300000e+01</td>\n",
       "      <td>5.000000e+00</td>\n",
       "      <td>1.600000e+01</td>\n",
       "      <td>1.500000e+01</td>\n",
       "    </tr>\n",
       "    <tr>\n",
       "      <th>max</th>\n",
       "      <td>3.421083e+06</td>\n",
       "      <td>2.062090e+05</td>\n",
       "      <td>1.000000e+02</td>\n",
       "      <td>6.000000e+00</td>\n",
       "      <td>2.300000e+01</td>\n",
       "      <td>3.000000e+01</td>\n",
       "    </tr>\n",
       "  </tbody>\n",
       "</table>\n",
       "</div>"
      ],
      "text/plain": [
       "           order_id       user_id  order_number     order_dow  \\\n",
       "count  3.421083e+06  3.421083e+06  3.421083e+06  3.421083e+06   \n",
       "mean   1.710542e+06  1.029782e+05  1.715486e+01  2.776219e+00   \n",
       "std    9.875817e+05  5.953372e+04  1.773316e+01  2.046829e+00   \n",
       "min    1.000000e+00  1.000000e+00  1.000000e+00  0.000000e+00   \n",
       "25%    8.552715e+05  5.139400e+04  5.000000e+00  1.000000e+00   \n",
       "50%    1.710542e+06  1.026890e+05  1.100000e+01  3.000000e+00   \n",
       "75%    2.565812e+06  1.543850e+05  2.300000e+01  5.000000e+00   \n",
       "max    3.421083e+06  2.062090e+05  1.000000e+02  6.000000e+00   \n",
       "\n",
       "       order_hour_of_day  days_since_prior_order  \n",
       "count       3.421083e+06            3.214874e+06  \n",
       "mean        1.345202e+01            1.111484e+01  \n",
       "std         4.226088e+00            9.206737e+00  \n",
       "min         0.000000e+00            0.000000e+00  \n",
       "25%         1.000000e+01            4.000000e+00  \n",
       "50%         1.300000e+01            7.000000e+00  \n",
       "75%         1.600000e+01            1.500000e+01  \n",
       "max         2.300000e+01            3.000000e+01  "
      ]
     },
     "execution_count": 39,
     "metadata": {},
     "output_type": "execute_result"
    }
   ],
   "source": [
    "df_ords.describe()"
   ]
  },
  {
   "cell_type": "code",
   "execution_count": 40,
   "id": "5623d751",
   "metadata": {},
   "outputs": [],
   "source": [
    "#Examine 'order_number', 'orders_day_of_week', 'days_since_prior_order' for data insights.\n",
    "#'Order_number' peaks at 100, indicating a high volume within a certain period.\n",
    "#'Orders_day_of_week' ranges from 0 to 6, hinting at a zero-indexed week starting Monday or Sunday.\n",
    "#Treat 'order_id', 'user_id', 'order_number' as strings, not numbers, for data integrity.\n",
    "#Zeros in 'days_since_prior_order' imply same-day orders or initial customer orders.\n",
    "#Lower counts in 'days_since_prior_order' may point to data omissions.\n",
    "#A 30-day cap on 'days_since_prior_order' suggests a monthly ordering cycle."
   ]
  },
  {
   "cell_type": "markdown",
   "id": "9b037142",
   "metadata": {},
   "source": [
    "# 3. Check for Mixed-data type"
   ]
  },
  {
   "cell_type": "code",
   "execution_count": 41,
   "id": "b0705a13",
   "metadata": {},
   "outputs": [],
   "source": [
    "# Check for any mixed-type columns\n",
    "for col in df_ords.columns.tolist():\n",
    "  weird = (df_ords[[col]].applymap(type) != df_ords[[col]].iloc[0].apply(type)).any(axis = 1)\n",
    "  if len (df_ords[weird]) > 0:\n",
    "         print (col)"
   ]
  },
  {
   "cell_type": "code",
   "execution_count": 42,
   "id": "74042c9f",
   "metadata": {},
   "outputs": [
    {
     "data": {
      "text/plain": [
       "order_id                    int64\n",
       "user_id                     int64\n",
       "order_number                int64\n",
       "order_dow                   int64\n",
       "order_hour_of_day           int64\n",
       "days_since_prior_order    float64\n",
       "dtype: object"
      ]
     },
     "execution_count": 42,
     "metadata": {},
     "output_type": "execute_result"
    }
   ],
   "source": [
    "df_ords.dtypes"
   ]
  },
  {
   "cell_type": "markdown",
   "id": "75b65ce0",
   "metadata": {},
   "source": [
    "# 4. No mixed data type present in df_ords"
   ]
  },
  {
   "cell_type": "markdown",
   "id": "16f5adfb",
   "metadata": {},
   "source": [
    "# 5. Check for missing values"
   ]
  },
  {
   "cell_type": "code",
   "execution_count": 43,
   "id": "2c6d47dd",
   "metadata": {},
   "outputs": [
    {
     "data": {
      "text/plain": [
       "order_id                       0\n",
       "user_id                        0\n",
       "order_number                   0\n",
       "order_dow                      0\n",
       "order_hour_of_day              0\n",
       "days_since_prior_order    206209\n",
       "dtype: int64"
      ]
     },
     "execution_count": 43,
     "metadata": {},
     "output_type": "execute_result"
    }
   ],
   "source": [
    "df_ords.isnull().sum()"
   ]
  },
  {
   "cell_type": "code",
   "execution_count": 44,
   "id": "2f8f8740",
   "metadata": {},
   "outputs": [],
   "source": [
    "# 'days_since_prior_order' column is missing 206209 values\n",
    "# Due to the large number of missing values, we should preserve it instead of removing"
   ]
  },
  {
   "cell_type": "markdown",
   "id": "71dc44dc",
   "metadata": {},
   "source": [
    "# 6. Address missing values"
   ]
  },
  {
   "cell_type": "code",
   "execution_count": 45,
   "id": "01090345",
   "metadata": {},
   "outputs": [],
   "source": [
    "# Create a subset of the data from the original dataframe\n",
    "df_ords_nan = df_ords[df_ords['days_since_prior_order'].isnull() == True]"
   ]
  },
  {
   "cell_type": "code",
   "execution_count": 46,
   "id": "15ac6dca",
   "metadata": {},
   "outputs": [
    {
     "data": {
      "text/html": [
       "<div>\n",
       "<style scoped>\n",
       "    .dataframe tbody tr th:only-of-type {\n",
       "        vertical-align: middle;\n",
       "    }\n",
       "\n",
       "    .dataframe tbody tr th {\n",
       "        vertical-align: top;\n",
       "    }\n",
       "\n",
       "    .dataframe thead th {\n",
       "        text-align: right;\n",
       "    }\n",
       "</style>\n",
       "<table border=\"1\" class=\"dataframe\">\n",
       "  <thead>\n",
       "    <tr style=\"text-align: right;\">\n",
       "      <th></th>\n",
       "      <th>order_id</th>\n",
       "      <th>user_id</th>\n",
       "      <th>order_number</th>\n",
       "      <th>order_dow</th>\n",
       "      <th>order_hour_of_day</th>\n",
       "      <th>days_since_prior_order</th>\n",
       "    </tr>\n",
       "  </thead>\n",
       "  <tbody>\n",
       "    <tr>\n",
       "      <th>0</th>\n",
       "      <td>2539329</td>\n",
       "      <td>1</td>\n",
       "      <td>1</td>\n",
       "      <td>2</td>\n",
       "      <td>8</td>\n",
       "      <td>NaN</td>\n",
       "    </tr>\n",
       "    <tr>\n",
       "      <th>11</th>\n",
       "      <td>2168274</td>\n",
       "      <td>2</td>\n",
       "      <td>1</td>\n",
       "      <td>2</td>\n",
       "      <td>11</td>\n",
       "      <td>NaN</td>\n",
       "    </tr>\n",
       "    <tr>\n",
       "      <th>26</th>\n",
       "      <td>1374495</td>\n",
       "      <td>3</td>\n",
       "      <td>1</td>\n",
       "      <td>1</td>\n",
       "      <td>14</td>\n",
       "      <td>NaN</td>\n",
       "    </tr>\n",
       "    <tr>\n",
       "      <th>39</th>\n",
       "      <td>3343014</td>\n",
       "      <td>4</td>\n",
       "      <td>1</td>\n",
       "      <td>6</td>\n",
       "      <td>11</td>\n",
       "      <td>NaN</td>\n",
       "    </tr>\n",
       "    <tr>\n",
       "      <th>45</th>\n",
       "      <td>2717275</td>\n",
       "      <td>5</td>\n",
       "      <td>1</td>\n",
       "      <td>3</td>\n",
       "      <td>12</td>\n",
       "      <td>NaN</td>\n",
       "    </tr>\n",
       "    <tr>\n",
       "      <th>...</th>\n",
       "      <td>...</td>\n",
       "      <td>...</td>\n",
       "      <td>...</td>\n",
       "      <td>...</td>\n",
       "      <td>...</td>\n",
       "      <td>...</td>\n",
       "    </tr>\n",
       "    <tr>\n",
       "      <th>3420930</th>\n",
       "      <td>969311</td>\n",
       "      <td>206205</td>\n",
       "      <td>1</td>\n",
       "      <td>4</td>\n",
       "      <td>12</td>\n",
       "      <td>NaN</td>\n",
       "    </tr>\n",
       "    <tr>\n",
       "      <th>3420934</th>\n",
       "      <td>3189322</td>\n",
       "      <td>206206</td>\n",
       "      <td>1</td>\n",
       "      <td>3</td>\n",
       "      <td>18</td>\n",
       "      <td>NaN</td>\n",
       "    </tr>\n",
       "    <tr>\n",
       "      <th>3421002</th>\n",
       "      <td>2166133</td>\n",
       "      <td>206207</td>\n",
       "      <td>1</td>\n",
       "      <td>6</td>\n",
       "      <td>19</td>\n",
       "      <td>NaN</td>\n",
       "    </tr>\n",
       "    <tr>\n",
       "      <th>3421019</th>\n",
       "      <td>2227043</td>\n",
       "      <td>206208</td>\n",
       "      <td>1</td>\n",
       "      <td>1</td>\n",
       "      <td>15</td>\n",
       "      <td>NaN</td>\n",
       "    </tr>\n",
       "    <tr>\n",
       "      <th>3421069</th>\n",
       "      <td>3154581</td>\n",
       "      <td>206209</td>\n",
       "      <td>1</td>\n",
       "      <td>3</td>\n",
       "      <td>11</td>\n",
       "      <td>NaN</td>\n",
       "    </tr>\n",
       "  </tbody>\n",
       "</table>\n",
       "<p>206209 rows × 6 columns</p>\n",
       "</div>"
      ],
      "text/plain": [
       "         order_id  user_id  order_number  order_dow  order_hour_of_day  \\\n",
       "0         2539329        1             1          2                  8   \n",
       "11        2168274        2             1          2                 11   \n",
       "26        1374495        3             1          1                 14   \n",
       "39        3343014        4             1          6                 11   \n",
       "45        2717275        5             1          3                 12   \n",
       "...           ...      ...           ...        ...                ...   \n",
       "3420930    969311   206205             1          4                 12   \n",
       "3420934   3189322   206206             1          3                 18   \n",
       "3421002   2166133   206207             1          6                 19   \n",
       "3421019   2227043   206208             1          1                 15   \n",
       "3421069   3154581   206209             1          3                 11   \n",
       "\n",
       "         days_since_prior_order  \n",
       "0                           NaN  \n",
       "11                          NaN  \n",
       "26                          NaN  \n",
       "39                          NaN  \n",
       "45                          NaN  \n",
       "...                         ...  \n",
       "3420930                     NaN  \n",
       "3420934                     NaN  \n",
       "3421002                     NaN  \n",
       "3421019                     NaN  \n",
       "3421069                     NaN  \n",
       "\n",
       "[206209 rows x 6 columns]"
      ]
     },
     "execution_count": 46,
     "metadata": {},
     "output_type": "execute_result"
    }
   ],
   "source": [
    "df_ords_nan"
   ]
  },
  {
   "cell_type": "code",
   "execution_count": 47,
   "id": "6271414b",
   "metadata": {},
   "outputs": [],
   "source": [
    "# Check whether all 'order_number' values equal to 1 correspond to missing values in 'days_since_prior_order' column\n",
    "# Filter the dataframe where 'order_number' equals 1\n",
    "df_first_orders = df_ords_nan[df_ords_nan['order_number'] == '1']"
   ]
  },
  {
   "cell_type": "code",
   "execution_count": 48,
   "id": "eae39aff",
   "metadata": {},
   "outputs": [],
   "source": [
    "# Check values in 'days_since_prior_order'\n",
    "df_first_orders_missing = df_first_orders['days_since_prior_order'].isna().all()"
   ]
  },
  {
   "cell_type": "code",
   "execution_count": 49,
   "id": "bf2b7d74",
   "metadata": {},
   "outputs": [
    {
     "name": "stdout",
     "output_type": "stream",
     "text": [
      "All first orders have missing 'days_since_prior_order': True\n"
     ]
    }
   ],
   "source": [
    "# Print result\n",
    "print(\"All first orders have missing 'days_since_prior_order':\", df_first_orders_missing) "
   ]
  },
  {
   "cell_type": "code",
   "execution_count": 50,
   "id": "8b54049b",
   "metadata": {},
   "outputs": [],
   "source": [
    "#Creating column to flag order numbers\n",
    "df_ords['first_order'] = df_ords['days_since_prior_order'].isna()"
   ]
  },
  {
   "cell_type": "code",
   "execution_count": 51,
   "id": "fbb7d6b6",
   "metadata": {},
   "outputs": [
    {
     "data": {
      "text/html": [
       "<div>\n",
       "<style scoped>\n",
       "    .dataframe tbody tr th:only-of-type {\n",
       "        vertical-align: middle;\n",
       "    }\n",
       "\n",
       "    .dataframe tbody tr th {\n",
       "        vertical-align: top;\n",
       "    }\n",
       "\n",
       "    .dataframe thead th {\n",
       "        text-align: right;\n",
       "    }\n",
       "</style>\n",
       "<table border=\"1\" class=\"dataframe\">\n",
       "  <thead>\n",
       "    <tr style=\"text-align: right;\">\n",
       "      <th></th>\n",
       "      <th>order_id</th>\n",
       "      <th>user_id</th>\n",
       "      <th>order_number</th>\n",
       "      <th>order_dow</th>\n",
       "      <th>order_hour_of_day</th>\n",
       "      <th>days_since_prior_order</th>\n",
       "      <th>first_order</th>\n",
       "    </tr>\n",
       "  </thead>\n",
       "  <tbody>\n",
       "    <tr>\n",
       "      <th>0</th>\n",
       "      <td>2539329</td>\n",
       "      <td>1</td>\n",
       "      <td>1</td>\n",
       "      <td>2</td>\n",
       "      <td>8</td>\n",
       "      <td>NaN</td>\n",
       "      <td>True</td>\n",
       "    </tr>\n",
       "    <tr>\n",
       "      <th>1</th>\n",
       "      <td>2398795</td>\n",
       "      <td>1</td>\n",
       "      <td>2</td>\n",
       "      <td>3</td>\n",
       "      <td>7</td>\n",
       "      <td>15.0</td>\n",
       "      <td>False</td>\n",
       "    </tr>\n",
       "    <tr>\n",
       "      <th>2</th>\n",
       "      <td>473747</td>\n",
       "      <td>1</td>\n",
       "      <td>3</td>\n",
       "      <td>3</td>\n",
       "      <td>12</td>\n",
       "      <td>21.0</td>\n",
       "      <td>False</td>\n",
       "    </tr>\n",
       "    <tr>\n",
       "      <th>3</th>\n",
       "      <td>2254736</td>\n",
       "      <td>1</td>\n",
       "      <td>4</td>\n",
       "      <td>4</td>\n",
       "      <td>7</td>\n",
       "      <td>29.0</td>\n",
       "      <td>False</td>\n",
       "    </tr>\n",
       "    <tr>\n",
       "      <th>4</th>\n",
       "      <td>431534</td>\n",
       "      <td>1</td>\n",
       "      <td>5</td>\n",
       "      <td>4</td>\n",
       "      <td>15</td>\n",
       "      <td>28.0</td>\n",
       "      <td>False</td>\n",
       "    </tr>\n",
       "    <tr>\n",
       "      <th>...</th>\n",
       "      <td>...</td>\n",
       "      <td>...</td>\n",
       "      <td>...</td>\n",
       "      <td>...</td>\n",
       "      <td>...</td>\n",
       "      <td>...</td>\n",
       "      <td>...</td>\n",
       "    </tr>\n",
       "    <tr>\n",
       "      <th>3421078</th>\n",
       "      <td>2266710</td>\n",
       "      <td>206209</td>\n",
       "      <td>10</td>\n",
       "      <td>5</td>\n",
       "      <td>18</td>\n",
       "      <td>29.0</td>\n",
       "      <td>False</td>\n",
       "    </tr>\n",
       "    <tr>\n",
       "      <th>3421079</th>\n",
       "      <td>1854736</td>\n",
       "      <td>206209</td>\n",
       "      <td>11</td>\n",
       "      <td>4</td>\n",
       "      <td>10</td>\n",
       "      <td>30.0</td>\n",
       "      <td>False</td>\n",
       "    </tr>\n",
       "    <tr>\n",
       "      <th>3421080</th>\n",
       "      <td>626363</td>\n",
       "      <td>206209</td>\n",
       "      <td>12</td>\n",
       "      <td>1</td>\n",
       "      <td>12</td>\n",
       "      <td>18.0</td>\n",
       "      <td>False</td>\n",
       "    </tr>\n",
       "    <tr>\n",
       "      <th>3421081</th>\n",
       "      <td>2977660</td>\n",
       "      <td>206209</td>\n",
       "      <td>13</td>\n",
       "      <td>1</td>\n",
       "      <td>12</td>\n",
       "      <td>7.0</td>\n",
       "      <td>False</td>\n",
       "    </tr>\n",
       "    <tr>\n",
       "      <th>3421082</th>\n",
       "      <td>272231</td>\n",
       "      <td>206209</td>\n",
       "      <td>14</td>\n",
       "      <td>6</td>\n",
       "      <td>14</td>\n",
       "      <td>30.0</td>\n",
       "      <td>False</td>\n",
       "    </tr>\n",
       "  </tbody>\n",
       "</table>\n",
       "<p>3421083 rows × 7 columns</p>\n",
       "</div>"
      ],
      "text/plain": [
       "         order_id  user_id  order_number  order_dow  order_hour_of_day  \\\n",
       "0         2539329        1             1          2                  8   \n",
       "1         2398795        1             2          3                  7   \n",
       "2          473747        1             3          3                 12   \n",
       "3         2254736        1             4          4                  7   \n",
       "4          431534        1             5          4                 15   \n",
       "...           ...      ...           ...        ...                ...   \n",
       "3421078   2266710   206209            10          5                 18   \n",
       "3421079   1854736   206209            11          4                 10   \n",
       "3421080    626363   206209            12          1                 12   \n",
       "3421081   2977660   206209            13          1                 12   \n",
       "3421082    272231   206209            14          6                 14   \n",
       "\n",
       "         days_since_prior_order  first_order  \n",
       "0                           NaN         True  \n",
       "1                          15.0        False  \n",
       "2                          21.0        False  \n",
       "3                          29.0        False  \n",
       "4                          28.0        False  \n",
       "...                         ...          ...  \n",
       "3421078                    29.0        False  \n",
       "3421079                    30.0        False  \n",
       "3421080                    18.0        False  \n",
       "3421081                     7.0        False  \n",
       "3421082                    30.0        False  \n",
       "\n",
       "[3421083 rows x 7 columns]"
      ]
     },
     "execution_count": 51,
     "metadata": {},
     "output_type": "execute_result"
    }
   ],
   "source": [
    "df_ords"
   ]
  },
  {
   "cell_type": "code",
   "execution_count": 52,
   "id": "9cf323c9",
   "metadata": {},
   "outputs": [
    {
     "data": {
      "text/plain": [
       "dtype('bool')"
      ]
     },
     "execution_count": 52,
     "metadata": {},
     "output_type": "execute_result"
    }
   ],
   "source": [
    "# Check data-type of new column and update if necessary\n",
    "df_ords['first_order'].dtype"
   ]
  },
  {
   "cell_type": "code",
   "execution_count": 53,
   "id": "e555e595",
   "metadata": {},
   "outputs": [
    {
     "data": {
      "text/plain": [
       "order_id                       0\n",
       "user_id                        0\n",
       "order_number                   0\n",
       "order_dow                      0\n",
       "order_hour_of_day              0\n",
       "days_since_prior_order    206209\n",
       "first_order                    0\n",
       "dtype: int64"
      ]
     },
     "execution_count": 53,
     "metadata": {},
     "output_type": "execute_result"
    }
   ],
   "source": [
    "# Re-check data to make sure totals are accurate\n",
    "df_ords.isnull().sum()"
   ]
  },
  {
   "cell_type": "markdown",
   "id": "7aa1bdfa",
   "metadata": {},
   "source": [
    "##### Missing values have been addressed, by creating a column that flags order numbers as either True/False. Removing/filtering these values would not be correct as the missing data is relevant information. "
   ]
  },
  {
   "cell_type": "markdown",
   "id": "b7e1f027",
   "metadata": {},
   "source": [
    "# 7. Check for duplicate values in df_ords data"
   ]
  },
  {
   "cell_type": "code",
   "execution_count": 54,
   "id": "afeca2f2",
   "metadata": {},
   "outputs": [],
   "source": [
    "df_ords_dup = df_ords[df_ords.duplicated()]"
   ]
  },
  {
   "cell_type": "code",
   "execution_count": 55,
   "id": "dd7ad675",
   "metadata": {},
   "outputs": [
    {
     "data": {
      "text/html": [
       "<div>\n",
       "<style scoped>\n",
       "    .dataframe tbody tr th:only-of-type {\n",
       "        vertical-align: middle;\n",
       "    }\n",
       "\n",
       "    .dataframe tbody tr th {\n",
       "        vertical-align: top;\n",
       "    }\n",
       "\n",
       "    .dataframe thead th {\n",
       "        text-align: right;\n",
       "    }\n",
       "</style>\n",
       "<table border=\"1\" class=\"dataframe\">\n",
       "  <thead>\n",
       "    <tr style=\"text-align: right;\">\n",
       "      <th></th>\n",
       "      <th>order_id</th>\n",
       "      <th>user_id</th>\n",
       "      <th>order_number</th>\n",
       "      <th>order_dow</th>\n",
       "      <th>order_hour_of_day</th>\n",
       "      <th>days_since_prior_order</th>\n",
       "      <th>first_order</th>\n",
       "    </tr>\n",
       "  </thead>\n",
       "  <tbody>\n",
       "  </tbody>\n",
       "</table>\n",
       "</div>"
      ],
      "text/plain": [
       "Empty DataFrame\n",
       "Columns: [order_id, user_id, order_number, order_dow, order_hour_of_day, days_since_prior_order, first_order]\n",
       "Index: []"
      ]
     },
     "execution_count": 55,
     "metadata": {},
     "output_type": "execute_result"
    }
   ],
   "source": [
    "df_ords_dup"
   ]
  },
  {
   "cell_type": "markdown",
   "id": "7fa9583e",
   "metadata": {},
   "source": [
    "#### There are no Duplicates in the df_ords data frame."
   ]
  },
  {
   "cell_type": "markdown",
   "id": "825ac858",
   "metadata": {},
   "source": [
    "# 8. Address the duplicates"
   ]
  },
  {
   "cell_type": "code",
   "execution_count": 56,
   "id": "6dc46b07",
   "metadata": {},
   "outputs": [
    {
     "data": {
      "text/html": [
       "<div>\n",
       "<style scoped>\n",
       "    .dataframe tbody tr th:only-of-type {\n",
       "        vertical-align: middle;\n",
       "    }\n",
       "\n",
       "    .dataframe tbody tr th {\n",
       "        vertical-align: top;\n",
       "    }\n",
       "\n",
       "    .dataframe thead th {\n",
       "        text-align: right;\n",
       "    }\n",
       "</style>\n",
       "<table border=\"1\" class=\"dataframe\">\n",
       "  <thead>\n",
       "    <tr style=\"text-align: right;\">\n",
       "      <th></th>\n",
       "      <th>product_id</th>\n",
       "      <th>aisle_id</th>\n",
       "      <th>department_id</th>\n",
       "      <th>prices</th>\n",
       "    </tr>\n",
       "  </thead>\n",
       "  <tbody>\n",
       "    <tr>\n",
       "      <th>count</th>\n",
       "      <td>49672.000000</td>\n",
       "      <td>49672.000000</td>\n",
       "      <td>49672.000000</td>\n",
       "      <td>49672.000000</td>\n",
       "    </tr>\n",
       "    <tr>\n",
       "      <th>mean</th>\n",
       "      <td>24850.349775</td>\n",
       "      <td>67.762442</td>\n",
       "      <td>11.728942</td>\n",
       "      <td>9.993282</td>\n",
       "    </tr>\n",
       "    <tr>\n",
       "      <th>std</th>\n",
       "      <td>14340.705287</td>\n",
       "      <td>38.315784</td>\n",
       "      <td>5.850779</td>\n",
       "      <td>453.615536</td>\n",
       "    </tr>\n",
       "    <tr>\n",
       "      <th>min</th>\n",
       "      <td>1.000000</td>\n",
       "      <td>1.000000</td>\n",
       "      <td>1.000000</td>\n",
       "      <td>1.000000</td>\n",
       "    </tr>\n",
       "    <tr>\n",
       "      <th>25%</th>\n",
       "      <td>12432.750000</td>\n",
       "      <td>35.000000</td>\n",
       "      <td>7.000000</td>\n",
       "      <td>4.100000</td>\n",
       "    </tr>\n",
       "    <tr>\n",
       "      <th>50%</th>\n",
       "      <td>24850.500000</td>\n",
       "      <td>69.000000</td>\n",
       "      <td>13.000000</td>\n",
       "      <td>7.100000</td>\n",
       "    </tr>\n",
       "    <tr>\n",
       "      <th>75%</th>\n",
       "      <td>37268.250000</td>\n",
       "      <td>100.000000</td>\n",
       "      <td>17.000000</td>\n",
       "      <td>11.100000</td>\n",
       "    </tr>\n",
       "    <tr>\n",
       "      <th>max</th>\n",
       "      <td>49688.000000</td>\n",
       "      <td>134.000000</td>\n",
       "      <td>21.000000</td>\n",
       "      <td>99999.000000</td>\n",
       "    </tr>\n",
       "  </tbody>\n",
       "</table>\n",
       "</div>"
      ],
      "text/plain": [
       "         product_id      aisle_id  department_id        prices\n",
       "count  49672.000000  49672.000000   49672.000000  49672.000000\n",
       "mean   24850.349775     67.762442      11.728942      9.993282\n",
       "std    14340.705287     38.315784       5.850779    453.615536\n",
       "min        1.000000      1.000000       1.000000      1.000000\n",
       "25%    12432.750000     35.000000       7.000000      4.100000\n",
       "50%    24850.500000     69.000000      13.000000      7.100000\n",
       "75%    37268.250000    100.000000      17.000000     11.100000\n",
       "max    49688.000000    134.000000      21.000000  99999.000000"
      ]
     },
     "execution_count": 56,
     "metadata": {},
     "output_type": "execute_result"
    }
   ],
   "source": [
    "df_prods_clean_no_dups.describe()"
   ]
  },
  {
   "cell_type": "markdown",
   "id": "ab955944",
   "metadata": {},
   "source": [
    "#### No duplicates."
   ]
  },
  {
   "cell_type": "markdown",
   "id": "c761dbeb",
   "metadata": {},
   "source": []
  },
  {
   "cell_type": "code",
   "execution_count": 57,
   "id": "f13097f1",
   "metadata": {},
   "outputs": [],
   "source": []
  },
  {
   "cell_type": "markdown",
   "id": "3d2400f2",
   "metadata": {},
   "source": [
    "# Revision 8. Address the duplicates"
   ]
  },
  {
   "cell_type": "code",
   "execution_count": 58,
   "id": "d9a6d0e2",
   "metadata": {},
   "outputs": [
    {
     "data": {
      "text/html": [
       "<div>\n",
       "<style scoped>\n",
       "    .dataframe tbody tr th:only-of-type {\n",
       "        vertical-align: middle;\n",
       "    }\n",
       "\n",
       "    .dataframe tbody tr th {\n",
       "        vertical-align: top;\n",
       "    }\n",
       "\n",
       "    .dataframe thead th {\n",
       "        text-align: right;\n",
       "    }\n",
       "</style>\n",
       "<table border=\"1\" class=\"dataframe\">\n",
       "  <thead>\n",
       "    <tr style=\"text-align: right;\">\n",
       "      <th></th>\n",
       "      <th>product_id</th>\n",
       "      <th>aisle_id</th>\n",
       "      <th>department_id</th>\n",
       "      <th>prices</th>\n",
       "    </tr>\n",
       "  </thead>\n",
       "  <tbody>\n",
       "    <tr>\n",
       "      <th>count</th>\n",
       "      <td>49672.000000</td>\n",
       "      <td>49672.000000</td>\n",
       "      <td>49672.000000</td>\n",
       "      <td>49672.000000</td>\n",
       "    </tr>\n",
       "    <tr>\n",
       "      <th>mean</th>\n",
       "      <td>24850.349775</td>\n",
       "      <td>67.762442</td>\n",
       "      <td>11.728942</td>\n",
       "      <td>9.993282</td>\n",
       "    </tr>\n",
       "    <tr>\n",
       "      <th>std</th>\n",
       "      <td>14340.705287</td>\n",
       "      <td>38.315784</td>\n",
       "      <td>5.850779</td>\n",
       "      <td>453.615536</td>\n",
       "    </tr>\n",
       "    <tr>\n",
       "      <th>min</th>\n",
       "      <td>1.000000</td>\n",
       "      <td>1.000000</td>\n",
       "      <td>1.000000</td>\n",
       "      <td>1.000000</td>\n",
       "    </tr>\n",
       "    <tr>\n",
       "      <th>25%</th>\n",
       "      <td>12432.750000</td>\n",
       "      <td>35.000000</td>\n",
       "      <td>7.000000</td>\n",
       "      <td>4.100000</td>\n",
       "    </tr>\n",
       "    <tr>\n",
       "      <th>50%</th>\n",
       "      <td>24850.500000</td>\n",
       "      <td>69.000000</td>\n",
       "      <td>13.000000</td>\n",
       "      <td>7.100000</td>\n",
       "    </tr>\n",
       "    <tr>\n",
       "      <th>75%</th>\n",
       "      <td>37268.250000</td>\n",
       "      <td>100.000000</td>\n",
       "      <td>17.000000</td>\n",
       "      <td>11.100000</td>\n",
       "    </tr>\n",
       "    <tr>\n",
       "      <th>max</th>\n",
       "      <td>49688.000000</td>\n",
       "      <td>134.000000</td>\n",
       "      <td>21.000000</td>\n",
       "      <td>99999.000000</td>\n",
       "    </tr>\n",
       "  </tbody>\n",
       "</table>\n",
       "</div>"
      ],
      "text/plain": [
       "         product_id      aisle_id  department_id        prices\n",
       "count  49672.000000  49672.000000   49672.000000  49672.000000\n",
       "mean   24850.349775     67.762442      11.728942      9.993282\n",
       "std    14340.705287     38.315784       5.850779    453.615536\n",
       "min        1.000000      1.000000       1.000000      1.000000\n",
       "25%    12432.750000     35.000000       7.000000      4.100000\n",
       "50%    24850.500000     69.000000      13.000000      7.100000\n",
       "75%    37268.250000    100.000000      17.000000     11.100000\n",
       "max    49688.000000    134.000000      21.000000  99999.000000"
      ]
     },
     "execution_count": 58,
     "metadata": {},
     "output_type": "execute_result"
    }
   ],
   "source": [
    "df_prods_clean_no_dups.describe()"
   ]
  },
  {
   "cell_type": "markdown",
   "id": "759b2ea5",
   "metadata": {},
   "source": [
    "##### The maximum value in the 'prices' column is unusually high '99999'. It's likely such an extreme outlier is either a placeholder or and error\n",
    "##### The 'product_id' column has a maximum value of 49688. If 49672 is intended to represent an equal number of distinct products( from shape), this may indicate the presence of an error or the possibility of repeated entries."
   ]
  },
  {
   "cell_type": "code",
   "execution_count": 59,
   "id": "29e22536",
   "metadata": {},
   "outputs": [],
   "source": [
    "df_ords.to_csv(os.path.join(path, '02 Data', 'Prepared Data', 'orders_cleaned.csv'))"
   ]
  },
  {
   "cell_type": "code",
   "execution_count": 60,
   "id": "68f84221",
   "metadata": {},
   "outputs": [],
   "source": [
    "# Number of unique product ids\n",
    "df_unique_product_ids = df_prods_clean_no_dups['product_id'].nunique()"
   ]
  },
  {
   "cell_type": "code",
   "execution_count": 62,
   "id": "e28864f5",
   "metadata": {},
   "outputs": [
    {
     "name": "stdout",
     "output_type": "stream",
     "text": [
      "The number of unique product IDs: 49670\n"
     ]
    }
   ],
   "source": [
    "print(f\"The number of unique product IDs: {df_unique_product_ids}\")"
   ]
  },
  {
   "cell_type": "code",
   "execution_count": 64,
   "id": "cc1957aa",
   "metadata": {},
   "outputs": [],
   "source": [
    "# Check if product_id values are sequential & without gaps\n",
    "df_all_ids = set(range(1, df_prods_clean_no_dups['product_id'].max() + 1))"
   ]
  },
  {
   "cell_type": "code",
   "execution_count": 65,
   "id": "d488eed2",
   "metadata": {},
   "outputs": [],
   "source": [
    "# Create a set of actual ids in the dataframe\n",
    "df_actual_ids = set(df_prods_clean_no_dups['product_id'].unique())"
   ]
  },
  {
   "cell_type": "code",
   "execution_count": 66,
   "id": "039da705",
   "metadata": {},
   "outputs": [],
   "source": [
    "# Find any missing ids\n",
    "missing_ids = df_all_ids - df_actual_ids"
   ]
  },
  {
   "cell_type": "code",
   "execution_count": 67,
   "id": "87f09bf5",
   "metadata": {},
   "outputs": [
    {
     "name": "stdout",
     "output_type": "stream",
     "text": [
      "There are missing product IDs: [34, 69, 116, 262, 525, 1511, 1780, 2240, 2586, 3159, 3230, 3736, 4283, 4790, 6799, 26519, 38183, 40440]\n"
     ]
    }
   ],
   "source": [
    "if missing_ids:\n",
    "    print(f\"There are missing product IDs: {sorted(missing_ids)}\")\n",
    "else:\n",
    "    print(\"No missing product IDs; they are sequential.\")"
   ]
  },
  {
   "cell_type": "code",
   "execution_count": 68,
   "id": "6af64780",
   "metadata": {},
   "outputs": [],
   "source": [
    "# The maximum value of 99999 also needs to be investigated\n",
    "outliers = df_prods_clean_no_dups[df_prods_clean_no_dups['prices'] == 99999]"
   ]
  },
  {
   "cell_type": "code",
   "execution_count": 69,
   "id": "17167e61",
   "metadata": {},
   "outputs": [
    {
     "name": "stdout",
     "output_type": "stream",
     "text": [
      "       product_id           product_name  aisle_id  department_id   prices\n",
      "33666       33664  2 % Reduced Fat  Milk        84             16  99999.0\n"
     ]
    }
   ],
   "source": [
    "print(outliers)"
   ]
  },
  {
   "cell_type": "code",
   "execution_count": 72,
   "id": "2e0260e9",
   "metadata": {},
   "outputs": [],
   "source": [
    "# Removing the error since price is skewed.\n",
    "df_prods_extra_clean_no_dups = df_prods_clean_no_dups[df_prods_clean_no_dups['prices'] != 99999]"
   ]
  },
  {
   "cell_type": "code",
   "execution_count": 73,
   "id": "cca8b78d",
   "metadata": {},
   "outputs": [
    {
     "data": {
      "text/html": [
       "<div>\n",
       "<style scoped>\n",
       "    .dataframe tbody tr th:only-of-type {\n",
       "        vertical-align: middle;\n",
       "    }\n",
       "\n",
       "    .dataframe tbody tr th {\n",
       "        vertical-align: top;\n",
       "    }\n",
       "\n",
       "    .dataframe thead th {\n",
       "        text-align: right;\n",
       "    }\n",
       "</style>\n",
       "<table border=\"1\" class=\"dataframe\">\n",
       "  <thead>\n",
       "    <tr style=\"text-align: right;\">\n",
       "      <th></th>\n",
       "      <th>product_id</th>\n",
       "      <th>aisle_id</th>\n",
       "      <th>department_id</th>\n",
       "      <th>prices</th>\n",
       "    </tr>\n",
       "  </thead>\n",
       "  <tbody>\n",
       "    <tr>\n",
       "      <th>count</th>\n",
       "      <td>49671.000000</td>\n",
       "      <td>49671.000000</td>\n",
       "      <td>49671.000000</td>\n",
       "      <td>49671.000000</td>\n",
       "    </tr>\n",
       "    <tr>\n",
       "      <th>mean</th>\n",
       "      <td>24850.172334</td>\n",
       "      <td>67.762115</td>\n",
       "      <td>11.728856</td>\n",
       "      <td>7.980256</td>\n",
       "    </tr>\n",
       "    <tr>\n",
       "      <th>std</th>\n",
       "      <td>14340.795118</td>\n",
       "      <td>38.316100</td>\n",
       "      <td>5.850806</td>\n",
       "      <td>66.952504</td>\n",
       "    </tr>\n",
       "    <tr>\n",
       "      <th>min</th>\n",
       "      <td>1.000000</td>\n",
       "      <td>1.000000</td>\n",
       "      <td>1.000000</td>\n",
       "      <td>1.000000</td>\n",
       "    </tr>\n",
       "    <tr>\n",
       "      <th>25%</th>\n",
       "      <td>12432.500000</td>\n",
       "      <td>35.000000</td>\n",
       "      <td>7.000000</td>\n",
       "      <td>4.100000</td>\n",
       "    </tr>\n",
       "    <tr>\n",
       "      <th>50%</th>\n",
       "      <td>24850.000000</td>\n",
       "      <td>69.000000</td>\n",
       "      <td>13.000000</td>\n",
       "      <td>7.100000</td>\n",
       "    </tr>\n",
       "    <tr>\n",
       "      <th>75%</th>\n",
       "      <td>37268.500000</td>\n",
       "      <td>100.000000</td>\n",
       "      <td>17.000000</td>\n",
       "      <td>11.100000</td>\n",
       "    </tr>\n",
       "    <tr>\n",
       "      <th>max</th>\n",
       "      <td>49688.000000</td>\n",
       "      <td>134.000000</td>\n",
       "      <td>21.000000</td>\n",
       "      <td>14900.000000</td>\n",
       "    </tr>\n",
       "  </tbody>\n",
       "</table>\n",
       "</div>"
      ],
      "text/plain": [
       "         product_id      aisle_id  department_id        prices\n",
       "count  49671.000000  49671.000000   49671.000000  49671.000000\n",
       "mean   24850.172334     67.762115      11.728856      7.980256\n",
       "std    14340.795118     38.316100       5.850806     66.952504\n",
       "min        1.000000      1.000000       1.000000      1.000000\n",
       "25%    12432.500000     35.000000       7.000000      4.100000\n",
       "50%    24850.000000     69.000000      13.000000      7.100000\n",
       "75%    37268.500000    100.000000      17.000000     11.100000\n",
       "max    49688.000000    134.000000      21.000000  14900.000000"
      ]
     },
     "execution_count": 73,
     "metadata": {},
     "output_type": "execute_result"
    }
   ],
   "source": [
    "df_prods_extra_clean_no_dups.describe()"
   ]
  },
  {
   "cell_type": "code",
   "execution_count": 74,
   "id": "7f280457",
   "metadata": {},
   "outputs": [],
   "source": [
    "# Investigating the rows with the highest prices to see the other outliers\n",
    "df_prods_sorted = df_prods_extra_clean_no_dups.sort_values(by='prices', ascending=False)"
   ]
  },
  {
   "cell_type": "code",
   "execution_count": 75,
   "id": "e6392ffb",
   "metadata": {},
   "outputs": [],
   "source": [
    "top_priced_products = df_prods_sorted.head()"
   ]
  },
  {
   "cell_type": "code",
   "execution_count": 76,
   "id": "63e9a327",
   "metadata": {},
   "outputs": [
    {
     "name": "stdout",
     "output_type": "stream",
     "text": [
      "       product_id                      product_name  aisle_id  department_id  \\\n",
      "21554       21553  Lowfat 2% Milkfat Cottage Cheese       108             16   \n",
      "9020         9020  Boneless Skinless Chicken Thighs        35             12   \n",
      "40490       40486                   Chicken Tenders        49             12   \n",
      "21468       21467            Wild Caught Raw Shrimp        15             12   \n",
      "25580       25579     Naturally Smoked Trout Fillet        15             12   \n",
      "\n",
      "        prices  \n",
      "21554  14900.0  \n",
      "9020      25.0  \n",
      "40490     25.0  \n",
      "21468     25.0  \n",
      "25580     25.0  \n"
     ]
    }
   ],
   "source": [
    "print(top_priced_products)"
   ]
  },
  {
   "cell_type": "markdown",
   "id": "6828298a",
   "metadata": {},
   "source": [
    "#### Product priced 14900  must be removed as the outlier."
   ]
  },
  {
   "cell_type": "code",
   "execution_count": 77,
   "id": "fb6c4970",
   "metadata": {},
   "outputs": [],
   "source": [
    "# Remove Outlier\n",
    "df_prods_extra_clean_no_dups_2 = df_prods_extra_clean_no_dups[df_prods_extra_clean_no_dups['prices'] != 14900]"
   ]
  },
  {
   "cell_type": "code",
   "execution_count": 78,
   "id": "d5ebf5e4",
   "metadata": {
    "scrolled": true
   },
   "outputs": [
    {
     "data": {
      "text/html": [
       "<div>\n",
       "<style scoped>\n",
       "    .dataframe tbody tr th:only-of-type {\n",
       "        vertical-align: middle;\n",
       "    }\n",
       "\n",
       "    .dataframe tbody tr th {\n",
       "        vertical-align: top;\n",
       "    }\n",
       "\n",
       "    .dataframe thead th {\n",
       "        text-align: right;\n",
       "    }\n",
       "</style>\n",
       "<table border=\"1\" class=\"dataframe\">\n",
       "  <thead>\n",
       "    <tr style=\"text-align: right;\">\n",
       "      <th></th>\n",
       "      <th>product_id</th>\n",
       "      <th>aisle_id</th>\n",
       "      <th>department_id</th>\n",
       "      <th>prices</th>\n",
       "    </tr>\n",
       "  </thead>\n",
       "  <tbody>\n",
       "    <tr>\n",
       "      <th>count</th>\n",
       "      <td>49670.000000</td>\n",
       "      <td>49670.000000</td>\n",
       "      <td>49670.000000</td>\n",
       "      <td>49670.000000</td>\n",
       "    </tr>\n",
       "    <tr>\n",
       "      <th>mean</th>\n",
       "      <td>24850.238716</td>\n",
       "      <td>67.761305</td>\n",
       "      <td>11.728770</td>\n",
       "      <td>7.680437</td>\n",
       "    </tr>\n",
       "    <tr>\n",
       "      <th>std</th>\n",
       "      <td>14340.931850</td>\n",
       "      <td>38.316060</td>\n",
       "      <td>5.850834</td>\n",
       "      <td>4.199381</td>\n",
       "    </tr>\n",
       "    <tr>\n",
       "      <th>min</th>\n",
       "      <td>1.000000</td>\n",
       "      <td>1.000000</td>\n",
       "      <td>1.000000</td>\n",
       "      <td>1.000000</td>\n",
       "    </tr>\n",
       "    <tr>\n",
       "      <th>25%</th>\n",
       "      <td>12432.250000</td>\n",
       "      <td>35.000000</td>\n",
       "      <td>7.000000</td>\n",
       "      <td>4.100000</td>\n",
       "    </tr>\n",
       "    <tr>\n",
       "      <th>50%</th>\n",
       "      <td>24850.500000</td>\n",
       "      <td>69.000000</td>\n",
       "      <td>13.000000</td>\n",
       "      <td>7.100000</td>\n",
       "    </tr>\n",
       "    <tr>\n",
       "      <th>75%</th>\n",
       "      <td>37268.750000</td>\n",
       "      <td>100.000000</td>\n",
       "      <td>17.000000</td>\n",
       "      <td>11.100000</td>\n",
       "    </tr>\n",
       "    <tr>\n",
       "      <th>max</th>\n",
       "      <td>49688.000000</td>\n",
       "      <td>134.000000</td>\n",
       "      <td>21.000000</td>\n",
       "      <td>25.000000</td>\n",
       "    </tr>\n",
       "  </tbody>\n",
       "</table>\n",
       "</div>"
      ],
      "text/plain": [
       "         product_id      aisle_id  department_id        prices\n",
       "count  49670.000000  49670.000000   49670.000000  49670.000000\n",
       "mean   24850.238716     67.761305      11.728770      7.680437\n",
       "std    14340.931850     38.316060       5.850834      4.199381\n",
       "min        1.000000      1.000000       1.000000      1.000000\n",
       "25%    12432.250000     35.000000       7.000000      4.100000\n",
       "50%    24850.500000     69.000000      13.000000      7.100000\n",
       "75%    37268.750000    100.000000      17.000000     11.100000\n",
       "max    49688.000000    134.000000      21.000000     25.000000"
      ]
     },
     "execution_count": 78,
     "metadata": {},
     "output_type": "execute_result"
    }
   ],
   "source": [
    "df_prods_extra_clean_no_dups_2.describe()"
   ]
  },
  {
   "cell_type": "markdown",
   "id": "d046958d",
   "metadata": {},
   "source": [
    "#### Anomalies removed and descriptive statistics appears normal."
   ]
  },
  {
   "cell_type": "markdown",
   "id": "4aa8fbbe",
   "metadata": {},
   "source": [
    "# 9. Export "
   ]
  },
  {
   "cell_type": "code",
   "execution_count": 81,
   "id": "19225fcc",
   "metadata": {},
   "outputs": [],
   "source": [
    "# Export as Products re-checked & Orders_cleaned.csv\n",
    "df_ords_dup.to_csv(os.path.join(path, '02 Data', 'Prepared Data', 'products_re-checked.csv'))\n",
    "df_ords.to_csv(os.path.join(path, '02 Data', 'Prepared Data', 'orders_cleaned.csv'))"
   ]
  },
  {
   "cell_type": "code",
   "execution_count": null,
   "id": "06388f3c",
   "metadata": {},
   "outputs": [],
   "source": []
  }
 ],
 "metadata": {
  "kernelspec": {
   "display_name": "Python 3 (ipykernel)",
   "language": "python",
   "name": "python3"
  },
  "language_info": {
   "codemirror_mode": {
    "name": "ipython",
    "version": 3
   },
   "file_extension": ".py",
   "mimetype": "text/x-python",
   "name": "python",
   "nbconvert_exporter": "python",
   "pygments_lexer": "ipython3",
   "version": "3.9.13"
  }
 },
 "nbformat": 4,
 "nbformat_minor": 5
}
