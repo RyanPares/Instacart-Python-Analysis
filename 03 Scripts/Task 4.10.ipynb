{
 "cells": [
  {
   "cell_type": "markdown",
   "id": "32ecefe0",
   "metadata": {},
   "source": [
    "# Task 4.10"
   ]
  },
  {
   "cell_type": "markdown",
   "id": "1b4f41c1",
   "metadata": {},
   "source": [
    "# Contents"
   ]
  },
  {
   "cell_type": "markdown",
   "id": "ef99e5c2",
   "metadata": {},
   "source": [
    "# 1. Import Libraries & Dataframes\n",
    "# 2. Consider security implications & PII data\n",
    "# 3. Regional segmentation of data\n",
    "# 4. Difference in Spending habits between different regions in the U.S\n",
    "# 5. Exclusion flag for low-activity customers\n",
    "# 6. Customer profiling\n",
    "# 7. Aggregate max, mean, and min variables on a customer-profile level for usage frequency and expenditure\n",
    "# 8. Customer profiles compared with regions and departments"
   ]
  },
  {
   "cell_type": "markdown",
   "id": "4c504acc",
   "metadata": {},
   "source": [
    "# 1. Import Libraries & Dataframes"
   ]
  },
  {
   "cell_type": "code",
   "execution_count": 1,
   "id": "d01bf2f7",
   "metadata": {},
   "outputs": [],
   "source": [
    "# Import Libraries\n",
    "import pandas as pd\n",
    "import numpy as np\n",
    "import os\n",
    "import matplotlib.pyplot as plt\n",
    "import seaborn as sns\n",
    "import scipy"
   ]
  },
  {
   "cell_type": "code",
   "execution_count": 2,
   "id": "9c00a480",
   "metadata": {},
   "outputs": [],
   "source": [
    "# Set path\n",
    "path = r'C:\\Users\\PRAGMATIC\\Desktop\\Instacart Basket Analysis'"
   ]
  },
  {
   "cell_type": "code",
   "execution_count": 3,
   "id": "c92833fd",
   "metadata": {},
   "outputs": [],
   "source": [
    "# Import Order_Products_Customer (OPC) dataframes ()\n",
    "OPC_df = pd.read_pickle(os.path.join(path, '02 data' , 'prepared data' , 'ords_prods_cust_merge.pkl'))"
   ]
  },
  {
   "cell_type": "code",
   "execution_count": 4,
   "id": "19c89782",
   "metadata": {},
   "outputs": [
    {
     "data": {
      "text/plain": [
       "(32404859, 37)"
      ]
     },
     "execution_count": 4,
     "metadata": {},
     "output_type": "execute_result"
    }
   ],
   "source": [
    "# Check shape of data\n",
    "OPC_df.shape"
   ]
  },
  {
   "cell_type": "code",
   "execution_count": 5,
   "id": "6bb91448",
   "metadata": {},
   "outputs": [
    {
     "data": {
      "text/html": [
       "<div>\n",
       "<style scoped>\n",
       "    .dataframe tbody tr th:only-of-type {\n",
       "        vertical-align: middle;\n",
       "    }\n",
       "\n",
       "    .dataframe tbody tr th {\n",
       "        vertical-align: top;\n",
       "    }\n",
       "\n",
       "    .dataframe thead th {\n",
       "        text-align: right;\n",
       "    }\n",
       "</style>\n",
       "<table border=\"1\" class=\"dataframe\">\n",
       "  <thead>\n",
       "    <tr style=\"text-align: right;\">\n",
       "      <th></th>\n",
       "      <th>order_id</th>\n",
       "      <th>user_id</th>\n",
       "      <th>eval_set</th>\n",
       "      <th>order_number</th>\n",
       "      <th>order_dow</th>\n",
       "      <th>order_hour_of_day</th>\n",
       "      <th>days_since_prior_order</th>\n",
       "      <th>product_id</th>\n",
       "      <th>add_to_cart_order</th>\n",
       "      <th>reordered</th>\n",
       "      <th>...</th>\n",
       "      <th>First Name</th>\n",
       "      <th>Last Name</th>\n",
       "      <th>Gender</th>\n",
       "      <th>State</th>\n",
       "      <th>Age</th>\n",
       "      <th>Date Joined</th>\n",
       "      <th>Number of Dependents</th>\n",
       "      <th>Family Status</th>\n",
       "      <th>Income</th>\n",
       "      <th>region</th>\n",
       "    </tr>\n",
       "  </thead>\n",
       "  <tbody>\n",
       "    <tr>\n",
       "      <th>0</th>\n",
       "      <td>2539329</td>\n",
       "      <td>1</td>\n",
       "      <td>prior</td>\n",
       "      <td>1</td>\n",
       "      <td>2</td>\n",
       "      <td>8</td>\n",
       "      <td>NaN</td>\n",
       "      <td>196.0</td>\n",
       "      <td>1.0</td>\n",
       "      <td>0.0</td>\n",
       "      <td>...</td>\n",
       "      <td>Linda</td>\n",
       "      <td>Nguyen</td>\n",
       "      <td>Female</td>\n",
       "      <td>Alabama</td>\n",
       "      <td>31</td>\n",
       "      <td>2/17/2019</td>\n",
       "      <td>3</td>\n",
       "      <td>married</td>\n",
       "      <td>40423</td>\n",
       "      <td>South</td>\n",
       "    </tr>\n",
       "    <tr>\n",
       "      <th>1</th>\n",
       "      <td>2398795</td>\n",
       "      <td>1</td>\n",
       "      <td>prior</td>\n",
       "      <td>2</td>\n",
       "      <td>3</td>\n",
       "      <td>7</td>\n",
       "      <td>15.0</td>\n",
       "      <td>196.0</td>\n",
       "      <td>1.0</td>\n",
       "      <td>1.0</td>\n",
       "      <td>...</td>\n",
       "      <td>Linda</td>\n",
       "      <td>Nguyen</td>\n",
       "      <td>Female</td>\n",
       "      <td>Alabama</td>\n",
       "      <td>31</td>\n",
       "      <td>2/17/2019</td>\n",
       "      <td>3</td>\n",
       "      <td>married</td>\n",
       "      <td>40423</td>\n",
       "      <td>South</td>\n",
       "    </tr>\n",
       "    <tr>\n",
       "      <th>2</th>\n",
       "      <td>473747</td>\n",
       "      <td>1</td>\n",
       "      <td>prior</td>\n",
       "      <td>3</td>\n",
       "      <td>3</td>\n",
       "      <td>12</td>\n",
       "      <td>21.0</td>\n",
       "      <td>196.0</td>\n",
       "      <td>1.0</td>\n",
       "      <td>1.0</td>\n",
       "      <td>...</td>\n",
       "      <td>Linda</td>\n",
       "      <td>Nguyen</td>\n",
       "      <td>Female</td>\n",
       "      <td>Alabama</td>\n",
       "      <td>31</td>\n",
       "      <td>2/17/2019</td>\n",
       "      <td>3</td>\n",
       "      <td>married</td>\n",
       "      <td>40423</td>\n",
       "      <td>South</td>\n",
       "    </tr>\n",
       "    <tr>\n",
       "      <th>3</th>\n",
       "      <td>2254736</td>\n",
       "      <td>1</td>\n",
       "      <td>prior</td>\n",
       "      <td>4</td>\n",
       "      <td>4</td>\n",
       "      <td>7</td>\n",
       "      <td>29.0</td>\n",
       "      <td>196.0</td>\n",
       "      <td>1.0</td>\n",
       "      <td>1.0</td>\n",
       "      <td>...</td>\n",
       "      <td>Linda</td>\n",
       "      <td>Nguyen</td>\n",
       "      <td>Female</td>\n",
       "      <td>Alabama</td>\n",
       "      <td>31</td>\n",
       "      <td>2/17/2019</td>\n",
       "      <td>3</td>\n",
       "      <td>married</td>\n",
       "      <td>40423</td>\n",
       "      <td>South</td>\n",
       "    </tr>\n",
       "    <tr>\n",
       "      <th>4</th>\n",
       "      <td>431534</td>\n",
       "      <td>1</td>\n",
       "      <td>prior</td>\n",
       "      <td>5</td>\n",
       "      <td>4</td>\n",
       "      <td>15</td>\n",
       "      <td>28.0</td>\n",
       "      <td>196.0</td>\n",
       "      <td>1.0</td>\n",
       "      <td>1.0</td>\n",
       "      <td>...</td>\n",
       "      <td>Linda</td>\n",
       "      <td>Nguyen</td>\n",
       "      <td>Female</td>\n",
       "      <td>Alabama</td>\n",
       "      <td>31</td>\n",
       "      <td>2/17/2019</td>\n",
       "      <td>3</td>\n",
       "      <td>married</td>\n",
       "      <td>40423</td>\n",
       "      <td>South</td>\n",
       "    </tr>\n",
       "  </tbody>\n",
       "</table>\n",
       "<p>5 rows × 37 columns</p>\n",
       "</div>"
      ],
      "text/plain": [
       "   order_id  user_id eval_set  order_number  order_dow  order_hour_of_day  \\\n",
       "0   2539329        1    prior             1          2                  8   \n",
       "1   2398795        1    prior             2          3                  7   \n",
       "2    473747        1    prior             3          3                 12   \n",
       "3   2254736        1    prior             4          4                  7   \n",
       "4    431534        1    prior             5          4                 15   \n",
       "\n",
       "   days_since_prior_order  product_id  add_to_cart_order  reordered  ...  \\\n",
       "0                     NaN       196.0                1.0        0.0  ...   \n",
       "1                    15.0       196.0                1.0        1.0  ...   \n",
       "2                    21.0       196.0                1.0        1.0  ...   \n",
       "3                    29.0       196.0                1.0        1.0  ...   \n",
       "4                    28.0       196.0                1.0        1.0  ...   \n",
       "\n",
       "  First Name Last Name  Gender    State  Age Date Joined Number of Dependents  \\\n",
       "0      Linda    Nguyen  Female  Alabama   31   2/17/2019                    3   \n",
       "1      Linda    Nguyen  Female  Alabama   31   2/17/2019                    3   \n",
       "2      Linda    Nguyen  Female  Alabama   31   2/17/2019                    3   \n",
       "3      Linda    Nguyen  Female  Alabama   31   2/17/2019                    3   \n",
       "4      Linda    Nguyen  Female  Alabama   31   2/17/2019                    3   \n",
       "\n",
       "  Family Status Income region  \n",
       "0       married  40423  South  \n",
       "1       married  40423  South  \n",
       "2       married  40423  South  \n",
       "3       married  40423  South  \n",
       "4       married  40423  South  \n",
       "\n",
       "[5 rows x 37 columns]"
      ]
     },
     "execution_count": 5,
     "metadata": {},
     "output_type": "execute_result"
    }
   ],
   "source": [
    "OPC_df.head()"
   ]
  },
  {
   "cell_type": "markdown",
   "id": "9e86e21b",
   "metadata": {},
   "source": [
    "# 2. Consider security implications & PII data"
   ]
  },
  {
   "cell_type": "code",
   "execution_count": null,
   "id": "06130774",
   "metadata": {},
   "outputs": [],
   "source": []
  },
  {
   "cell_type": "markdown",
   "id": "699ca050",
   "metadata": {},
   "source": [
    "# 3. Regional segmentation of data"
   ]
  },
  {
   "cell_type": "code",
   "execution_count": 6,
   "id": "915628cc",
   "metadata": {},
   "outputs": [],
   "source": [
    "# Assign Northeast Region\n",
    "OPC_df.loc[OPC_df['State'] == 'Maine', 'region'] = 'Northeast'\n",
    "OPC_df.loc[OPC_df['State'] == 'New Hampshire', 'region'] = 'Northeast'\n",
    "OPC_df.loc[OPC_df['State'] == 'Vermont', 'region'] = 'Northeast'\n",
    "OPC_df.loc[OPC_df['State'] == 'Pennsylvania', 'region'] = 'Northeast'\n",
    "OPC_df.loc[OPC_df['State'] == 'Massachusetts', 'region'] = 'Northeast'\n",
    "OPC_df.loc[OPC_df['State'] == 'Rhode Island', 'region'] = 'Northeast'\n",
    "OPC_df.loc[OPC_df['State'] == 'Connecticut', 'region'] = 'Northeast'"
   ]
  },
  {
   "cell_type": "code",
   "execution_count": 7,
   "id": "5a86ad2f",
   "metadata": {},
   "outputs": [],
   "source": [
    "# Assign Midwest Region\n",
    "OPC_df.loc[OPC_df['State'] == 'Wisconsin', 'region'] = 'Midwest'\n",
    "OPC_df.loc[OPC_df['State'] == 'Michigan', 'region'] = 'Midwest'\n",
    "OPC_df.loc[OPC_df['State'] == 'Illinois', 'region'] = 'Midwest'\n",
    "OPC_df.loc[OPC_df['State'] == 'Indiana', 'region'] = 'Midwest'\n",
    "OPC_df.loc[OPC_df['State'] == 'Ohio', 'region'] = 'Midwest'\n",
    "OPC_df.loc[OPC_df['State'] == 'North Dakota', 'region'] = 'Midwest'\n",
    "OPC_df.loc[OPC_df['State'] == 'South Dakota', 'region'] = 'Midwest'\n",
    "OPC_df.loc[OPC_df['State'] == 'Nebraska', 'region'] = 'Midwest'\n",
    "OPC_df.loc[OPC_df['State'] == 'Kansas', 'region'] = 'Midwest'\n",
    "OPC_df.loc[OPC_df['State'] == 'Minnesota', 'region'] = 'Midwest'\n",
    "OPC_df.loc[OPC_df['State'] == 'Iowa', 'region'] = 'Midwest'\n",
    "OPC_df.loc[OPC_df['State'] == 'Missouri', 'region'] = 'Midwest'"
   ]
  },
  {
   "cell_type": "code",
   "execution_count": 8,
   "id": "328d0f3f",
   "metadata": {},
   "outputs": [],
   "source": [
    "# Assign South Region\n",
    "OPC_df.loc[OPC_df['State'] == 'Delaware', 'region'] = 'South'\n",
    "OPC_df.loc[OPC_df['State'] == 'Maryland', 'region'] = 'South'\n",
    "OPC_df.loc[OPC_df['State'] == 'District of Columbia', 'region'] = 'South'\n",
    "OPC_df.loc[OPC_df['State'] == 'Virginia', 'region'] = 'South'\n",
    "OPC_df.loc[OPC_df['State'] == 'West Virginia', 'region'] = 'South'\n",
    "OPC_df.loc[OPC_df['State'] == 'North Carolina', 'region'] = 'South'\n",
    "OPC_df.loc[OPC_df['State'] == 'South Carolina', 'region'] = 'South'\n",
    "OPC_df.loc[OPC_df['State'] == 'Georgia', 'region'] = 'South'\n",
    "OPC_df.loc[OPC_df['State'] == 'Florida', 'region'] = 'South'\n",
    "OPC_df.loc[OPC_df['State'] == 'Kentucky', 'region'] = 'South'\n",
    "OPC_df.loc[OPC_df['State'] == 'Tennessee', 'region'] = 'South'\n",
    "OPC_df.loc[OPC_df['State'] == 'Mississippi', 'region'] = 'South'\n",
    "OPC_df.loc[OPC_df['State'] == 'Alabama', 'region'] = 'South'\n",
    "OPC_df.loc[OPC_df['State'] == 'Oklahoma', 'region'] = 'South'\n",
    "OPC_df.loc[OPC_df['State'] == 'Texas', 'region'] = 'South'\n",
    "OPC_df.loc[OPC_df['State'] == 'Arkansas', 'region'] = 'South'\n",
    "OPC_df.loc[OPC_df['State'] == 'Louisiana', 'region'] = 'South'"
   ]
  },
  {
   "cell_type": "code",
   "execution_count": 9,
   "id": "a62e79da",
   "metadata": {},
   "outputs": [],
   "source": [
    "# Assign West Region\n",
    "OPC_df.loc[OPC_df['State'] == 'Idaho', 'region'] = 'West'\n",
    "OPC_df.loc[OPC_df['State'] == 'Montana', 'region'] = 'West'\n",
    "OPC_df.loc[OPC_df['State'] == 'Wyoming', 'region'] = 'West'\n",
    "OPC_df.loc[OPC_df['State'] == 'Nevada', 'region'] = 'West'\n",
    "OPC_df.loc[OPC_df['State'] == 'Utah', 'region'] = 'West'\n",
    "OPC_df.loc[OPC_df['State'] == 'Colorado', 'region'] = 'West'\n",
    "OPC_df.loc[OPC_df['State'] == 'Arizona', 'region'] = 'West'\n",
    "OPC_df.loc[OPC_df['State'] == 'New Mexico', 'region'] = 'West'\n",
    "OPC_df.loc[OPC_df['State'] == 'Alaska', 'region'] = 'West'\n",
    "OPC_df.loc[OPC_df['State'] == 'Washington', 'region'] = 'West'\n",
    "OPC_df.loc[OPC_df['State'] == 'Oregon', 'region'] = 'West'\n",
    "OPC_df.loc[OPC_df['State'] == 'California', 'region'] = 'West'\n",
    "OPC_df.loc[OPC_df['State'] == 'Hawaii', 'region'] = 'West'"
   ]
  },
  {
   "cell_type": "code",
   "execution_count": 10,
   "id": "f78beec8",
   "metadata": {},
   "outputs": [
    {
     "data": {
      "text/plain": [
       "Index(['order_id', 'user_id', 'eval_set', 'order_number', 'order_dow',\n",
       "       'order_hour_of_day', 'days_since_prior_order', 'product_id',\n",
       "       'add_to_cart_order', 'reordered', '_merge', 'product_name', 'aisle_id',\n",
       "       'department_id', 'prices', 'match', 'price_range_loc', 'busiest_day',\n",
       "       'Busiest_day', 'busiest_days', 'busiest_period_of_day', 'max_order',\n",
       "       'loyalty_flag', 'avg_product_price', 'spending_flag',\n",
       "       'median_days_between_orders', 'order_frequency_flag', 'First Name',\n",
       "       'Last Name', 'Gender', 'State', 'Age', 'Date Joined',\n",
       "       'Number of Dependents', 'Family Status', 'Income', 'region'],\n",
       "      dtype='object')"
      ]
     },
     "execution_count": 10,
     "metadata": {},
     "output_type": "execute_result"
    }
   ],
   "source": [
    "OPC_df.columns"
   ]
  },
  {
   "cell_type": "markdown",
   "id": "ddbd4d39",
   "metadata": {},
   "source": [
    "# 4. Difference in Spending habits between different regions in the U.S"
   ]
  },
  {
   "cell_type": "code",
   "execution_count": 11,
   "id": "a7791e12",
   "metadata": {},
   "outputs": [],
   "source": [
    "# Crosstab Region to spending flag\n",
    "crosstab = pd.crosstab(OPC_df['region'], OPC_df['spending_flag'], dropna = False)"
   ]
  },
  {
   "cell_type": "code",
   "execution_count": 12,
   "id": "43d77981",
   "metadata": {},
   "outputs": [],
   "source": [
    "crosstab.to_clipboard()"
   ]
  },
  {
   "cell_type": "code",
   "execution_count": 13,
   "id": "4f8abcdf",
   "metadata": {},
   "outputs": [
    {
     "data": {
      "text/html": [
       "<div>\n",
       "<style scoped>\n",
       "    .dataframe tbody tr th:only-of-type {\n",
       "        vertical-align: middle;\n",
       "    }\n",
       "\n",
       "    .dataframe tbody tr th {\n",
       "        vertical-align: top;\n",
       "    }\n",
       "\n",
       "    .dataframe thead th {\n",
       "        text-align: right;\n",
       "    }\n",
       "</style>\n",
       "<table border=\"1\" class=\"dataframe\">\n",
       "  <thead>\n",
       "    <tr style=\"text-align: right;\">\n",
       "      <th></th>\n",
       "      <th>spending_flag</th>\n",
       "      <th>region</th>\n",
       "    </tr>\n",
       "  </thead>\n",
       "  <tbody>\n",
       "    <tr>\n",
       "      <th>0</th>\n",
       "      <td>Low spender</td>\n",
       "      <td>South</td>\n",
       "    </tr>\n",
       "    <tr>\n",
       "      <th>1</th>\n",
       "      <td>Low spender</td>\n",
       "      <td>South</td>\n",
       "    </tr>\n",
       "    <tr>\n",
       "      <th>2</th>\n",
       "      <td>Low spender</td>\n",
       "      <td>South</td>\n",
       "    </tr>\n",
       "    <tr>\n",
       "      <th>3</th>\n",
       "      <td>Low spender</td>\n",
       "      <td>South</td>\n",
       "    </tr>\n",
       "    <tr>\n",
       "      <th>4</th>\n",
       "      <td>Low spender</td>\n",
       "      <td>South</td>\n",
       "    </tr>\n",
       "  </tbody>\n",
       "</table>\n",
       "</div>"
      ],
      "text/plain": [
       "  spending_flag region\n",
       "0   Low spender  South\n",
       "1   Low spender  South\n",
       "2   Low spender  South\n",
       "3   Low spender  South\n",
       "4   Low spender  South"
      ]
     },
     "execution_count": 13,
     "metadata": {},
     "output_type": "execute_result"
    }
   ],
   "source": [
    "OPC_df.loc[:,['spending_flag', 'region']].head()"
   ]
  },
  {
   "cell_type": "code",
   "execution_count": 14,
   "id": "92accf11",
   "metadata": {},
   "outputs": [],
   "source": [
    "# save changes to orderss_products_customer dataframe\n",
    "OPC_df.to_pickle(os.path.join(path, '02 Data','Prepared Data', 'ords_prods_cust_merge.pkl'))"
   ]
  },
  {
   "cell_type": "markdown",
   "id": "6addd440",
   "metadata": {},
   "source": [
    "# 5. Exclusion flag for low-activity customers"
   ]
  },
  {
   "cell_type": "code",
   "execution_count": 15,
   "id": "fb1ae2b1",
   "metadata": {},
   "outputs": [],
   "source": [
    "# Create a flag for customers with less than 5 orders\n",
    "OPC_df.loc[OPC_df['max_order'] < 5, 'activity_flag'] = 'low-activity customer'\n",
    "OPC_df.loc[OPC_df['max_order'] >= 5, 'activity_flag'] = 'high-activity customer'"
   ]
  },
  {
   "cell_type": "code",
   "execution_count": 16,
   "id": "a55926f8",
   "metadata": {},
   "outputs": [
    {
     "data": {
      "text/plain": [
       "high-activity customer    30964564\n",
       "low-activity customer      1440295\n",
       "Name: activity_flag, dtype: int64"
      ]
     },
     "execution_count": 16,
     "metadata": {},
     "output_type": "execute_result"
    }
   ],
   "source": [
    "# Count the flag\n",
    "OPC_df['activity_flag'].value_counts(dropna = False)"
   ]
  },
  {
   "cell_type": "code",
   "execution_count": 17,
   "id": "e2c4a3e3",
   "metadata": {},
   "outputs": [
    {
     "ename": "MemoryError",
     "evalue": "Unable to allocate 4.15 GiB for an array with shape (18, 30964564) and data type object",
     "output_type": "error",
     "traceback": [
      "\u001b[1;31m---------------------------------------------------------------------------\u001b[0m",
      "\u001b[1;31mMemoryError\u001b[0m                               Traceback (most recent call last)",
      "\u001b[1;32m~\\AppData\\Local\\Temp\\ipykernel_18380\\4118854229.py\u001b[0m in \u001b[0;36m<module>\u001b[1;34m\u001b[0m\n\u001b[0;32m      1\u001b[0m \u001b[1;31m# Exclude low-activity customers from the dataframe\u001b[0m\u001b[1;33m\u001b[0m\u001b[1;33m\u001b[0m\u001b[0m\n\u001b[1;32m----> 2\u001b[1;33m \u001b[0mdf_excluded\u001b[0m \u001b[1;33m=\u001b[0m \u001b[0mOPC_df\u001b[0m\u001b[1;33m.\u001b[0m\u001b[0mquery\u001b[0m\u001b[1;33m(\u001b[0m\u001b[1;34m\"activity_flag != 'low-activity customer'\"\u001b[0m\u001b[1;33m)\u001b[0m\u001b[1;33m\u001b[0m\u001b[1;33m\u001b[0m\u001b[0m\n\u001b[0m",
      "\u001b[1;32m~\\anaconda3\\lib\\site-packages\\pandas\\core\\frame.py\u001b[0m in \u001b[0;36mquery\u001b[1;34m(self, expr, inplace, **kwargs)\u001b[0m\n\u001b[0;32m   4112\u001b[0m \u001b[1;33m\u001b[0m\u001b[0m\n\u001b[0;32m   4113\u001b[0m         \u001b[1;32mtry\u001b[0m\u001b[1;33m:\u001b[0m\u001b[1;33m\u001b[0m\u001b[1;33m\u001b[0m\u001b[0m\n\u001b[1;32m-> 4114\u001b[1;33m             \u001b[0mresult\u001b[0m \u001b[1;33m=\u001b[0m \u001b[0mself\u001b[0m\u001b[1;33m.\u001b[0m\u001b[0mloc\u001b[0m\u001b[1;33m[\u001b[0m\u001b[0mres\u001b[0m\u001b[1;33m]\u001b[0m\u001b[1;33m\u001b[0m\u001b[1;33m\u001b[0m\u001b[0m\n\u001b[0m\u001b[0;32m   4115\u001b[0m         \u001b[1;32mexcept\u001b[0m \u001b[0mValueError\u001b[0m\u001b[1;33m:\u001b[0m\u001b[1;33m\u001b[0m\u001b[1;33m\u001b[0m\u001b[0m\n\u001b[0;32m   4116\u001b[0m             \u001b[1;31m# when res is multi-dimensional loc raises, but this is sometimes a\u001b[0m\u001b[1;33m\u001b[0m\u001b[1;33m\u001b[0m\u001b[0m\n",
      "\u001b[1;32m~\\anaconda3\\lib\\site-packages\\pandas\\core\\indexing.py\u001b[0m in \u001b[0;36m__getitem__\u001b[1;34m(self, key)\u001b[0m\n\u001b[0;32m    965\u001b[0m \u001b[1;33m\u001b[0m\u001b[0m\n\u001b[0;32m    966\u001b[0m             \u001b[0mmaybe_callable\u001b[0m \u001b[1;33m=\u001b[0m \u001b[0mcom\u001b[0m\u001b[1;33m.\u001b[0m\u001b[0mapply_if_callable\u001b[0m\u001b[1;33m(\u001b[0m\u001b[0mkey\u001b[0m\u001b[1;33m,\u001b[0m \u001b[0mself\u001b[0m\u001b[1;33m.\u001b[0m\u001b[0mobj\u001b[0m\u001b[1;33m)\u001b[0m\u001b[1;33m\u001b[0m\u001b[1;33m\u001b[0m\u001b[0m\n\u001b[1;32m--> 967\u001b[1;33m             \u001b[1;32mreturn\u001b[0m \u001b[0mself\u001b[0m\u001b[1;33m.\u001b[0m\u001b[0m_getitem_axis\u001b[0m\u001b[1;33m(\u001b[0m\u001b[0mmaybe_callable\u001b[0m\u001b[1;33m,\u001b[0m \u001b[0maxis\u001b[0m\u001b[1;33m=\u001b[0m\u001b[0maxis\u001b[0m\u001b[1;33m)\u001b[0m\u001b[1;33m\u001b[0m\u001b[1;33m\u001b[0m\u001b[0m\n\u001b[0m\u001b[0;32m    968\u001b[0m \u001b[1;33m\u001b[0m\u001b[0m\n\u001b[0;32m    969\u001b[0m     \u001b[1;32mdef\u001b[0m \u001b[0m_is_scalar_access\u001b[0m\u001b[1;33m(\u001b[0m\u001b[0mself\u001b[0m\u001b[1;33m,\u001b[0m \u001b[0mkey\u001b[0m\u001b[1;33m:\u001b[0m \u001b[0mtuple\u001b[0m\u001b[1;33m)\u001b[0m\u001b[1;33m:\u001b[0m\u001b[1;33m\u001b[0m\u001b[1;33m\u001b[0m\u001b[0m\n",
      "\u001b[1;32m~\\anaconda3\\lib\\site-packages\\pandas\\core\\indexing.py\u001b[0m in \u001b[0;36m_getitem_axis\u001b[1;34m(self, key, axis)\u001b[0m\n\u001b[0;32m   1183\u001b[0m             \u001b[1;32mreturn\u001b[0m \u001b[0mself\u001b[0m\u001b[1;33m.\u001b[0m\u001b[0m_get_slice_axis\u001b[0m\u001b[1;33m(\u001b[0m\u001b[0mkey\u001b[0m\u001b[1;33m,\u001b[0m \u001b[0maxis\u001b[0m\u001b[1;33m=\u001b[0m\u001b[0maxis\u001b[0m\u001b[1;33m)\u001b[0m\u001b[1;33m\u001b[0m\u001b[1;33m\u001b[0m\u001b[0m\n\u001b[0;32m   1184\u001b[0m         \u001b[1;32melif\u001b[0m \u001b[0mcom\u001b[0m\u001b[1;33m.\u001b[0m\u001b[0mis_bool_indexer\u001b[0m\u001b[1;33m(\u001b[0m\u001b[0mkey\u001b[0m\u001b[1;33m)\u001b[0m\u001b[1;33m:\u001b[0m\u001b[1;33m\u001b[0m\u001b[1;33m\u001b[0m\u001b[0m\n\u001b[1;32m-> 1185\u001b[1;33m             \u001b[1;32mreturn\u001b[0m \u001b[0mself\u001b[0m\u001b[1;33m.\u001b[0m\u001b[0m_getbool_axis\u001b[0m\u001b[1;33m(\u001b[0m\u001b[0mkey\u001b[0m\u001b[1;33m,\u001b[0m \u001b[0maxis\u001b[0m\u001b[1;33m=\u001b[0m\u001b[0maxis\u001b[0m\u001b[1;33m)\u001b[0m\u001b[1;33m\u001b[0m\u001b[1;33m\u001b[0m\u001b[0m\n\u001b[0m\u001b[0;32m   1186\u001b[0m         \u001b[1;32melif\u001b[0m \u001b[0mis_list_like_indexer\u001b[0m\u001b[1;33m(\u001b[0m\u001b[0mkey\u001b[0m\u001b[1;33m)\u001b[0m\u001b[1;33m:\u001b[0m\u001b[1;33m\u001b[0m\u001b[1;33m\u001b[0m\u001b[0m\n\u001b[0;32m   1187\u001b[0m \u001b[1;33m\u001b[0m\u001b[0m\n",
      "\u001b[1;32m~\\anaconda3\\lib\\site-packages\\pandas\\core\\indexing.py\u001b[0m in \u001b[0;36m_getbool_axis\u001b[1;34m(self, key, axis)\u001b[0m\n\u001b[0;32m    984\u001b[0m         \u001b[0mkey\u001b[0m \u001b[1;33m=\u001b[0m \u001b[0mcheck_bool_indexer\u001b[0m\u001b[1;33m(\u001b[0m\u001b[0mlabels\u001b[0m\u001b[1;33m,\u001b[0m \u001b[0mkey\u001b[0m\u001b[1;33m)\u001b[0m\u001b[1;33m\u001b[0m\u001b[1;33m\u001b[0m\u001b[0m\n\u001b[0;32m    985\u001b[0m         \u001b[0minds\u001b[0m \u001b[1;33m=\u001b[0m \u001b[0mkey\u001b[0m\u001b[1;33m.\u001b[0m\u001b[0mnonzero\u001b[0m\u001b[1;33m(\u001b[0m\u001b[1;33m)\u001b[0m\u001b[1;33m[\u001b[0m\u001b[1;36m0\u001b[0m\u001b[1;33m]\u001b[0m\u001b[1;33m\u001b[0m\u001b[1;33m\u001b[0m\u001b[0m\n\u001b[1;32m--> 986\u001b[1;33m         \u001b[1;32mreturn\u001b[0m \u001b[0mself\u001b[0m\u001b[1;33m.\u001b[0m\u001b[0mobj\u001b[0m\u001b[1;33m.\u001b[0m\u001b[0m_take_with_is_copy\u001b[0m\u001b[1;33m(\u001b[0m\u001b[0minds\u001b[0m\u001b[1;33m,\u001b[0m \u001b[0maxis\u001b[0m\u001b[1;33m=\u001b[0m\u001b[0maxis\u001b[0m\u001b[1;33m)\u001b[0m\u001b[1;33m\u001b[0m\u001b[1;33m\u001b[0m\u001b[0m\n\u001b[0m\u001b[0;32m    987\u001b[0m \u001b[1;33m\u001b[0m\u001b[0m\n\u001b[0;32m    988\u001b[0m \u001b[1;33m\u001b[0m\u001b[0m\n",
      "\u001b[1;32m~\\anaconda3\\lib\\site-packages\\pandas\\core\\generic.py\u001b[0m in \u001b[0;36m_take_with_is_copy\u001b[1;34m(self, indices, axis)\u001b[0m\n\u001b[0;32m   3714\u001b[0m         \u001b[0mSee\u001b[0m \u001b[0mthe\u001b[0m \u001b[0mdocstring\u001b[0m \u001b[0mof\u001b[0m\u001b[0;31m \u001b[0m\u001b[0;31m`\u001b[0m\u001b[0mtake\u001b[0m\u001b[0;31m`\u001b[0m \u001b[1;32mfor\u001b[0m \u001b[0mfull\u001b[0m \u001b[0mexplanation\u001b[0m \u001b[0mof\u001b[0m \u001b[0mthe\u001b[0m \u001b[0mparameters\u001b[0m\u001b[1;33m.\u001b[0m\u001b[1;33m\u001b[0m\u001b[1;33m\u001b[0m\u001b[0m\n\u001b[0;32m   3715\u001b[0m         \"\"\"\n\u001b[1;32m-> 3716\u001b[1;33m         \u001b[0mresult\u001b[0m \u001b[1;33m=\u001b[0m \u001b[0mself\u001b[0m\u001b[1;33m.\u001b[0m\u001b[0mtake\u001b[0m\u001b[1;33m(\u001b[0m\u001b[0mindices\u001b[0m\u001b[1;33m=\u001b[0m\u001b[0mindices\u001b[0m\u001b[1;33m,\u001b[0m \u001b[0maxis\u001b[0m\u001b[1;33m=\u001b[0m\u001b[0maxis\u001b[0m\u001b[1;33m)\u001b[0m\u001b[1;33m\u001b[0m\u001b[1;33m\u001b[0m\u001b[0m\n\u001b[0m\u001b[0;32m   3717\u001b[0m         \u001b[1;31m# Maybe set copy if we didn't actually change the index.\u001b[0m\u001b[1;33m\u001b[0m\u001b[1;33m\u001b[0m\u001b[0m\n\u001b[0;32m   3718\u001b[0m         \u001b[1;32mif\u001b[0m \u001b[1;32mnot\u001b[0m \u001b[0mresult\u001b[0m\u001b[1;33m.\u001b[0m\u001b[0m_get_axis\u001b[0m\u001b[1;33m(\u001b[0m\u001b[0maxis\u001b[0m\u001b[1;33m)\u001b[0m\u001b[1;33m.\u001b[0m\u001b[0mequals\u001b[0m\u001b[1;33m(\u001b[0m\u001b[0mself\u001b[0m\u001b[1;33m.\u001b[0m\u001b[0m_get_axis\u001b[0m\u001b[1;33m(\u001b[0m\u001b[0maxis\u001b[0m\u001b[1;33m)\u001b[0m\u001b[1;33m)\u001b[0m\u001b[1;33m:\u001b[0m\u001b[1;33m\u001b[0m\u001b[1;33m\u001b[0m\u001b[0m\n",
      "\u001b[1;32m~\\anaconda3\\lib\\site-packages\\pandas\\core\\generic.py\u001b[0m in \u001b[0;36mtake\u001b[1;34m(self, indices, axis, is_copy, **kwargs)\u001b[0m\n\u001b[0;32m   3701\u001b[0m         \u001b[0mself\u001b[0m\u001b[1;33m.\u001b[0m\u001b[0m_consolidate_inplace\u001b[0m\u001b[1;33m(\u001b[0m\u001b[1;33m)\u001b[0m\u001b[1;33m\u001b[0m\u001b[1;33m\u001b[0m\u001b[0m\n\u001b[0;32m   3702\u001b[0m \u001b[1;33m\u001b[0m\u001b[0m\n\u001b[1;32m-> 3703\u001b[1;33m         new_data = self._mgr.take(\n\u001b[0m\u001b[0;32m   3704\u001b[0m             \u001b[0mindices\u001b[0m\u001b[1;33m,\u001b[0m \u001b[0maxis\u001b[0m\u001b[1;33m=\u001b[0m\u001b[0mself\u001b[0m\u001b[1;33m.\u001b[0m\u001b[0m_get_block_manager_axis\u001b[0m\u001b[1;33m(\u001b[0m\u001b[0maxis\u001b[0m\u001b[1;33m)\u001b[0m\u001b[1;33m,\u001b[0m \u001b[0mverify\u001b[0m\u001b[1;33m=\u001b[0m\u001b[1;32mTrue\u001b[0m\u001b[1;33m\u001b[0m\u001b[1;33m\u001b[0m\u001b[0m\n\u001b[0;32m   3705\u001b[0m         )\n",
      "\u001b[1;32m~\\anaconda3\\lib\\site-packages\\pandas\\core\\internals\\managers.py\u001b[0m in \u001b[0;36mtake\u001b[1;34m(self, indexer, axis, verify)\u001b[0m\n\u001b[0;32m    895\u001b[0m \u001b[1;33m\u001b[0m\u001b[0m\n\u001b[0;32m    896\u001b[0m         \u001b[0mnew_labels\u001b[0m \u001b[1;33m=\u001b[0m \u001b[0mself\u001b[0m\u001b[1;33m.\u001b[0m\u001b[0maxes\u001b[0m\u001b[1;33m[\u001b[0m\u001b[0maxis\u001b[0m\u001b[1;33m]\u001b[0m\u001b[1;33m.\u001b[0m\u001b[0mtake\u001b[0m\u001b[1;33m(\u001b[0m\u001b[0mindexer\u001b[0m\u001b[1;33m)\u001b[0m\u001b[1;33m\u001b[0m\u001b[1;33m\u001b[0m\u001b[0m\n\u001b[1;32m--> 897\u001b[1;33m         return self.reindex_indexer(\n\u001b[0m\u001b[0;32m    898\u001b[0m             \u001b[0mnew_axis\u001b[0m\u001b[1;33m=\u001b[0m\u001b[0mnew_labels\u001b[0m\u001b[1;33m,\u001b[0m\u001b[1;33m\u001b[0m\u001b[1;33m\u001b[0m\u001b[0m\n\u001b[0;32m    899\u001b[0m             \u001b[0mindexer\u001b[0m\u001b[1;33m=\u001b[0m\u001b[0mindexer\u001b[0m\u001b[1;33m,\u001b[0m\u001b[1;33m\u001b[0m\u001b[1;33m\u001b[0m\u001b[0m\n",
      "\u001b[1;32m~\\anaconda3\\lib\\site-packages\\pandas\\core\\internals\\managers.py\u001b[0m in \u001b[0;36mreindex_indexer\u001b[1;34m(self, new_axis, indexer, axis, fill_value, allow_dups, copy, consolidate, only_slice, use_na_proxy)\u001b[0m\n\u001b[0;32m    687\u001b[0m             )\n\u001b[0;32m    688\u001b[0m         \u001b[1;32melse\u001b[0m\u001b[1;33m:\u001b[0m\u001b[1;33m\u001b[0m\u001b[1;33m\u001b[0m\u001b[0m\n\u001b[1;32m--> 689\u001b[1;33m             new_blocks = [\n\u001b[0m\u001b[0;32m    690\u001b[0m                 blk.take_nd(\n\u001b[0;32m    691\u001b[0m                     \u001b[0mindexer\u001b[0m\u001b[1;33m,\u001b[0m\u001b[1;33m\u001b[0m\u001b[1;33m\u001b[0m\u001b[0m\n",
      "\u001b[1;32m~\\anaconda3\\lib\\site-packages\\pandas\\core\\internals\\managers.py\u001b[0m in \u001b[0;36m<listcomp>\u001b[1;34m(.0)\u001b[0m\n\u001b[0;32m    688\u001b[0m         \u001b[1;32melse\u001b[0m\u001b[1;33m:\u001b[0m\u001b[1;33m\u001b[0m\u001b[1;33m\u001b[0m\u001b[0m\n\u001b[0;32m    689\u001b[0m             new_blocks = [\n\u001b[1;32m--> 690\u001b[1;33m                 blk.take_nd(\n\u001b[0m\u001b[0;32m    691\u001b[0m                     \u001b[0mindexer\u001b[0m\u001b[1;33m,\u001b[0m\u001b[1;33m\u001b[0m\u001b[1;33m\u001b[0m\u001b[0m\n\u001b[0;32m    692\u001b[0m                     \u001b[0maxis\u001b[0m\u001b[1;33m=\u001b[0m\u001b[1;36m1\u001b[0m\u001b[1;33m,\u001b[0m\u001b[1;33m\u001b[0m\u001b[1;33m\u001b[0m\u001b[0m\n",
      "\u001b[1;32m~\\anaconda3\\lib\\site-packages\\pandas\\core\\internals\\blocks.py\u001b[0m in \u001b[0;36mtake_nd\u001b[1;34m(self, indexer, axis, new_mgr_locs, fill_value)\u001b[0m\n\u001b[0;32m   1137\u001b[0m             \u001b[0mallow_fill\u001b[0m \u001b[1;33m=\u001b[0m \u001b[1;32mTrue\u001b[0m\u001b[1;33m\u001b[0m\u001b[1;33m\u001b[0m\u001b[0m\n\u001b[0;32m   1138\u001b[0m \u001b[1;33m\u001b[0m\u001b[0m\n\u001b[1;32m-> 1139\u001b[1;33m         new_values = algos.take_nd(\n\u001b[0m\u001b[0;32m   1140\u001b[0m             \u001b[0mvalues\u001b[0m\u001b[1;33m,\u001b[0m \u001b[0mindexer\u001b[0m\u001b[1;33m,\u001b[0m \u001b[0maxis\u001b[0m\u001b[1;33m=\u001b[0m\u001b[0maxis\u001b[0m\u001b[1;33m,\u001b[0m \u001b[0mallow_fill\u001b[0m\u001b[1;33m=\u001b[0m\u001b[0mallow_fill\u001b[0m\u001b[1;33m,\u001b[0m \u001b[0mfill_value\u001b[0m\u001b[1;33m=\u001b[0m\u001b[0mfill_value\u001b[0m\u001b[1;33m\u001b[0m\u001b[1;33m\u001b[0m\u001b[0m\n\u001b[0;32m   1141\u001b[0m         )\n",
      "\u001b[1;32m~\\anaconda3\\lib\\site-packages\\pandas\\core\\array_algos\\take.py\u001b[0m in \u001b[0;36mtake_nd\u001b[1;34m(arr, indexer, axis, fill_value, allow_fill)\u001b[0m\n\u001b[0;32m    115\u001b[0m \u001b[1;33m\u001b[0m\u001b[0m\n\u001b[0;32m    116\u001b[0m     \u001b[0marr\u001b[0m \u001b[1;33m=\u001b[0m \u001b[0mnp\u001b[0m\u001b[1;33m.\u001b[0m\u001b[0masarray\u001b[0m\u001b[1;33m(\u001b[0m\u001b[0marr\u001b[0m\u001b[1;33m)\u001b[0m\u001b[1;33m\u001b[0m\u001b[1;33m\u001b[0m\u001b[0m\n\u001b[1;32m--> 117\u001b[1;33m     \u001b[1;32mreturn\u001b[0m \u001b[0m_take_nd_ndarray\u001b[0m\u001b[1;33m(\u001b[0m\u001b[0marr\u001b[0m\u001b[1;33m,\u001b[0m \u001b[0mindexer\u001b[0m\u001b[1;33m,\u001b[0m \u001b[0maxis\u001b[0m\u001b[1;33m,\u001b[0m \u001b[0mfill_value\u001b[0m\u001b[1;33m,\u001b[0m \u001b[0mallow_fill\u001b[0m\u001b[1;33m)\u001b[0m\u001b[1;33m\u001b[0m\u001b[1;33m\u001b[0m\u001b[0m\n\u001b[0m\u001b[0;32m    118\u001b[0m \u001b[1;33m\u001b[0m\u001b[0m\n\u001b[0;32m    119\u001b[0m \u001b[1;33m\u001b[0m\u001b[0m\n",
      "\u001b[1;32m~\\anaconda3\\lib\\site-packages\\pandas\\core\\array_algos\\take.py\u001b[0m in \u001b[0;36m_take_nd_ndarray\u001b[1;34m(arr, indexer, axis, fill_value, allow_fill)\u001b[0m\n\u001b[0;32m    156\u001b[0m         \u001b[0mout\u001b[0m \u001b[1;33m=\u001b[0m \u001b[0mnp\u001b[0m\u001b[1;33m.\u001b[0m\u001b[0mempty\u001b[0m\u001b[1;33m(\u001b[0m\u001b[0mout_shape\u001b[0m\u001b[1;33m,\u001b[0m \u001b[0mdtype\u001b[0m\u001b[1;33m=\u001b[0m\u001b[0mdtype\u001b[0m\u001b[1;33m,\u001b[0m \u001b[0morder\u001b[0m\u001b[1;33m=\u001b[0m\u001b[1;34m\"F\"\u001b[0m\u001b[1;33m)\u001b[0m\u001b[1;33m\u001b[0m\u001b[1;33m\u001b[0m\u001b[0m\n\u001b[0;32m    157\u001b[0m     \u001b[1;32melse\u001b[0m\u001b[1;33m:\u001b[0m\u001b[1;33m\u001b[0m\u001b[1;33m\u001b[0m\u001b[0m\n\u001b[1;32m--> 158\u001b[1;33m         \u001b[0mout\u001b[0m \u001b[1;33m=\u001b[0m \u001b[0mnp\u001b[0m\u001b[1;33m.\u001b[0m\u001b[0mempty\u001b[0m\u001b[1;33m(\u001b[0m\u001b[0mout_shape\u001b[0m\u001b[1;33m,\u001b[0m \u001b[0mdtype\u001b[0m\u001b[1;33m=\u001b[0m\u001b[0mdtype\u001b[0m\u001b[1;33m)\u001b[0m\u001b[1;33m\u001b[0m\u001b[1;33m\u001b[0m\u001b[0m\n\u001b[0m\u001b[0;32m    159\u001b[0m \u001b[1;33m\u001b[0m\u001b[0m\n\u001b[0;32m    160\u001b[0m     func = _get_take_nd_function(\n",
      "\u001b[1;31mMemoryError\u001b[0m: Unable to allocate 4.15 GiB for an array with shape (18, 30964564) and data type object"
     ]
    }
   ],
   "source": [
    "# Exclude low-activity customers from the dataframe\n",
    "df_excluded = OPC_df.query(\"activity_flag != 'low-activity customer'\")"
   ]
  },
  {
   "cell_type": "code",
   "execution_count": null,
   "id": "fae7ce85",
   "metadata": {
    "scrolled": true
   },
   "outputs": [],
   "source": [
    "# Export the new dataframe\n",
    "df_excluded.to_pickle(os.path.join(path, '02 Data','Prepared Data', 'low_activity_excluded.pkl'))"
   ]
  },
  {
   "cell_type": "code",
   "execution_count": null,
   "id": "380eac98",
   "metadata": {},
   "outputs": [],
   "source": []
  },
  {
   "cell_type": "code",
   "execution_count": null,
   "id": "17643c2b",
   "metadata": {},
   "outputs": [],
   "source": []
  },
  {
   "cell_type": "markdown",
   "id": "6e211c40",
   "metadata": {},
   "source": [
    "# 6. Customer Profiling"
   ]
  },
  {
   "cell_type": "markdown",
   "id": "b3217098",
   "metadata": {},
   "source": [
    "### Income group"
   ]
  },
  {
   "cell_type": "code",
   "execution_count": null,
   "id": "7e0ebe66",
   "metadata": {},
   "outputs": [],
   "source": [
    "# Create an income group variable\n",
    "df_excluded.loc[df_excluded['Income'] <= 55000, 'income_group'] = 'low-income'\n",
    "df_excluded.loc[(df_excluded['Income'] > 55000) & (df_excluded['Income'] <= 150000), 'income_group'] = 'middle-income'\n",
    "df_excluded.loc[df_excluded['Income'] > 150000, 'income_group'] = 'high-income'"
   ]
  },
  {
   "cell_type": "code",
   "execution_count": null,
   "id": "108c3c75",
   "metadata": {},
   "outputs": [],
   "source": [
    "# Check the counts of income groups\n",
    "df_excluded['income_group'].value_counts(dropna = False)"
   ]
  },
  {
   "cell_type": "code",
   "execution_count": null,
   "id": "558b8ada",
   "metadata": {},
   "outputs": [],
   "source": [
    "# Create a bar chart showing the distribution of income groups\n",
    "income_group_counts = df_excluded['income_group'].value_counts(dropna=False)\n",
    "income_group_distribution_bar = income_group_counts.plot.bar()  \n",
    "plt.title('Distribution of Income Groups')\n",
    "plt.xlabel('')\n",
    "plt.ylabel('Count')\n",
    "plt.show()"
   ]
  },
  {
   "cell_type": "code",
   "execution_count": null,
   "id": "15a5bb4b",
   "metadata": {},
   "outputs": [],
   "source": [
    "# Export the bar chart\n",
    "income_group_distribution_bar.figure.savefig(os.path.join(path, '04 Analysis','Visualizations', 'income_distribution_bar.png'))"
   ]
  },
  {
   "cell_type": "markdown",
   "id": "0fbb9ba9",
   "metadata": {},
   "source": [
    "### Age"
   ]
  },
  {
   "cell_type": "code",
   "execution_count": null,
   "id": "d54fd4da",
   "metadata": {},
   "outputs": [],
   "source": [
    "# Create an age group variable\n",
    "df_excluded.loc[df_excluded['Age'] <= 25, 'age_group'] = 'young adult'\n",
    "df_excluded.loc[(df_excluded['Age'] > 25) & (df_excluded['Age'] <= 44), 'age_group'] = 'adult'\n",
    "df_excluded.loc[(df_excluded['Age'] > 44) & (df_excluded['Age'] <= 64), 'age_group'] = 'middle-aged'\n",
    "df_excluded.loc[df_excluded['Age'] > 64, 'age_group'] = 'senior'"
   ]
  },
  {
   "cell_type": "code",
   "execution_count": null,
   "id": "0630d016",
   "metadata": {},
   "outputs": [],
   "source": [
    "# Check value counts for each age group\n",
    "age_group_counts = df_excluded['age_group'].value_counts(dropna = False)\n",
    "age_group_counts"
   ]
  },
  {
   "cell_type": "code",
   "execution_count": null,
   "id": "89dce03e",
   "metadata": {},
   "outputs": [],
   "source": [
    "# Create pie chart showing the distribution of age groups\n",
    "age_group_distribution_pie = age_group_counts.plot.pie(autopct='%1.1f%%', labels= ['middle-aged: 45-64 years', 'adult: 26-44 years', 'senior: 65+ years', 'young adult: up to 25 years'], startangle=90, colors=['#ff9999','#66b3ff','#99ff99','#ffcc99'])\n",
    "plt.ylabel('')  # Hide the y-label\n",
    "plt.title('Distribution of Age Groups')\n",
    "plt.show()"
   ]
  },
  {
   "cell_type": "code",
   "execution_count": null,
   "id": "a5e621e3",
   "metadata": {},
   "outputs": [],
   "source": [
    "# Export chart\n",
    "age_group_distribution_pie.figure.savefig(os.path.join(path, '04 Analysis','Visualizations', 'age_group_distribution_pie.png'))"
   ]
  },
  {
   "cell_type": "markdown",
   "id": "de374183",
   "metadata": {},
   "source": [
    "### Dependents"
   ]
  },
  {
   "cell_type": "code",
   "execution_count": null,
   "id": "ff30d93a",
   "metadata": {},
   "outputs": [],
   "source": [
    "# Create a dependents flag\n",
    "df_excluded.loc[df_excluded['Number of Dependents'] == 0, 'dependants_flag'] = 'no dependants'\n",
    "df_excluded.loc[df_excluded['Number of Dependents'] >= 1, 'dependants_flag'] = 'has dependants'"
   ]
  },
  {
   "cell_type": "code",
   "execution_count": null,
   "id": "b0cb8cde",
   "metadata": {},
   "outputs": [],
   "source": [
    "# Check value counts\n",
    "dependant_counts = df_excluded['dependants_flag'].value_counts(dropna = False)\n",
    "dependant_counts"
   ]
  },
  {
   "cell_type": "code",
   "execution_count": null,
   "id": "f007d5c2",
   "metadata": {},
   "outputs": [],
   "source": [
    "# Create a pie chart showing the percentage of dependants\n",
    "dependants_pie = dependant_counts.plot.pie(autopct='%1.1f%%', labels= ['has dependants', 'no dependants'], startangle=90, colors=['#ff9999','#66b3ff'])\n",
    "plt.ylabel('')  # Hide the y-label\n",
    "plt.title('Percentage Having Dependants')\n",
    "plt.show()"
   ]
  },
  {
   "cell_type": "code",
   "execution_count": null,
   "id": "c0ef2227",
   "metadata": {},
   "outputs": [],
   "source": [
    "# Export the new dataframe\n",
    "df_excluded.to_pickle(os.path.join(path, '02 Data','Prepared Data', 'low_activity_excluded.pkl'))"
   ]
  },
  {
   "cell_type": "code",
   "execution_count": null,
   "id": "fd2c765e",
   "metadata": {},
   "outputs": [],
   "source": [
    "# Import dataframe\n",
    "df_excluded = pd.read_pickle(os.path.join(path, '02 Data', 'Prepared Data', 'low_activity_excluded.pkl'))"
   ]
  },
  {
   "cell_type": "code",
   "execution_count": null,
   "id": "07fe8f84",
   "metadata": {},
   "outputs": [],
   "source": [
    "list(df_excluded.columns.values)"
   ]
  },
  {
   "cell_type": "markdown",
   "id": "1e12c5bb",
   "metadata": {},
   "source": [
    "### Loyalty VS Age Group"
   ]
  },
  {
   "cell_type": "code",
   "execution_count": null,
   "id": "fc460d24",
   "metadata": {},
   "outputs": [],
   "source": [
    "# Crosstab loyalty with age group\n",
    "loyalty_age_cross = pd.crosstab(df_excluded['loyalty_flag'], df_excluded['age_group'], dropna = False)\n",
    "loyalty_age_cross"
   ]
  },
  {
   "cell_type": "code",
   "execution_count": null,
   "id": "0e6a6134",
   "metadata": {},
   "outputs": [],
   "source": [
    "# bar chart\n",
    "loyalty_age_bar = loyalty_age_cross.plot.bar()\n",
    "plt.title('Loyalty by Age Group')\n",
    "plt.xlabel('')\n",
    "plt.ylabel('count')\n",
    "plt.xticks(rotation=0)"
   ]
  },
  {
   "cell_type": "code",
   "execution_count": null,
   "id": "e55caefe",
   "metadata": {},
   "outputs": [],
   "source": [
    "# Export the chart\n",
    "loyalty_age_bar.figure.savefig(os.path.join(path, '04 Analysis','Visualizations', 'loyalty_age_group_bar.png'))"
   ]
  },
  {
   "cell_type": "markdown",
   "id": "db573ade",
   "metadata": {},
   "source": [
    "### Spending VS Age Group"
   ]
  },
  {
   "cell_type": "code",
   "execution_count": null,
   "id": "ec8893be",
   "metadata": {},
   "outputs": [],
   "source": [
    "# Crosstab spending with age group\n",
    "spending_age_cross = pd.crosstab(df_excluded['spending_flag'], df_excluded['age_group'], dropna = False)\n",
    "spending_age_cross"
   ]
  },
  {
   "cell_type": "code",
   "execution_count": null,
   "id": "3724b709",
   "metadata": {},
   "outputs": [],
   "source": [
    "# bar chart\n",
    "spending_age_bar = spending_age_cross.plot.bar()\n",
    "plt.title('Spending by Age Group')\n",
    "plt.xlabel('')\n",
    "plt.ylabel('count')\n",
    "plt.xticks(rotation=0)"
   ]
  },
  {
   "cell_type": "code",
   "execution_count": null,
   "id": "64473444",
   "metadata": {},
   "outputs": [],
   "source": [
    "# Export the chart\n",
    "spending_age_bar.figure.savefig(os.path.join(path, '04 Analysis','Visualizations', 'spending_age_group_bar.png'))"
   ]
  },
  {
   "cell_type": "markdown",
   "id": "8774ea81",
   "metadata": {},
   "source": [
    "### Regional spending with low activity customers excluded"
   ]
  },
  {
   "cell_type": "code",
   "execution_count": null,
   "id": "730f4c92",
   "metadata": {},
   "outputs": [],
   "source": [
    "df_excluded.loc[df_excluded['State'] == 'Pennsylvania', 'region'] = 'Northeast'"
   ]
  },
  {
   "cell_type": "code",
   "execution_count": null,
   "id": "5fa9d6cc",
   "metadata": {},
   "outputs": [],
   "source": [
    "# Crosstab Region to spending flag\n",
    "region_spending_cross = pd.crosstab(df_excluded['region'], df_excluded['spending_flag'], dropna = False)"
   ]
  },
  {
   "cell_type": "code",
   "execution_count": null,
   "id": "007566e5",
   "metadata": {},
   "outputs": [],
   "source": [
    "region_spending_cross"
   ]
  },
  {
   "cell_type": "code",
   "execution_count": null,
   "id": "605842e8",
   "metadata": {},
   "outputs": [],
   "source": [
    "# bar chart\n",
    "region_spending_bar = region_spending_cross.plot.bar()\n",
    "plt.title('Spending by Region')\n",
    "plt.xlabel('')\n",
    "plt.ylabel('count')\n",
    "plt.xticks(rotation=0)"
   ]
  },
  {
   "cell_type": "code",
   "execution_count": null,
   "id": "3f2d2826",
   "metadata": {},
   "outputs": [],
   "source": [
    "# Export the chart\n",
    "region_spending_bar.figure.savefig(os.path.join(path, '04 Analysis','Visualizations', 'region_spending_bar.png'))"
   ]
  },
  {
   "cell_type": "markdown",
   "id": "e8929358",
   "metadata": {},
   "source": [
    "### Orders by Department"
   ]
  },
  {
   "cell_type": "code",
   "execution_count": null,
   "id": "808ad632",
   "metadata": {},
   "outputs": [],
   "source": [
    "# Import departments dataframe\n",
    "dept = pd.read_csv(os.path.join(path, '02 Data', 'Prepared Data', 'departments_wrangled.csv'))"
   ]
  },
  {
   "cell_type": "code",
   "execution_count": null,
   "id": "3d625245",
   "metadata": {},
   "outputs": [],
   "source": [
    "dept"
   ]
  },
  {
   "cell_type": "code",
   "execution_count": null,
   "id": "35ac5942",
   "metadata": {},
   "outputs": [],
   "source": [
    "df_excluded.drop(columns = ['_merge'])"
   ]
  },
  {
   "cell_type": "code",
   "execution_count": null,
   "id": "381a2dd8",
   "metadata": {},
   "outputs": [],
   "source": [
    "df_final_merged = df_excluded.merge(dept, on='department_id', indicator='created')"
   ]
  },
  {
   "cell_type": "code",
   "execution_count": null,
   "id": "99b8833e",
   "metadata": {},
   "outputs": [],
   "source": [
    "# Exporting new dataframe with department merged \n",
    "df_final_merged.to_pickle(os.path.join(path,'02 Data','Prepared Data','orders_products_customers_departments.pkl'))"
   ]
  },
  {
   "cell_type": "code",
   "execution_count": null,
   "id": "6c31c513",
   "metadata": {},
   "outputs": [],
   "source": [
    "# bar chart frequency of orders vs department\n",
    "depts_bar = df_final_merged['department'].value_counts(ascending=True).plot(kind='barh', color='blue', xlabel = 'Count', title='Products Ordered by Department')"
   ]
  },
  {
   "cell_type": "code",
   "execution_count": null,
   "id": "e6eca5cb",
   "metadata": {},
   "outputs": [],
   "source": [
    "# Export bar chart\n",
    "depts_bar.figure.savefig(os.path.join(path, '04 Analysis','Visualizations', 'depts_bar.png'))"
   ]
  },
  {
   "cell_type": "markdown",
   "id": "4f4b9762",
   "metadata": {},
   "source": [
    "### Age VS Department"
   ]
  },
  {
   "cell_type": "code",
   "execution_count": null,
   "id": "e3675920",
   "metadata": {},
   "outputs": [],
   "source": [
    "# crosstab age group vs department\n",
    "age_dept_cross = pd.crosstab(df_final_merged['age_group'], df_final_merged['department'], dropna = False)\n",
    "age_dept_cross"
   ]
  },
  {
   "cell_type": "code",
   "execution_count": null,
   "id": "5bafc776",
   "metadata": {},
   "outputs": [],
   "source": [
    "# bar chart\n",
    "age_dept_bar = age_dept_cross.plot(kind = 'barh', figsize=(14,10))\n",
    "plt.title('Department Sales by Age Group')\n",
    "plt.xlabel('products count')\n",
    "plt.ylabel('age group')\n",
    "# Move legend outside of plot\n",
    "plt.legend(title='Department', bbox_to_anchor=(1.05, 1), loc='upper left', fontsize=12, title_fontsize=14)"
   ]
  },
  {
   "cell_type": "code",
   "execution_count": null,
   "id": "486f5439",
   "metadata": {},
   "outputs": [],
   "source": [
    "# Export bar chart\n",
    "age_dept_bar.figure.savefig(os.path.join(path, '04 Analysis','Visualizations', 'age_depts_bar.png'))"
   ]
  },
  {
   "cell_type": "markdown",
   "id": "7867b437",
   "metadata": {},
   "source": [
    "# Income VS Department"
   ]
  },
  {
   "cell_type": "code",
   "execution_count": null,
   "id": "e52b6db0",
   "metadata": {},
   "outputs": [],
   "source": [
    "# crosstab income group vs department\n",
    "income_dept_cross = pd.crosstab(df_final_merged['income_group'], df_final_merged['department'], dropna = False)\n",
    "income_dept_cross"
   ]
  },
  {
   "cell_type": "code",
   "execution_count": null,
   "id": "ad6f50c0",
   "metadata": {},
   "outputs": [],
   "source": [
    "# bar chart\n",
    "income_dept_bar = income_dept_cross.plot(kind = 'barh', figsize=(14,10))\n",
    "plt.title('Department Sales by Income Group')\n",
    "plt.xlabel('products count')\n",
    "plt.ylabel('income group')\n",
    "# Move legend outside of plot\n",
    "plt.legend(title='Department', bbox_to_anchor=(1.05, 1), loc='upper left', fontsize=12, title_fontsize=14)"
   ]
  },
  {
   "cell_type": "code",
   "execution_count": null,
   "id": "d3066b02",
   "metadata": {},
   "outputs": [],
   "source": [
    "# Export bar chart\n",
    "income_dept_bar.figure.savefig(os.path.join(path, '04 Analysis','Visualizations', 'income_depts_bar.png'))"
   ]
  },
  {
   "cell_type": "markdown",
   "id": "58dc28ab",
   "metadata": {},
   "source": [
    "# 7. Aggregate max, mean, and min variables on a customer-profile level for usage frequency and expenditure"
   ]
  },
  {
   "cell_type": "code",
   "execution_count": null,
   "id": "578b03e5",
   "metadata": {},
   "outputs": [],
   "source": [
    "# Create a subset of customer profiles and show the total price of each order\n",
    "customer_profile = df_final_merged.groupby(['user_id', 'gender', 'State', 'region', 'Number of Dependents', 'Family Status', 'age_group', 'order_number', 'orders_day_of_week', 'order_hour_of_day', 'loyalty_flag', 'customer_frequency', 'dependants_flag', 'income_group', 'spender_flag'])['prices'].sum().reset_index()"
   ]
  },
  {
   "cell_type": "code",
   "execution_count": null,
   "id": "3aaf4d74",
   "metadata": {},
   "outputs": [],
   "source": [
    "customer_profile.head()"
   ]
  },
  {
   "cell_type": "code",
   "execution_count": null,
   "id": "7aa20f12",
   "metadata": {},
   "outputs": [],
   "source": [
    "# Aggregate variables for customer profiles for expenditure\n",
    "customer_agg = customer_profile.groupby('user_id').agg({'order_number': ['max', 'min', 'mean'], 'prices': ['max', 'min', 'mean']})"
   ]
  },
  {
   "cell_type": "code",
   "execution_count": null,
   "id": "c1e47d37",
   "metadata": {},
   "outputs": [],
   "source": [
    "customer_agg"
   ]
  },
  {
   "cell_type": "code",
   "execution_count": null,
   "id": "ad1f2bd3",
   "metadata": {},
   "outputs": [],
   "source": [
    "# Aggregate variables for customer profiles for usage frequency\n",
    "freq_agg = df_excluded.groupby('user_id').agg({'order_number': ['max', 'min', 'mean'], 'days_since_prior_order': ['max', 'min', 'mean']})"
   ]
  },
  {
   "cell_type": "code",
   "execution_count": null,
   "id": "0e323646",
   "metadata": {},
   "outputs": [],
   "source": [
    "freq_agg"
   ]
  },
  {
   "cell_type": "markdown",
   "id": "f87e6509",
   "metadata": {},
   "source": [
    "# 8. Customer profiles compared with regions and departments"
   ]
  },
  {
   "cell_type": "markdown",
   "id": "3e060f31",
   "metadata": {},
   "source": [
    "### Region VS Department"
   ]
  },
  {
   "cell_type": "code",
   "execution_count": null,
   "id": "ab696f8a",
   "metadata": {},
   "outputs": [],
   "source": [
    "# crosstab age group vs department\n",
    "region_dept_cross = pd.crosstab(df_final_merged['region'], df_final_merged['department'], dropna = False)\n",
    "region_dept_cross"
   ]
  },
  {
   "cell_type": "code",
   "execution_count": null,
   "id": "4a50065c",
   "metadata": {},
   "outputs": [],
   "source": [
    "# bar chart\n",
    "region_dept_bar = region_dept_cross.plot(kind = 'barh', figsize=(14,10))\n",
    "plt.title('Department Sales by Region')\n",
    "plt.xlabel('products count')\n",
    "plt.ylabel('region')\n",
    "# Move legend outside of plot\n",
    "plt.legend(title='Department', bbox_to_anchor=(1.05, 1), loc='upper left', fontsize=12, title_fontsize=14)"
   ]
  },
  {
   "cell_type": "code",
   "execution_count": null,
   "id": "1c1da7c3",
   "metadata": {},
   "outputs": [],
   "source": [
    "# Export bar chart\n",
    "region_dept_bar.figure.savefig(os.path.join(path, '04 Analysis','Visualizations', 'region_depts_bar.png'))"
   ]
  },
  {
   "cell_type": "code",
   "execution_count": null,
   "id": "a25efcf1",
   "metadata": {},
   "outputs": [],
   "source": [
    "# import orders_products_customers\n",
    "df = pd.read_pickle(os.path.join(path, '02 Data', 'Prepared Data', 'orders_products_customers_departments.pkl'))"
   ]
  },
  {
   "cell_type": "code",
   "execution_count": null,
   "id": "eb58bb68",
   "metadata": {},
   "outputs": [],
   "source": [
    "# bar chart orders by day of week\n",
    "orders_dow_bar = df['orders_day_of_week'].value_counts().sort_index().plot.bar(color = 'blue')\n",
    "orders_dow_bar.set_title('Orders by Day of Week')\n",
    "orders_dow_bar.set_xticklabels(['Saturday', 'Sunday', 'Monday', 'Tuesday', 'Wednesday', 'Thursday', 'Friday'], rotation=0)\n",
    "orders_dow_bar.set_xlabel(\"\")"
   ]
  },
  {
   "cell_type": "code",
   "execution_count": null,
   "id": "e43e6f98",
   "metadata": {},
   "outputs": [],
   "source": [
    "# Export bar chart\n",
    "orders_dow_bar.figure.savefig(os.path.join(path, '04 Analysis','Visualizations', 'orders_dow_bar.png'))"
   ]
  },
  {
   "cell_type": "code",
   "execution_count": null,
   "id": "710144d7",
   "metadata": {},
   "outputs": [],
   "source": [
    "# histogram of hours of the day\n",
    "hod_hist=df['order_hour_of_day'].plot.hist(bins = 24)\n",
    "plt.title('Orders by Hour of Day')\n",
    "plt.xlabel('Hour of Day (24 hr clock)')"
   ]
  },
  {
   "cell_type": "code",
   "execution_count": null,
   "id": "67745890",
   "metadata": {},
   "outputs": [],
   "source": [
    "# Export histogram\n",
    "hod_hist.figure.savefig(os.path.join(path, '04 Analysis','Visualizations', 'hod_hist.png'))"
   ]
  },
  {
   "cell_type": "code",
   "execution_count": null,
   "id": "f7a4753d",
   "metadata": {},
   "outputs": [],
   "source": [
    "# Crosstab loyalty with age group\n",
    "loyalty_income_cross = pd.crosstab(df['loyalty_flag'], df['income_group'], dropna = False)\n",
    "loyalty_income_cross"
   ]
  },
  {
   "cell_type": "code",
   "execution_count": null,
   "id": "0a5508b8",
   "metadata": {},
   "outputs": [],
   "source": [
    "# bar chart\n",
    "loyalty_income_bar = loyalty_income_cross.plot.bar()\n",
    "plt.title('Loyalty by Income Group')\n",
    "plt.xlabel('')\n",
    "plt.ylabel('count')\n",
    "plt.xticks(rotation=0)"
   ]
  },
  {
   "cell_type": "code",
   "execution_count": null,
   "id": "3f453b16",
   "metadata": {},
   "outputs": [],
   "source": [
    "# Export the chart\n",
    "loyalty_income_bar.figure.savefig(os.path.join(path, '04 Analysis','Visualizations', 'loyalty_income_group_bar.png'))"
   ]
  },
  {
   "cell_type": "code",
   "execution_count": null,
   "id": "fa2b1c8e",
   "metadata": {},
   "outputs": [],
   "source": [
    "# Crosstab loyalty with spending\n",
    "loyalty_spender_cross = pd.crosstab(df['loyalty_flag'], df['spending_flag'], dropna = False)\n",
    "loyalty_spender_cross"
   ]
  },
  {
   "cell_type": "code",
   "execution_count": null,
   "id": "fdaeb795",
   "metadata": {},
   "outputs": [],
   "source": [
    "# bar chart\n",
    "loyalty_spender_bar = loyalty_spender_cross.plot.bar()\n",
    "plt.title('Loyalty by Spender flag')\n",
    "plt.xlabel('')\n",
    "plt.ylabel('count')\n",
    "plt.xticks(rotation=0)"
   ]
  },
  {
   "cell_type": "code",
   "execution_count": null,
   "id": "4a0efe87",
   "metadata": {},
   "outputs": [],
   "source": [
    "# Export the chart\n",
    "loyalty_spender_bar.figure.savefig(os.path.join(path, '04 Analysis','Visualizations', 'loyalty_spender_bar.png'))"
   ]
  },
  {
   "cell_type": "code",
   "execution_count": null,
   "id": "727031ca",
   "metadata": {},
   "outputs": [],
   "source": [
    "# Crosstab loyalty with family status\n",
    "loyalty_fam_cross = pd.crosstab(df['loyalty_flag'], df['Family Status'], dropna = False)\n",
    "loyalty_fam_cross"
   ]
  },
  {
   "cell_type": "code",
   "execution_count": null,
   "id": "0131aaec",
   "metadata": {},
   "outputs": [],
   "source": [
    "# bar chart\n",
    "loyalty_fam_bar = loyalty_fam_cross.plot.bar()\n",
    "plt.title('Loyalty by Family Status')\n",
    "plt.xlabel('')\n",
    "plt.ylabel('count')\n",
    "plt.xticks(rotation=0)"
   ]
  },
  {
   "cell_type": "code",
   "execution_count": null,
   "id": "36ec5728",
   "metadata": {},
   "outputs": [],
   "source": [
    "# Export the chart\n",
    "loyalty_fam_bar.figure.savefig(os.path.join(path, '04 Analysis','Visualizations', 'loyalty_fam_bar.png'))"
   ]
  },
  {
   "cell_type": "code",
   "execution_count": null,
   "id": "f82d5409",
   "metadata": {},
   "outputs": [],
   "source": [
    "# Crosstab loyalty with dependants\n",
    "loyalty_depend_cross = pd.crosstab(df['loyalty_flag'], df['dependants_flag'], dropna = False)\n",
    "loyalty_depend_cross"
   ]
  },
  {
   "cell_type": "code",
   "execution_count": null,
   "id": "0553a13a",
   "metadata": {},
   "outputs": [],
   "source": [
    "# bar chart\n",
    "loyalty_depend_bar = loyalty_depend_cross.plot.bar()\n",
    "plt.title('Loyalty by Dependants Status')\n",
    "plt.xlabel('')\n",
    "plt.ylabel('count')\n",
    "plt.xticks(rotation=0)"
   ]
  },
  {
   "cell_type": "code",
   "execution_count": null,
   "id": "3e765996",
   "metadata": {},
   "outputs": [],
   "source": [
    "# Check value counts\n",
    "fam_status = df['Family Status'].value_counts(dropna = False)\n",
    "fam_status"
   ]
  },
  {
   "cell_type": "code",
   "execution_count": null,
   "id": "d710c77c",
   "metadata": {},
   "outputs": [],
   "source": [
    "# Pie chart showing the distribution of family status\n",
    "fam_status_distribution_pie = fam_status.plot.pie(autopct='%1.1f%%', labels= ['married', 'single', 'divorced/widowed', 'living with parents and siblings'], startangle=90, colors=['#ff9999','#66b3ff','#99ff99','#ffcc99'])\n",
    "plt.ylabel('')  # Hide the y-label\n",
    "plt.title('Distribution of Family Status')\n",
    "plt.show()"
   ]
  },
  {
   "cell_type": "code",
   "execution_count": null,
   "id": "9ba74e5f",
   "metadata": {},
   "outputs": [],
   "source": [
    "# Export the chart\n",
    "fam_status_distribution_pie.figure.savefig(os.path.join(path, '04 Analysis','Visualizations', 'fam_status_bar.png'))"
   ]
  },
  {
   "cell_type": "code",
   "execution_count": null,
   "id": "b0b8bb45",
   "metadata": {},
   "outputs": [],
   "source": []
  },
  {
   "cell_type": "code",
   "execution_count": null,
   "id": "cb438b62",
   "metadata": {},
   "outputs": [],
   "source": []
  },
  {
   "cell_type": "code",
   "execution_count": null,
   "id": "8c61bcba",
   "metadata": {},
   "outputs": [],
   "source": []
  },
  {
   "cell_type": "code",
   "execution_count": null,
   "id": "9ba29388",
   "metadata": {},
   "outputs": [],
   "source": []
  },
  {
   "cell_type": "code",
   "execution_count": null,
   "id": "aec2a262",
   "metadata": {},
   "outputs": [],
   "source": []
  },
  {
   "cell_type": "code",
   "execution_count": null,
   "id": "92d3f987",
   "metadata": {},
   "outputs": [],
   "source": []
  },
  {
   "cell_type": "code",
   "execution_count": null,
   "id": "d93aa9a3",
   "metadata": {},
   "outputs": [],
   "source": []
  },
  {
   "cell_type": "code",
   "execution_count": null,
   "id": "0ed10f5e",
   "metadata": {},
   "outputs": [],
   "source": []
  },
  {
   "cell_type": "code",
   "execution_count": null,
   "id": "a1dea2d0",
   "metadata": {},
   "outputs": [],
   "source": []
  },
  {
   "cell_type": "code",
   "execution_count": null,
   "id": "f5719719",
   "metadata": {},
   "outputs": [],
   "source": []
  },
  {
   "cell_type": "code",
   "execution_count": null,
   "id": "7a67b67a",
   "metadata": {},
   "outputs": [],
   "source": []
  }
 ],
 "metadata": {
  "kernelspec": {
   "display_name": "Python 3 (ipykernel)",
   "language": "python",
   "name": "python3"
  },
  "language_info": {
   "codemirror_mode": {
    "name": "ipython",
    "version": 3
   },
   "file_extension": ".py",
   "mimetype": "text/x-python",
   "name": "python",
   "nbconvert_exporter": "python",
   "pygments_lexer": "ipython3",
   "version": "3.9.13"
  }
 },
 "nbformat": 4,
 "nbformat_minor": 5
}
