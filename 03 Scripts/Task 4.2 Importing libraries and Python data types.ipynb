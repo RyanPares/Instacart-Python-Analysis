{
 "cells": [
  {
   "cell_type": "markdown",
   "id": "bda4c4ba",
   "metadata": {},
   "source": [
    "# Importing libraries"
   ]
  },
  {
   "cell_type": "code",
   "execution_count": 24,
   "id": "de4b9591",
   "metadata": {},
   "outputs": [],
   "source": [
    "# Import Libraries\n",
    "import pandas as pd\n",
    "import numpy as np\n",
    "import os"
   ]
  },
  {
   "cell_type": "markdown",
   "id": "4986968b",
   "metadata": {},
   "source": [
    "# Working with Python data types"
   ]
  },
  {
   "cell_type": "code",
   "execution_count": 38,
   "id": "4a925a89",
   "metadata": {},
   "outputs": [],
   "source": [
    "# 3 different ways of reaching a result of 100 by adding or subtracting numeric variables\n",
    "x = 50\n",
    "y = 300\n",
    "z = 150"
   ]
  },
  {
   "cell_type": "code",
   "execution_count": 32,
   "id": "57afb803",
   "metadata": {},
   "outputs": [
    {
     "name": "stdout",
     "output_type": "stream",
     "text": [
      "100\n"
     ]
    }
   ],
   "source": [
    "print (z-x)"
   ]
  },
  {
   "cell_type": "code",
   "execution_count": 33,
   "id": "fbc6f19e",
   "metadata": {},
   "outputs": [
    {
     "name": "stdout",
     "output_type": "stream",
     "text": [
      "100\n"
     ]
    }
   ],
   "source": [
    "print (x+x)"
   ]
  },
  {
   "cell_type": "code",
   "execution_count": 37,
   "id": "5ea3795f",
   "metadata": {},
   "outputs": [
    {
     "name": "stdout",
     "output_type": "stream",
     "text": [
      "100\n"
     ]
    }
   ],
   "source": [
    "print (y-z+x)"
   ]
  },
  {
   "cell_type": "code",
   "execution_count": 40,
   "id": "6e51fd66",
   "metadata": {},
   "outputs": [],
   "source": [
    "#2 floating-point variables divided by each other\n",
    "p = 2.2\n",
    "q = 1.1"
   ]
  },
  {
   "cell_type": "code",
   "execution_count": 41,
   "id": "dc53956c",
   "metadata": {},
   "outputs": [
    {
     "name": "stdout",
     "output_type": "stream",
     "text": [
      "2.0\n"
     ]
    }
   ],
   "source": [
    "print (p/q)"
   ]
  },
  {
   "cell_type": "code",
   "execution_count": 43,
   "id": "1bc76280",
   "metadata": {},
   "outputs": [],
   "source": [
    "# Short word made of separate strings\n",
    "a = 'basket'\n",
    "b = 'ball'"
   ]
  },
  {
   "cell_type": "code",
   "execution_count": 44,
   "id": "f531a366",
   "metadata": {},
   "outputs": [
    {
     "name": "stdout",
     "output_type": "stream",
     "text": [
      "basketball\n"
     ]
    }
   ],
   "source": [
    "print(a+b)"
   ]
  },
  {
   "cell_type": "code",
   "execution_count": 45,
   "id": "473e6c33",
   "metadata": {},
   "outputs": [
    {
     "name": "stdout",
     "output_type": "stream",
     "text": [
      "basket ball\n"
     ]
    }
   ],
   "source": [
    "print (a+' '+b)"
   ]
  },
  {
   "cell_type": "code",
   "execution_count": 58,
   "id": "c89ed7e2",
   "metadata": {},
   "outputs": [],
   "source": [
    "# 2 short sentences made of separate strings\n",
    "r = ' Hello World'\n",
    "s = 'My first computer program was to print the phrase'\n",
    "t = ' and '"
   ]
  },
  {
   "cell_type": "code",
   "execution_count": 59,
   "id": "a0318919",
   "metadata": {},
   "outputs": [
    {
     "name": "stdout",
     "output_type": "stream",
     "text": [
      "My first computer program was to print the phrase Hello World\n"
     ]
    }
   ],
   "source": [
    "print (s+r)"
   ]
  },
  {
   "cell_type": "code",
   "execution_count": 60,
   "id": "078780d5",
   "metadata": {},
   "outputs": [
    {
     "name": "stdout",
     "output_type": "stream",
     "text": [
      "My first computer program was to print the phrase Hello World and basketball\n"
     ]
    }
   ],
   "source": [
    "print(s+r+t+a+b)"
   ]
  },
  {
   "cell_type": "markdown",
   "id": "214466d1",
   "metadata": {},
   "source": [
    "Bonus: Command that makes a string appear 100 times."
   ]
  },
  {
   "cell_type": "code",
   "execution_count": 61,
   "id": "8be7e736",
   "metadata": {},
   "outputs": [
    {
     "name": "stdout",
     "output_type": "stream",
     "text": [
      "ballballballballballballballballballballballballballballballballballballballballballballballballballballballballballballballballballballballballballballballballballballballballballballballballballballballballballballballballballballballballballballballballballballballballballballballballballballballballballballballballballballballballballballballballballballballballballballballballballballballballballballballballballballballballballballballballballballballballballballballballballballballballballballballballballballballballballballballballballballballballballballballballballballballballballballballballballballballballballballballballballballballballballballballballballballballballballballballballballballballballballballballballballballballballballballballballballballballballballballballballballballballballballballballballballballballballballballballballballballballballballballballballballballballballballballballballballballballballballballballballballballballballballballballballballballballballballballballballballballballballballballballballballballballballballballballballballballballballballballballballballballballballballballballballballballballballballballballballballballballballballballballballballballballballballballballballballballballballballballballballballballballballballballballballballballballballballballballballballballballballballballballballballballballballballballballballballballballballballballballballballballballballballballballballballballballballballballballballballballballballballballballballballballballballballballballballballballballballballballballballballballballballballballballballballballballballballballballballballballballballballballballballballballballballballballballballballballballballballballballballballballballballballballballballballballballballballballballballballballballballballballballballballballballballballballballballballballballballballballballballballballballballballballballballballballballballballballballballballballballballballballballballballballballballballballballballballballballballballballballballballballballballballballballballballballballballballballballballballballballballballballballballballballballballballballballballballballballballballballballballballballballballballballballballballballballballballballballballballballballballballballballballballballballballballballballballballballballballballballballballballballballballballballballballballballballballballballballballballballballballballballballballballballballballballballballballballballballballballballballballballballballballballballballballballballballballballballballballballballballballballballballballballballballballballballballballballballballballballballballballballballballballballballballballballballballballballballballballballballballballballballballballballballballballballballballballballballballballballballballballballballballballballballballballballballballballballballballballballballballballballballballballballballballballballballballballballballballballballballballballballballballballballballballballballballballballballballballballballballballballballballballballballballballballballballballballballballballballballballballballballballballballballballballballballballballballballballballballballballballballballballballballballballballballballballballballballballballballballballballballballballballballballballballballballballballballballballballballballballballballballballballballballballballballballballballballballballballballballballballballballballballballballballballballballballballballballballballballballballballballballballballballballballballballballballballballballballballballballballballballballballballballballballballballballballballballballballballballballballballballballballballballballballballballballballballballballballballballballballballballballballballballballballballballballballballballballballballballballballballballballballballballballballballballballballballballballballballballballballballball\n"
     ]
    }
   ],
   "source": [
    "print (b*1000)"
   ]
  },
  {
   "cell_type": "code",
   "execution_count": null,
   "id": "b986bbc8",
   "metadata": {},
   "outputs": [],
   "source": []
  }
 ],
 "metadata": {
  "kernelspec": {
   "display_name": "Python 3 (ipykernel)",
   "language": "python",
   "name": "python3"
  },
  "language_info": {
   "codemirror_mode": {
    "name": "ipython",
    "version": 3
   },
   "file_extension": ".py",
   "mimetype": "text/x-python",
   "name": "python",
   "nbconvert_exporter": "python",
   "pygments_lexer": "ipython3",
   "version": "3.9.13"
  }
 },
 "nbformat": 4,
 "nbformat_minor": 5
}
