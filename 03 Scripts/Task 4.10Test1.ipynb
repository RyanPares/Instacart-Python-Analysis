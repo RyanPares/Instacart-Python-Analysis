{
 "cells": [
  {
   "cell_type": "markdown",
   "id": "32ecefe0",
   "metadata": {},
   "source": [
    "# Task 4.10"
   ]
  },
  {
   "cell_type": "markdown",
   "id": "1b4f41c1",
   "metadata": {},
   "source": [
    "# Contents"
   ]
  },
  {
   "cell_type": "markdown",
   "id": "ef99e5c2",
   "metadata": {
    "jp-MarkdownHeadingCollapsed": true
   },
   "source": [
    "# 1. Import Libraries & Dataframes\n",
    "# 2. Consider security implications & PII data\n",
    "# 3. Regional segmentation of data\n",
    "# 4. Difference in Spending habits between different regions in the U.S\n",
    "# 5. Exclusion flag for low-activity customers\n",
    "# 6. Customer profiling\n",
    "# 7. Aggregate max, mean, and min variables on a customer-profile level for usage frequency and expenditure\n",
    "# 8. Customer profiles compared with regions and departments"
   ]
  },
  {
   "cell_type": "markdown",
   "id": "4c504acc",
   "metadata": {},
   "source": [
    "# 1. Import Libraries & Dataframes"
   ]
  },
  {
   "cell_type": "code",
   "execution_count": 5,
   "id": "d01bf2f7",
   "metadata": {},
   "outputs": [],
   "source": [
    "# Import Libraries\n",
    "import pandas as pd\n",
    "import numpy as np\n",
    "import os\n",
    "import matplotlib.pyplot as plt\n",
    "import seaborn as sns\n",
    "import scipy"
   ]
  },
  {
   "cell_type": "code",
   "execution_count": 6,
   "id": "9c00a480",
   "metadata": {},
   "outputs": [],
   "source": [
    "# Set path\n",
    "path = r'C:\\Users\\ascon\\Instacart Basket Analysis'"
   ]
  },
  {
   "cell_type": "code",
   "execution_count": 7,
   "id": "c92833fd",
   "metadata": {},
   "outputs": [],
   "source": [
    "# Import Order_Products_Customer (OPC) dataframes ()\n",
    "OPC_df = pd.read_pickle(os.path.join(path, '02 Data', 'Prepared Data', 'ords_prods_cust_merge.pkl'))"
   ]
  },
  {
   "cell_type": "code",
   "execution_count": 8,
   "id": "19c89782",
   "metadata": {},
   "outputs": [
    {
     "data": {
      "text/plain": [
       "(32404859, 37)"
      ]
     },
     "execution_count": 8,
     "metadata": {},
     "output_type": "execute_result"
    }
   ],
   "source": [
    "# Check shape of data\n",
    "OPC_df.shape"
   ]
  },
  {
   "cell_type": "code",
   "execution_count": 9,
   "id": "6bb91448",
   "metadata": {},
   "outputs": [
    {
     "data": {
      "text/html": [
       "<div>\n",
       "<style scoped>\n",
       "    .dataframe tbody tr th:only-of-type {\n",
       "        vertical-align: middle;\n",
       "    }\n",
       "\n",
       "    .dataframe tbody tr th {\n",
       "        vertical-align: top;\n",
       "    }\n",
       "\n",
       "    .dataframe thead th {\n",
       "        text-align: right;\n",
       "    }\n",
       "</style>\n",
       "<table border=\"1\" class=\"dataframe\">\n",
       "  <thead>\n",
       "    <tr style=\"text-align: right;\">\n",
       "      <th></th>\n",
       "      <th>order_id</th>\n",
       "      <th>user_id</th>\n",
       "      <th>eval_set</th>\n",
       "      <th>order_number</th>\n",
       "      <th>order_dow</th>\n",
       "      <th>order_hour_of_day</th>\n",
       "      <th>days_since_prior_order</th>\n",
       "      <th>product_id</th>\n",
       "      <th>add_to_cart_order</th>\n",
       "      <th>reordered</th>\n",
       "      <th>...</th>\n",
       "      <th>First Name</th>\n",
       "      <th>Last Name</th>\n",
       "      <th>Gender</th>\n",
       "      <th>State</th>\n",
       "      <th>Age</th>\n",
       "      <th>Date Joined</th>\n",
       "      <th>Number of Dependents</th>\n",
       "      <th>Family Status</th>\n",
       "      <th>Income</th>\n",
       "      <th>region</th>\n",
       "    </tr>\n",
       "  </thead>\n",
       "  <tbody>\n",
       "    <tr>\n",
       "      <th>0</th>\n",
       "      <td>2539329</td>\n",
       "      <td>1</td>\n",
       "      <td>prior</td>\n",
       "      <td>1</td>\n",
       "      <td>2</td>\n",
       "      <td>8</td>\n",
       "      <td>NaN</td>\n",
       "      <td>196.0</td>\n",
       "      <td>1.0</td>\n",
       "      <td>0.0</td>\n",
       "      <td>...</td>\n",
       "      <td>Linda</td>\n",
       "      <td>Nguyen</td>\n",
       "      <td>Female</td>\n",
       "      <td>Alabama</td>\n",
       "      <td>31</td>\n",
       "      <td>2/17/2019</td>\n",
       "      <td>3</td>\n",
       "      <td>married</td>\n",
       "      <td>40423</td>\n",
       "      <td>South</td>\n",
       "    </tr>\n",
       "    <tr>\n",
       "      <th>1</th>\n",
       "      <td>2398795</td>\n",
       "      <td>1</td>\n",
       "      <td>prior</td>\n",
       "      <td>2</td>\n",
       "      <td>3</td>\n",
       "      <td>7</td>\n",
       "      <td>15.0</td>\n",
       "      <td>196.0</td>\n",
       "      <td>1.0</td>\n",
       "      <td>1.0</td>\n",
       "      <td>...</td>\n",
       "      <td>Linda</td>\n",
       "      <td>Nguyen</td>\n",
       "      <td>Female</td>\n",
       "      <td>Alabama</td>\n",
       "      <td>31</td>\n",
       "      <td>2/17/2019</td>\n",
       "      <td>3</td>\n",
       "      <td>married</td>\n",
       "      <td>40423</td>\n",
       "      <td>South</td>\n",
       "    </tr>\n",
       "    <tr>\n",
       "      <th>2</th>\n",
       "      <td>473747</td>\n",
       "      <td>1</td>\n",
       "      <td>prior</td>\n",
       "      <td>3</td>\n",
       "      <td>3</td>\n",
       "      <td>12</td>\n",
       "      <td>21.0</td>\n",
       "      <td>196.0</td>\n",
       "      <td>1.0</td>\n",
       "      <td>1.0</td>\n",
       "      <td>...</td>\n",
       "      <td>Linda</td>\n",
       "      <td>Nguyen</td>\n",
       "      <td>Female</td>\n",
       "      <td>Alabama</td>\n",
       "      <td>31</td>\n",
       "      <td>2/17/2019</td>\n",
       "      <td>3</td>\n",
       "      <td>married</td>\n",
       "      <td>40423</td>\n",
       "      <td>South</td>\n",
       "    </tr>\n",
       "    <tr>\n",
       "      <th>3</th>\n",
       "      <td>2254736</td>\n",
       "      <td>1</td>\n",
       "      <td>prior</td>\n",
       "      <td>4</td>\n",
       "      <td>4</td>\n",
       "      <td>7</td>\n",
       "      <td>29.0</td>\n",
       "      <td>196.0</td>\n",
       "      <td>1.0</td>\n",
       "      <td>1.0</td>\n",
       "      <td>...</td>\n",
       "      <td>Linda</td>\n",
       "      <td>Nguyen</td>\n",
       "      <td>Female</td>\n",
       "      <td>Alabama</td>\n",
       "      <td>31</td>\n",
       "      <td>2/17/2019</td>\n",
       "      <td>3</td>\n",
       "      <td>married</td>\n",
       "      <td>40423</td>\n",
       "      <td>South</td>\n",
       "    </tr>\n",
       "    <tr>\n",
       "      <th>4</th>\n",
       "      <td>431534</td>\n",
       "      <td>1</td>\n",
       "      <td>prior</td>\n",
       "      <td>5</td>\n",
       "      <td>4</td>\n",
       "      <td>15</td>\n",
       "      <td>28.0</td>\n",
       "      <td>196.0</td>\n",
       "      <td>1.0</td>\n",
       "      <td>1.0</td>\n",
       "      <td>...</td>\n",
       "      <td>Linda</td>\n",
       "      <td>Nguyen</td>\n",
       "      <td>Female</td>\n",
       "      <td>Alabama</td>\n",
       "      <td>31</td>\n",
       "      <td>2/17/2019</td>\n",
       "      <td>3</td>\n",
       "      <td>married</td>\n",
       "      <td>40423</td>\n",
       "      <td>South</td>\n",
       "    </tr>\n",
       "  </tbody>\n",
       "</table>\n",
       "<p>5 rows × 37 columns</p>\n",
       "</div>"
      ],
      "text/plain": [
       "   order_id  user_id eval_set  order_number  order_dow  order_hour_of_day  \\\n",
       "0   2539329        1    prior             1          2                  8   \n",
       "1   2398795        1    prior             2          3                  7   \n",
       "2    473747        1    prior             3          3                 12   \n",
       "3   2254736        1    prior             4          4                  7   \n",
       "4    431534        1    prior             5          4                 15   \n",
       "\n",
       "   days_since_prior_order  product_id  add_to_cart_order  reordered  ...  \\\n",
       "0                     NaN       196.0                1.0        0.0  ...   \n",
       "1                    15.0       196.0                1.0        1.0  ...   \n",
       "2                    21.0       196.0                1.0        1.0  ...   \n",
       "3                    29.0       196.0                1.0        1.0  ...   \n",
       "4                    28.0       196.0                1.0        1.0  ...   \n",
       "\n",
       "  First Name Last Name  Gender    State  Age Date Joined Number of Dependents  \\\n",
       "0      Linda    Nguyen  Female  Alabama   31   2/17/2019                    3   \n",
       "1      Linda    Nguyen  Female  Alabama   31   2/17/2019                    3   \n",
       "2      Linda    Nguyen  Female  Alabama   31   2/17/2019                    3   \n",
       "3      Linda    Nguyen  Female  Alabama   31   2/17/2019                    3   \n",
       "4      Linda    Nguyen  Female  Alabama   31   2/17/2019                    3   \n",
       "\n",
       "  Family Status Income region  \n",
       "0       married  40423  South  \n",
       "1       married  40423  South  \n",
       "2       married  40423  South  \n",
       "3       married  40423  South  \n",
       "4       married  40423  South  \n",
       "\n",
       "[5 rows x 37 columns]"
      ]
     },
     "execution_count": 9,
     "metadata": {},
     "output_type": "execute_result"
    }
   ],
   "source": [
    "OPC_df.head()"
   ]
  },
  {
   "cell_type": "markdown",
   "id": "9e86e21b",
   "metadata": {},
   "source": [
    "# 2. Consider security implications & PII data"
   ]
  },
  {
   "cell_type": "code",
   "execution_count": null,
   "id": "06130774",
   "metadata": {},
   "outputs": [],
   "source": []
  },
  {
   "cell_type": "code",
   "execution_count": null,
   "id": "6c23c4c8",
   "metadata": {},
   "outputs": [],
   "source": []
  },
  {
   "cell_type": "markdown",
   "id": "699ca050",
   "metadata": {},
   "source": [
    "# 3. Regional segmentation of data"
   ]
  },
  {
   "cell_type": "code",
   "execution_count": 12,
   "id": "915628cc",
   "metadata": {},
   "outputs": [],
   "source": [
    "# Assign Northeast Region\n",
    "OPC_df.loc[OPC_df['State'] == 'Maine', 'region'] = 'Northeast'\n",
    "OPC_df.loc[OPC_df['State'] == 'New Hampshire', 'region'] = 'Northeast'\n",
    "OPC_df.loc[OPC_df['State'] == 'Vermont', 'region'] = 'Northeast'\n",
    "OPC_df.loc[OPC_df['State'] == 'Pennsylvania', 'region'] = 'Northeast'\n",
    "OPC_df.loc[OPC_df['State'] == 'Massachusetts', 'region'] = 'Northeast'\n",
    "OPC_df.loc[OPC_df['State'] == 'Rhode Island', 'region'] = 'Northeast'\n",
    "OPC_df.loc[OPC_df['State'] == 'Connecticut', 'region'] = 'Northeast'"
   ]
  },
  {
   "cell_type": "code",
   "execution_count": 13,
   "id": "5a86ad2f",
   "metadata": {},
   "outputs": [],
   "source": [
    "# Assign Midwest Region\n",
    "OPC_df.loc[OPC_df['State'] == 'Wisconsin', 'region'] = 'Midwest'\n",
    "OPC_df.loc[OPC_df['State'] == 'Michigan', 'region'] = 'Midwest'\n",
    "OPC_df.loc[OPC_df['State'] == 'Illinois', 'region'] = 'Midwest'\n",
    "OPC_df.loc[OPC_df['State'] == 'Indiana', 'region'] = 'Midwest'\n",
    "OPC_df.loc[OPC_df['State'] == 'Ohio', 'region'] = 'Midwest'\n",
    "OPC_df.loc[OPC_df['State'] == 'North Dakota', 'region'] = 'Midwest'\n",
    "OPC_df.loc[OPC_df['State'] == 'South Dakota', 'region'] = 'Midwest'\n",
    "OPC_df.loc[OPC_df['State'] == 'Nebraska', 'region'] = 'Midwest'\n",
    "OPC_df.loc[OPC_df['State'] == 'Kansas', 'region'] = 'Midwest'\n",
    "OPC_df.loc[OPC_df['State'] == 'Minnesota', 'region'] = 'Midwest'\n",
    "OPC_df.loc[OPC_df['State'] == 'Iowa', 'region'] = 'Midwest'\n",
    "OPC_df.loc[OPC_df['State'] == 'Missouri', 'region'] = 'Midwest'"
   ]
  },
  {
   "cell_type": "code",
   "execution_count": 14,
   "id": "328d0f3f",
   "metadata": {},
   "outputs": [],
   "source": [
    "# Assign South Region\n",
    "OPC_df.loc[OPC_df['State'] == 'Delaware', 'region'] = 'South'\n",
    "OPC_df.loc[OPC_df['State'] == 'Maryland', 'region'] = 'South'\n",
    "OPC_df.loc[OPC_df['State'] == 'District of Columbia', 'region'] = 'South'\n",
    "OPC_df.loc[OPC_df['State'] == 'Virginia', 'region'] = 'South'\n",
    "OPC_df.loc[OPC_df['State'] == 'West Virginia', 'region'] = 'South'\n",
    "OPC_df.loc[OPC_df['State'] == 'North Carolina', 'region'] = 'South'\n",
    "OPC_df.loc[OPC_df['State'] == 'South Carolina', 'region'] = 'South'\n",
    "OPC_df.loc[OPC_df['State'] == 'Georgia', 'region'] = 'South'\n",
    "OPC_df.loc[OPC_df['State'] == 'Florida', 'region'] = 'South'\n",
    "OPC_df.loc[OPC_df['State'] == 'Kentucky', 'region'] = 'South'\n",
    "OPC_df.loc[OPC_df['State'] == 'Tennessee', 'region'] = 'South'\n",
    "OPC_df.loc[OPC_df['State'] == 'Mississippi', 'region'] = 'South'\n",
    "OPC_df.loc[OPC_df['State'] == 'Alabama', 'region'] = 'South'\n",
    "OPC_df.loc[OPC_df['State'] == 'Oklahoma', 'region'] = 'South'\n",
    "OPC_df.loc[OPC_df['State'] == 'Texas', 'region'] = 'South'\n",
    "OPC_df.loc[OPC_df['State'] == 'Arkansas', 'region'] = 'South'\n",
    "OPC_df.loc[OPC_df['State'] == 'Louisiana', 'region'] = 'South'"
   ]
  },
  {
   "cell_type": "code",
   "execution_count": 15,
   "id": "a62e79da",
   "metadata": {},
   "outputs": [],
   "source": [
    "# Assign West Region\n",
    "OPC_df.loc[OPC_df['State'] == 'Idaho', 'region'] = 'West'\n",
    "OPC_df.loc[OPC_df['State'] == 'Montana', 'region'] = 'West'\n",
    "OPC_df.loc[OPC_df['State'] == 'Wyoming', 'region'] = 'West'\n",
    "OPC_df.loc[OPC_df['State'] == 'Nevada', 'region'] = 'West'\n",
    "OPC_df.loc[OPC_df['State'] == 'Utah', 'region'] = 'West'\n",
    "OPC_df.loc[OPC_df['State'] == 'Colorado', 'region'] = 'West'\n",
    "OPC_df.loc[OPC_df['State'] == 'Arizona', 'region'] = 'West'\n",
    "OPC_df.loc[OPC_df['State'] == 'New Mexico', 'region'] = 'West'\n",
    "OPC_df.loc[OPC_df['State'] == 'Alaska', 'region'] = 'West'\n",
    "OPC_df.loc[OPC_df['State'] == 'Washington', 'region'] = 'West'\n",
    "OPC_df.loc[OPC_df['State'] == 'Oregon', 'region'] = 'West'\n",
    "OPC_df.loc[OPC_df['State'] == 'California', 'region'] = 'West'\n",
    "OPC_df.loc[OPC_df['State'] == 'Hawaii', 'region'] = 'West'"
   ]
  },
  {
   "cell_type": "code",
   "execution_count": 16,
   "id": "f78beec8",
   "metadata": {},
   "outputs": [
    {
     "data": {
      "text/plain": [
       "Index(['order_id', 'user_id', 'eval_set', 'order_number', 'order_dow',\n",
       "       'order_hour_of_day', 'days_since_prior_order', 'product_id',\n",
       "       'add_to_cart_order', 'reordered', '_merge', 'product_name', 'aisle_id',\n",
       "       'department_id', 'prices', 'match', 'price_range_loc', 'busiest_day',\n",
       "       'Busiest_day', 'busiest_days', 'busiest_period_of_day', 'max_order',\n",
       "       'loyalty_flag', 'avg_product_price', 'spending_flag',\n",
       "       'median_days_between_orders', 'order_frequency_flag', 'First Name',\n",
       "       'Last Name', 'Gender', 'State', 'Age', 'Date Joined',\n",
       "       'Number of Dependents', 'Family Status', 'Income', 'region'],\n",
       "      dtype='object')"
      ]
     },
     "execution_count": 16,
     "metadata": {},
     "output_type": "execute_result"
    }
   ],
   "source": [
    "OPC_df.columns"
   ]
  },
  {
   "cell_type": "markdown",
   "id": "ddbd4d39",
   "metadata": {},
   "source": [
    "# 4. Difference in Spending habits between different regions in the U.S"
   ]
  },
  {
   "cell_type": "code",
   "execution_count": 18,
   "id": "a7791e12",
   "metadata": {},
   "outputs": [],
   "source": [
    "# Crosstab Region to spending flag\n",
    "crosstab = pd.crosstab(OPC_df['region'], OPC_df['spending_flag'], dropna = False)"
   ]
  },
  {
   "cell_type": "code",
   "execution_count": 19,
   "id": "43d77981",
   "metadata": {},
   "outputs": [],
   "source": [
    "crosstab.to_clipboard()"
   ]
  },
  {
   "cell_type": "code",
   "execution_count": 20,
   "id": "4f8abcdf",
   "metadata": {},
   "outputs": [
    {
     "data": {
      "text/html": [
       "<div>\n",
       "<style scoped>\n",
       "    .dataframe tbody tr th:only-of-type {\n",
       "        vertical-align: middle;\n",
       "    }\n",
       "\n",
       "    .dataframe tbody tr th {\n",
       "        vertical-align: top;\n",
       "    }\n",
       "\n",
       "    .dataframe thead th {\n",
       "        text-align: right;\n",
       "    }\n",
       "</style>\n",
       "<table border=\"1\" class=\"dataframe\">\n",
       "  <thead>\n",
       "    <tr style=\"text-align: right;\">\n",
       "      <th></th>\n",
       "      <th>spending_flag</th>\n",
       "      <th>region</th>\n",
       "    </tr>\n",
       "  </thead>\n",
       "  <tbody>\n",
       "    <tr>\n",
       "      <th>0</th>\n",
       "      <td>Low spender</td>\n",
       "      <td>South</td>\n",
       "    </tr>\n",
       "    <tr>\n",
       "      <th>1</th>\n",
       "      <td>Low spender</td>\n",
       "      <td>South</td>\n",
       "    </tr>\n",
       "    <tr>\n",
       "      <th>2</th>\n",
       "      <td>Low spender</td>\n",
       "      <td>South</td>\n",
       "    </tr>\n",
       "    <tr>\n",
       "      <th>3</th>\n",
       "      <td>Low spender</td>\n",
       "      <td>South</td>\n",
       "    </tr>\n",
       "    <tr>\n",
       "      <th>4</th>\n",
       "      <td>Low spender</td>\n",
       "      <td>South</td>\n",
       "    </tr>\n",
       "  </tbody>\n",
       "</table>\n",
       "</div>"
      ],
      "text/plain": [
       "  spending_flag region\n",
       "0   Low spender  South\n",
       "1   Low spender  South\n",
       "2   Low spender  South\n",
       "3   Low spender  South\n",
       "4   Low spender  South"
      ]
     },
     "execution_count": 20,
     "metadata": {},
     "output_type": "execute_result"
    }
   ],
   "source": [
    "OPC_df.loc[:,['spending_flag', 'region']].head()"
   ]
  },
  {
   "cell_type": "code",
   "execution_count": 21,
   "id": "92accf11",
   "metadata": {},
   "outputs": [],
   "source": [
    "# save changes to orderss_products_customer dataframe\n",
    "OPC_df.to_pickle(os.path.join(path, '02 Data','Prepared Data', 'ords_prods_cust_merge.pkl'))"
   ]
  },
  {
   "cell_type": "markdown",
   "id": "6addd440",
   "metadata": {},
   "source": [
    "# 5. Exclusion flag for low-activity customers"
   ]
  },
  {
   "cell_type": "code",
   "execution_count": 23,
   "id": "fb1ae2b1",
   "metadata": {},
   "outputs": [],
   "source": [
    "# Create a flag for customers with less than 5 orders\n",
    "OPC_df.loc[OPC_df['max_order'] < 5, 'activity_flag'] = 'low-activity customer'\n",
    "OPC_df.loc[OPC_df['max_order'] >= 5, 'activity_flag'] = 'high-activity customer'"
   ]
  },
  {
   "cell_type": "code",
   "execution_count": 24,
   "id": "a55926f8",
   "metadata": {},
   "outputs": [
    {
     "data": {
      "text/plain": [
       "activity_flag\n",
       "high-activity customer    30964564\n",
       "low-activity customer      1440295\n",
       "Name: count, dtype: int64"
      ]
     },
     "execution_count": 24,
     "metadata": {},
     "output_type": "execute_result"
    }
   ],
   "source": [
    "# Count the flag\n",
    "OPC_df['activity_flag'].value_counts(dropna = False)"
   ]
  },
  {
   "cell_type": "code",
   "execution_count": 25,
   "id": "fdb952d4",
   "metadata": {},
   "outputs": [],
   "source": [
    "# Exclude low-activity customers from the dataframe\n",
    "df_excluded = OPC_df[OPC_df['activity_flag'] != 'low-activity customer']"
   ]
  },
  {
   "cell_type": "code",
   "execution_count": 26,
   "id": "fae7ce85",
   "metadata": {},
   "outputs": [],
   "source": [
    "# Export the new dataframe\n",
    "df_excluded.to_pickle(os.path.join(path, '02 Data','Prepared Data', 'low_activity_excluded.pkl'))"
   ]
  },
  {
   "cell_type": "markdown",
   "id": "6e211c40",
   "metadata": {},
   "source": [
    "# 6. Customer Profiling"
   ]
  },
  {
   "cell_type": "markdown",
   "id": "b3217098",
   "metadata": {},
   "source": [
    "### Income group"
   ]
  },
  {
   "cell_type": "code",
   "execution_count": 29,
   "id": "7e0ebe66",
   "metadata": {},
   "outputs": [
    {
     "name": "stderr",
     "output_type": "stream",
     "text": [
      "C:\\Users\\ascon\\AppData\\Local\\Temp\\ipykernel_14068\\3898160148.py:2: SettingWithCopyWarning: \n",
      "A value is trying to be set on a copy of a slice from a DataFrame.\n",
      "Try using .loc[row_indexer,col_indexer] = value instead\n",
      "\n",
      "See the caveats in the documentation: https://pandas.pydata.org/pandas-docs/stable/user_guide/indexing.html#returning-a-view-versus-a-copy\n",
      "  df_excluded.loc[df_excluded['Income'] <= 55000, 'income_group'] = 'low-income'\n"
     ]
    }
   ],
   "source": [
    "# Create an income group variable\n",
    "df_excluded.loc[df_excluded['Income'] <= 55000, 'income_group'] = 'low-income'\n",
    "df_excluded.loc[(df_excluded['Income'] > 55000) & (df_excluded['Income'] <= 150000), 'income_group'] = 'middle-income'\n",
    "df_excluded.loc[df_excluded['Income'] > 150000, 'income_group'] = 'high-income'"
   ]
  },
  {
   "cell_type": "code",
   "execution_count": 30,
   "id": "108c3c75",
   "metadata": {},
   "outputs": [
    {
     "data": {
      "text/plain": [
       "income_group\n",
       "middle-income    22617642\n",
       "low-income        4452388\n",
       "high-income       3894534\n",
       "Name: count, dtype: int64"
      ]
     },
     "execution_count": 30,
     "metadata": {},
     "output_type": "execute_result"
    }
   ],
   "source": [
    "# Check the counts of income groups\n",
    "df_excluded['income_group'].value_counts(dropna = False)"
   ]
  },
  {
   "cell_type": "code",
   "execution_count": 31,
   "id": "558b8ada",
   "metadata": {},
   "outputs": [
    {
     "data": {
      "image/png": "[encoded data removed]",
      "text/plain": [
       "<Figure size 640x480 with 1 Axes>"
      ]
     },
     "metadata": {},
     "output_type": "display_data"
    }
   ],
   "source": [
    "# Create a bar chart showing the distribution of income groups\n",
    "income_group_counts = df_excluded['income_group'].value_counts(dropna=False)\n",
    "income_group_distribution_bar = income_group_counts.plot.bar()  \n",
    "plt.title('Distribution of Income Groups')\n",
    "plt.xlabel('')\n",
    "plt.ylabel('Count')\n",
    "plt.show()"
   ]
  },
  {
   "cell_type": "code",
   "execution_count": 32,
   "id": "15a5bb4b",
   "metadata": {},
   "outputs": [],
   "source": [
    "# Export the bar chart\n",
    "income_group_distribution_bar.figure.savefig(os.path.join(path, '04 Analysis','Visualizations', 'income_distribution_bar.png'))"
   ]
  },
  {
   "cell_type": "markdown",
   "id": "0fbb9ba9",
   "metadata": {},
   "source": [
    "### Age"
   ]
  },
  {
   "cell_type": "code",
   "execution_count": 34,
   "id": "d54fd4da",
   "metadata": {},
   "outputs": [
    {
     "name": "stderr",
     "output_type": "stream",
     "text": [
      "C:\\Users\\ascon\\AppData\\Local\\Temp\\ipykernel_14068\\962319223.py:2: SettingWithCopyWarning: \n",
      "A value is trying to be set on a copy of a slice from a DataFrame.\n",
      "Try using .loc[row_indexer,col_indexer] = value instead\n",
      "\n",
      "See the caveats in the documentation: https://pandas.pydata.org/pandas-docs/stable/user_guide/indexing.html#returning-a-view-versus-a-copy\n",
      "  df_excluded.loc[df_excluded['Age'] <= 25, 'age_group'] = 'young adult'\n"
     ]
    }
   ],
   "source": [
    "# Create an age group variable\n",
    "df_excluded.loc[df_excluded['Age'] <= 25, 'age_group'] = 'young adult'\n",
    "df_excluded.loc[(df_excluded['Age'] > 25) & (df_excluded['Age'] <= 44), 'age_group'] = 'adult'\n",
    "df_excluded.loc[(df_excluded['Age'] > 44) & (df_excluded['Age'] <= 64), 'age_group'] = 'middle-aged'\n",
    "df_excluded.loc[df_excluded['Age'] > 64, 'age_group'] = 'senior'"
   ]
  },
  {
   "cell_type": "code",
   "execution_count": 35,
   "id": "0630d016",
   "metadata": {},
   "outputs": [
    {
     "data": {
      "text/plain": [
       "age_group\n",
       "middle-aged    9690051\n",
       "adult          9214451\n",
       "senior         8195544\n",
       "young adult    3864518\n",
       "Name: count, dtype: int64"
      ]
     },
     "execution_count": 35,
     "metadata": {},
     "output_type": "execute_result"
    }
   ],
   "source": [
    "# Check value counts for each age group\n",
    "age_group_counts = df_excluded['age_group'].value_counts(dropna = False)\n",
    "age_group_counts"
   ]
  },
  {
   "cell_type": "code",
   "execution_count": 36,
   "id": "89dce03e",
   "metadata": {},
   "outputs": [
    {
     "data": {
      "image/png": "[encoded data removed]",
      "text/plain": [
       "<Figure size 640x480 with 1 Axes>"
      ]
     },
     "metadata": {},
     "output_type": "display_data"
    }
   ],
   "source": [
    "# Create pie chart showing the distribution of age groups\n",
    "age_group_distribution_pie = age_group_counts.plot.pie(autopct='%1.1f%%', labels= ['middle-aged: 45-64 years', 'adult: 26-44 years', 'senior: 65+ years', 'young adult: up to 25 years'], startangle=90, colors=['#ff9999','#66b3ff','#99ff99','#ffcc99'])\n",
    "plt.ylabel('')  # Hide the y-label\n",
    "plt.title('Distribution of Age Groups')\n",
    "plt.show()"
   ]
  },
  {
   "cell_type": "code",
   "execution_count": 37,
   "id": "a5e621e3",
   "metadata": {},
   "outputs": [],
   "source": [
    "# Export chart\n",
    "age_group_distribution_pie.figure.savefig(os.path.join(path, '04 Analysis','Visualizations', 'age_group_distribution_pie.png'))"
   ]
  },
  {
   "cell_type": "markdown",
   "id": "de374183",
   "metadata": {},
   "source": [
    "### Dependents"
   ]
  },
  {
   "cell_type": "code",
   "execution_count": 39,
   "id": "ff30d93a",
   "metadata": {
    "jupyter": {
     "source_hidden": true
    }
   },
   "outputs": [
    {
     "name": "stderr",
     "output_type": "stream",
     "text": [
      "C:\\Users\\ascon\\AppData\\Local\\Temp\\ipykernel_14068\\967163808.py:2: SettingWithCopyWarning: \n",
      "A value is trying to be set on a copy of a slice from a DataFrame.\n",
      "Try using .loc[row_indexer,col_indexer] = value instead\n",
      "\n",
      "See the caveats in the documentation: https://pandas.pydata.org/pandas-docs/stable/user_guide/indexing.html#returning-a-view-versus-a-copy\n",
      "  df_excluded.loc[df_excluded['Number of Dependents'] == 0, 'dependants_flag'] = 'no dependants'\n"
     ]
    }
   ],
   "source": [
    "# Create a dependents flag\n",
    "df_excluded.loc[df_excluded['Number of Dependents'] == 0, 'dependants_flag'] = 'no dependants'\n",
    "df_excluded.loc[df_excluded['Number of Dependents'] >= 1, 'dependants_flag'] = 'has dependants'"
   ]
  },
  {
   "cell_type": "code",
   "execution_count": 40,
   "id": "b0cb8cde",
   "metadata": {},
   "outputs": [
    {
     "data": {
      "text/plain": [
       "dependants_flag\n",
       "has dependants    23224883\n",
       "no dependants      7739681\n",
       "Name: count, dtype: int64"
      ]
     },
     "execution_count": 40,
     "metadata": {},
     "output_type": "execute_result"
    }
   ],
   "source": [
    "# Check value counts\n",
    "dependant_counts = df_excluded['dependants_flag'].value_counts(dropna = False)\n",
    "dependant_counts"
   ]
  },
  {
   "cell_type": "code",
   "execution_count": 41,
   "id": "f007d5c2",
   "metadata": {},
   "outputs": [
    {
     "data": {
      "image/png": "[encoded data removed]",
      "text/plain": [
       "<Figure size 640x480 with 1 Axes>"
      ]
     },
     "metadata": {},
     "output_type": "display_data"
    }
   ],
   "source": [
    "# Create a pie chart showing the percentage of dependants\n",
    "dependants_pie = dependant_counts.plot.pie(autopct='%1.1f%%', labels= ['has dependants', 'no dependants'], startangle=90, colors=['#ff9999','#66b3ff'])\n",
    "plt.ylabel('')  # Hide the y-label\n",
    "plt.title('Percentage Having Dependants')\n",
    "plt.show()"
   ]
  },
  {
   "cell_type": "code",
   "execution_count": 42,
   "id": "c0ef2227",
   "metadata": {},
   "outputs": [],
   "source": [
    "# Export the new dataframe\n",
    "df_excluded.to_pickle(os.path.join(path, '02 Data','Prepared Data', 'low_activity_excluded.pkl'))"
   ]
  },
  {
   "cell_type": "code",
   "execution_count": 43,
   "id": "07fe8f84",
   "metadata": {},
   "outputs": [
    {
     "data": {
      "text/plain": [
       "['order_id',\n",
       " 'user_id',\n",
       " 'eval_set',\n",
       " 'order_number',\n",
       " 'order_dow',\n",
       " 'order_hour_of_day',\n",
       " 'days_since_prior_order',\n",
       " 'product_id',\n",
       " 'add_to_cart_order',\n",
       " 'reordered',\n",
       " '_merge',\n",
       " 'product_name',\n",
       " 'aisle_id',\n",
       " 'department_id',\n",
       " 'prices',\n",
       " 'match',\n",
       " 'price_range_loc',\n",
       " 'busiest_day',\n",
       " 'Busiest_day',\n",
       " 'busiest_days',\n",
       " 'busiest_period_of_day',\n",
       " 'max_order',\n",
       " 'loyalty_flag',\n",
       " 'avg_product_price',\n",
       " 'spending_flag',\n",
       " 'median_days_between_orders',\n",
       " 'order_frequency_flag',\n",
       " 'First Name',\n",
       " 'Last Name',\n",
       " 'Gender',\n",
       " 'State',\n",
       " 'Age',\n",
       " 'Date Joined',\n",
       " 'Number of Dependents',\n",
       " 'Family Status',\n",
       " 'Income',\n",
       " 'region',\n",
       " 'activity_flag',\n",
       " 'income_group',\n",
       " 'age_group',\n",
       " 'dependants_flag']"
      ]
     },
     "execution_count": 43,
     "metadata": {},
     "output_type": "execute_result"
    }
   ],
   "source": [
    "list(df_excluded.columns.values)"
   ]
  },
  {
   "cell_type": "code",
   "execution_count": 44,
   "id": "4dd9d800-3b93-49b5-8dd5-3825fd50fd48",
   "metadata": {},
   "outputs": [
    {
     "data": {
      "text/html": [
       "<div>\n",
       "<style scoped>\n",
       "    .dataframe tbody tr th:only-of-type {\n",
       "        vertical-align: middle;\n",
       "    }\n",
       "\n",
       "    .dataframe tbody tr th {\n",
       "        vertical-align: top;\n",
       "    }\n",
       "\n",
       "    .dataframe thead th {\n",
       "        text-align: right;\n",
       "    }\n",
       "</style>\n",
       "<table border=\"1\" class=\"dataframe\">\n",
       "  <thead>\n",
       "    <tr style=\"text-align: right;\">\n",
       "      <th></th>\n",
       "      <th>order_id</th>\n",
       "      <th>user_id</th>\n",
       "      <th>eval_set</th>\n",
       "      <th>order_number</th>\n",
       "      <th>order_dow</th>\n",
       "      <th>order_hour_of_day</th>\n",
       "      <th>days_since_prior_order</th>\n",
       "      <th>product_id</th>\n",
       "      <th>add_to_cart_order</th>\n",
       "      <th>reordered</th>\n",
       "      <th>...</th>\n",
       "      <th>Age</th>\n",
       "      <th>Date Joined</th>\n",
       "      <th>Number of Dependents</th>\n",
       "      <th>Family Status</th>\n",
       "      <th>Income</th>\n",
       "      <th>region</th>\n",
       "      <th>activity_flag</th>\n",
       "      <th>income_group</th>\n",
       "      <th>age_group</th>\n",
       "      <th>dependants_flag</th>\n",
       "    </tr>\n",
       "  </thead>\n",
       "  <tbody>\n",
       "    <tr>\n",
       "      <th>0</th>\n",
       "      <td>2539329</td>\n",
       "      <td>1</td>\n",
       "      <td>prior</td>\n",
       "      <td>1</td>\n",
       "      <td>2</td>\n",
       "      <td>8</td>\n",
       "      <td>NaN</td>\n",
       "      <td>196.0</td>\n",
       "      <td>1.0</td>\n",
       "      <td>0.0</td>\n",
       "      <td>...</td>\n",
       "      <td>31</td>\n",
       "      <td>2/17/2019</td>\n",
       "      <td>3</td>\n",
       "      <td>married</td>\n",
       "      <td>40423</td>\n",
       "      <td>South</td>\n",
       "      <td>high-activity customer</td>\n",
       "      <td>low-income</td>\n",
       "      <td>adult</td>\n",
       "      <td>has dependants</td>\n",
       "    </tr>\n",
       "    <tr>\n",
       "      <th>1</th>\n",
       "      <td>2398795</td>\n",
       "      <td>1</td>\n",
       "      <td>prior</td>\n",
       "      <td>2</td>\n",
       "      <td>3</td>\n",
       "      <td>7</td>\n",
       "      <td>15.0</td>\n",
       "      <td>196.0</td>\n",
       "      <td>1.0</td>\n",
       "      <td>1.0</td>\n",
       "      <td>...</td>\n",
       "      <td>31</td>\n",
       "      <td>2/17/2019</td>\n",
       "      <td>3</td>\n",
       "      <td>married</td>\n",
       "      <td>40423</td>\n",
       "      <td>South</td>\n",
       "      <td>high-activity customer</td>\n",
       "      <td>low-income</td>\n",
       "      <td>adult</td>\n",
       "      <td>has dependants</td>\n",
       "    </tr>\n",
       "    <tr>\n",
       "      <th>2</th>\n",
       "      <td>473747</td>\n",
       "      <td>1</td>\n",
       "      <td>prior</td>\n",
       "      <td>3</td>\n",
       "      <td>3</td>\n",
       "      <td>12</td>\n",
       "      <td>21.0</td>\n",
       "      <td>196.0</td>\n",
       "      <td>1.0</td>\n",
       "      <td>1.0</td>\n",
       "      <td>...</td>\n",
       "      <td>31</td>\n",
       "      <td>2/17/2019</td>\n",
       "      <td>3</td>\n",
       "      <td>married</td>\n",
       "      <td>40423</td>\n",
       "      <td>South</td>\n",
       "      <td>high-activity customer</td>\n",
       "      <td>low-income</td>\n",
       "      <td>adult</td>\n",
       "      <td>has dependants</td>\n",
       "    </tr>\n",
       "    <tr>\n",
       "      <th>3</th>\n",
       "      <td>2254736</td>\n",
       "      <td>1</td>\n",
       "      <td>prior</td>\n",
       "      <td>4</td>\n",
       "      <td>4</td>\n",
       "      <td>7</td>\n",
       "      <td>29.0</td>\n",
       "      <td>196.0</td>\n",
       "      <td>1.0</td>\n",
       "      <td>1.0</td>\n",
       "      <td>...</td>\n",
       "      <td>31</td>\n",
       "      <td>2/17/2019</td>\n",
       "      <td>3</td>\n",
       "      <td>married</td>\n",
       "      <td>40423</td>\n",
       "      <td>South</td>\n",
       "      <td>high-activity customer</td>\n",
       "      <td>low-income</td>\n",
       "      <td>adult</td>\n",
       "      <td>has dependants</td>\n",
       "    </tr>\n",
       "    <tr>\n",
       "      <th>4</th>\n",
       "      <td>431534</td>\n",
       "      <td>1</td>\n",
       "      <td>prior</td>\n",
       "      <td>5</td>\n",
       "      <td>4</td>\n",
       "      <td>15</td>\n",
       "      <td>28.0</td>\n",
       "      <td>196.0</td>\n",
       "      <td>1.0</td>\n",
       "      <td>1.0</td>\n",
       "      <td>...</td>\n",
       "      <td>31</td>\n",
       "      <td>2/17/2019</td>\n",
       "      <td>3</td>\n",
       "      <td>married</td>\n",
       "      <td>40423</td>\n",
       "      <td>South</td>\n",
       "      <td>high-activity customer</td>\n",
       "      <td>low-income</td>\n",
       "      <td>adult</td>\n",
       "      <td>has dependants</td>\n",
       "    </tr>\n",
       "  </tbody>\n",
       "</table>\n",
       "<p>5 rows × 41 columns</p>\n",
       "</div>"
      ],
      "text/plain": [
       "   order_id  user_id eval_set  order_number  order_dow  order_hour_of_day  \\\n",
       "0   2539329        1    prior             1          2                  8   \n",
       "1   2398795        1    prior             2          3                  7   \n",
       "2    473747        1    prior             3          3                 12   \n",
       "3   2254736        1    prior             4          4                  7   \n",
       "4    431534        1    prior             5          4                 15   \n",
       "\n",
       "   days_since_prior_order  product_id  add_to_cart_order  reordered  ... Age  \\\n",
       "0                     NaN       196.0                1.0        0.0  ...  31   \n",
       "1                    15.0       196.0                1.0        1.0  ...  31   \n",
       "2                    21.0       196.0                1.0        1.0  ...  31   \n",
       "3                    29.0       196.0                1.0        1.0  ...  31   \n",
       "4                    28.0       196.0                1.0        1.0  ...  31   \n",
       "\n",
       "  Date Joined  Number of Dependents  Family Status  Income region  \\\n",
       "0   2/17/2019                     3        married   40423  South   \n",
       "1   2/17/2019                     3        married   40423  South   \n",
       "2   2/17/2019                     3        married   40423  South   \n",
       "3   2/17/2019                     3        married   40423  South   \n",
       "4   2/17/2019                     3        married   40423  South   \n",
       "\n",
       "            activity_flag income_group age_group dependants_flag  \n",
       "0  high-activity customer   low-income     adult  has dependants  \n",
       "1  high-activity customer   low-income     adult  has dependants  \n",
       "2  high-activity customer   low-income     adult  has dependants  \n",
       "3  high-activity customer   low-income     adult  has dependants  \n",
       "4  high-activity customer   low-income     adult  has dependants  \n",
       "\n",
       "[5 rows x 41 columns]"
      ]
     },
     "execution_count": 44,
     "metadata": {},
     "output_type": "execute_result"
    }
   ],
   "source": [
    "df_excluded.head()"
   ]
  },
  {
   "cell_type": "markdown",
   "id": "1e12c5bb",
   "metadata": {},
   "source": [
    "### Loyalty VS Age Group"
   ]
  },
  {
   "cell_type": "code",
   "execution_count": 46,
   "id": "fc460d24",
   "metadata": {},
   "outputs": [
    {
     "data": {
      "text/html": [
       "<div>\n",
       "<style scoped>\n",
       "    .dataframe tbody tr th:only-of-type {\n",
       "        vertical-align: middle;\n",
       "    }\n",
       "\n",
       "    .dataframe tbody tr th {\n",
       "        vertical-align: top;\n",
       "    }\n",
       "\n",
       "    .dataframe thead th {\n",
       "        text-align: right;\n",
       "    }\n",
       "</style>\n",
       "<table border=\"1\" class=\"dataframe\">\n",
       "  <thead>\n",
       "    <tr style=\"text-align: right;\">\n",
       "      <th>age_group</th>\n",
       "      <th>adult</th>\n",
       "      <th>middle-aged</th>\n",
       "      <th>senior</th>\n",
       "      <th>young adult</th>\n",
       "    </tr>\n",
       "    <tr>\n",
       "      <th>loyalty_flag</th>\n",
       "      <th></th>\n",
       "      <th></th>\n",
       "      <th></th>\n",
       "      <th></th>\n",
       "    </tr>\n",
       "  </thead>\n",
       "  <tbody>\n",
       "    <tr>\n",
       "      <th>Loyal customer</th>\n",
       "      <td>3048175</td>\n",
       "      <td>3231509</td>\n",
       "      <td>2723958</td>\n",
       "      <td>1280451</td>\n",
       "    </tr>\n",
       "    <tr>\n",
       "      <th>New customer</th>\n",
       "      <td>1420508</td>\n",
       "      <td>1506670</td>\n",
       "      <td>1276659</td>\n",
       "      <td>599858</td>\n",
       "    </tr>\n",
       "    <tr>\n",
       "      <th>Regular customer</th>\n",
       "      <td>4745768</td>\n",
       "      <td>4951872</td>\n",
       "      <td>4194927</td>\n",
       "      <td>1984209</td>\n",
       "    </tr>\n",
       "  </tbody>\n",
       "</table>\n",
       "</div>"
      ],
      "text/plain": [
       "age_group           adult  middle-aged   senior  young adult\n",
       "loyalty_flag                                                \n",
       "Loyal customer    3048175      3231509  2723958      1280451\n",
       "New customer      1420508      1506670  1276659       599858\n",
       "Regular customer  4745768      4951872  4194927      1984209"
      ]
     },
     "execution_count": 46,
     "metadata": {},
     "output_type": "execute_result"
    }
   ],
   "source": [
    "# Crosstab loyalty with age group\n",
    "loyalty_age_cross = pd.crosstab(df_excluded['loyalty_flag'], df_excluded['age_group'], dropna = False)\n",
    "loyalty_age_cross"
   ]
  },
  {
   "cell_type": "code",
   "execution_count": 47,
   "id": "0e6a6134",
   "metadata": {},
   "outputs": [
    {
     "data": {
      "text/plain": [
       "(array([0, 1, 2]),\n",
       " [Text(0, 0, 'Loyal customer'),\n",
       "  Text(1, 0, 'New customer'),\n",
       "  Text(2, 0, 'Regular customer')])"
      ]
     },
     "execution_count": 47,
     "metadata": {},
     "output_type": "execute_result"
    },
    {
     "data": {
      "image/png": "[encoded data removed]",
      "text/plain": [
       "<Figure size 640x480 with 1 Axes>"
      ]
     },
     "metadata": {},
     "output_type": "display_data"
    }
   ],
   "source": [
    "# bar chart\n",
    "loyalty_age_bar = loyalty_age_cross.plot.bar()\n",
    "plt.title('Loyalty by Age Group')\n",
    "plt.xlabel('')\n",
    "plt.ylabel('count')\n",
    "plt.xticks(rotation=0)"
   ]
  },
  {
   "cell_type": "code",
   "execution_count": 48,
   "id": "e55caefe",
   "metadata": {},
   "outputs": [],
   "source": [
    "# Export the chart\n",
    "loyalty_age_bar.figure.savefig(os.path.join(path, '04 Analysis','Visualizations', 'loyalty_age_group_bar.png'))"
   ]
  },
  {
   "cell_type": "markdown",
   "id": "db573ade",
   "metadata": {},
   "source": [
    "### Spending VS Age Group"
   ]
  },
  {
   "cell_type": "code",
   "execution_count": 50,
   "id": "ec8893be",
   "metadata": {},
   "outputs": [
    {
     "data": {
      "text/html": [
       "<div>\n",
       "<style scoped>\n",
       "    .dataframe tbody tr th:only-of-type {\n",
       "        vertical-align: middle;\n",
       "    }\n",
       "\n",
       "    .dataframe tbody tr th {\n",
       "        vertical-align: top;\n",
       "    }\n",
       "\n",
       "    .dataframe thead th {\n",
       "        text-align: right;\n",
       "    }\n",
       "</style>\n",
       "<table border=\"1\" class=\"dataframe\">\n",
       "  <thead>\n",
       "    <tr style=\"text-align: right;\">\n",
       "      <th>age_group</th>\n",
       "      <th>adult</th>\n",
       "      <th>middle-aged</th>\n",
       "      <th>senior</th>\n",
       "      <th>young adult</th>\n",
       "    </tr>\n",
       "    <tr>\n",
       "      <th>spending_flag</th>\n",
       "      <th></th>\n",
       "      <th></th>\n",
       "      <th></th>\n",
       "      <th></th>\n",
       "    </tr>\n",
       "  </thead>\n",
       "  <tbody>\n",
       "    <tr>\n",
       "      <th>High spender</th>\n",
       "      <td>174740</td>\n",
       "      <td>197797</td>\n",
       "      <td>156886</td>\n",
       "      <td>74002</td>\n",
       "    </tr>\n",
       "    <tr>\n",
       "      <th>Low spender</th>\n",
       "      <td>9039711</td>\n",
       "      <td>9492254</td>\n",
       "      <td>8038658</td>\n",
       "      <td>3790516</td>\n",
       "    </tr>\n",
       "  </tbody>\n",
       "</table>\n",
       "</div>"
      ],
      "text/plain": [
       "age_group        adult  middle-aged   senior  young adult\n",
       "spending_flag                                            \n",
       "High spender    174740       197797   156886        74002\n",
       "Low spender    9039711      9492254  8038658      3790516"
      ]
     },
     "execution_count": 50,
     "metadata": {},
     "output_type": "execute_result"
    }
   ],
   "source": [
    "# Crosstab spending with age group\n",
    "spending_age_cross = pd.crosstab(df_excluded['spending_flag'], df_excluded['age_group'], dropna = False)\n",
    "spending_age_cross"
   ]
  },
  {
   "cell_type": "code",
   "execution_count": 51,
   "id": "3724b709",
   "metadata": {},
   "outputs": [
    {
     "data": {
      "text/plain": [
       "(array([0, 1]), [Text(0, 0, 'High spender'), Text(1, 0, 'Low spender')])"
      ]
     },
     "execution_count": 51,
     "metadata": {},
     "output_type": "execute_result"
    },
    {
     "data": {
      "image/png": "[encoded data removed]",
      "text/plain": [
       "<Figure size 640x480 with 1 Axes>"
      ]
     },
     "metadata": {},
     "output_type": "display_data"
    }
   ],
   "source": [
    "# bar chart\n",
    "spending_age_bar = spending_age_cross.plot.bar()\n",
    "plt.title('Spending by Age Group')\n",
    "plt.xlabel('')\n",
    "plt.ylabel('count')\n",
    "plt.xticks(rotation=0)"
   ]
  },
  {
   "cell_type": "code",
   "execution_count": 52,
   "id": "64473444",
   "metadata": {},
   "outputs": [],
   "source": [
    "# Export the chart\n",
    "spending_age_bar.figure.savefig(os.path.join(path, '04 Analysis','Visualizations', 'spending_age_group_bar.png'))"
   ]
  },
  {
   "cell_type": "markdown",
   "id": "8774ea81",
   "metadata": {},
   "source": [
    "### Regional spending with low activity customers excluded"
   ]
  },
  {
   "cell_type": "code",
   "execution_count": 54,
   "id": "730f4c92",
   "metadata": {},
   "outputs": [],
   "source": [
    "df_excluded.loc[df_excluded['State'] == 'Pennsylvania', 'region'] = 'Northeast'"
   ]
  },
  {
   "cell_type": "code",
   "execution_count": 55,
   "id": "5fa9d6cc",
   "metadata": {},
   "outputs": [],
   "source": [
    "# Crosstab Region to spending flag\n",
    "region_spending_cross = pd.crosstab(df_excluded['region'], df_excluded['spending_flag'], dropna = False)"
   ]
  },
  {
   "cell_type": "code",
   "execution_count": 56,
   "id": "007566e5",
   "metadata": {},
   "outputs": [
    {
     "data": {
      "text/html": [
       "<div>\n",
       "<style scoped>\n",
       "    .dataframe tbody tr th:only-of-type {\n",
       "        vertical-align: middle;\n",
       "    }\n",
       "\n",
       "    .dataframe tbody tr th {\n",
       "        vertical-align: top;\n",
       "    }\n",
       "\n",
       "    .dataframe thead th {\n",
       "        text-align: right;\n",
       "    }\n",
       "</style>\n",
       "<table border=\"1\" class=\"dataframe\">\n",
       "  <thead>\n",
       "    <tr style=\"text-align: right;\">\n",
       "      <th>spending_flag</th>\n",
       "      <th>High spender</th>\n",
       "      <th>Low spender</th>\n",
       "    </tr>\n",
       "    <tr>\n",
       "      <th>region</th>\n",
       "      <th></th>\n",
       "      <th></th>\n",
       "    </tr>\n",
       "  </thead>\n",
       "  <tbody>\n",
       "    <tr>\n",
       "      <th>Midwest</th>\n",
       "      <td>148678</td>\n",
       "      <td>7112835</td>\n",
       "    </tr>\n",
       "    <tr>\n",
       "      <th>Northeast</th>\n",
       "      <td>83777</td>\n",
       "      <td>4176110</td>\n",
       "    </tr>\n",
       "    <tr>\n",
       "      <th>South</th>\n",
       "      <td>199339</td>\n",
       "      <td>10111800</td>\n",
       "    </tr>\n",
       "    <tr>\n",
       "      <th>West</th>\n",
       "      <td>152288</td>\n",
       "      <td>7774939</td>\n",
       "    </tr>\n",
       "    <tr>\n",
       "      <th>NaN</th>\n",
       "      <td>19343</td>\n",
       "      <td>1185455</td>\n",
       "    </tr>\n",
       "  </tbody>\n",
       "</table>\n",
       "</div>"
      ],
      "text/plain": [
       "spending_flag  High spender  Low spender\n",
       "region                                  \n",
       "Midwest              148678      7112835\n",
       "Northeast             83777      4176110\n",
       "South                199339     10111800\n",
       "West                 152288      7774939\n",
       "NaN                   19343      1185455"
      ]
     },
     "execution_count": 56,
     "metadata": {},
     "output_type": "execute_result"
    }
   ],
   "source": [
    "region_spending_cross"
   ]
  },
  {
   "cell_type": "code",
   "execution_count": 57,
   "id": "605842e8",
   "metadata": {},
   "outputs": [
    {
     "data": {
      "text/plain": [
       "(array([0, 1, 2, 3, 4]),\n",
       " [Text(0, 0, 'Midwest'),\n",
       "  Text(1, 0, 'Northeast'),\n",
       "  Text(2, 0, 'South'),\n",
       "  Text(3, 0, 'West'),\n",
       "  Text(4, 0, 'nan')])"
      ]
     },
     "execution_count": 57,
     "metadata": {},
     "output_type": "execute_result"
    },
    {
     "data": {
      "image/png": "[encoded data removed]",
      "text/plain": [
       "<Figure size 640x480 with 1 Axes>"
      ]
     },
     "metadata": {},
     "output_type": "display_data"
    }
   ],
   "source": [
    "# bar chart\n",
    "region_spending_bar = region_spending_cross.plot.bar()\n",
    "plt.title('Spending by Region')\n",
    "plt.xlabel('')\n",
    "plt.ylabel('count')\n",
    "plt.xticks(rotation=0)"
   ]
  },
  {
   "cell_type": "code",
   "execution_count": 58,
   "id": "3f2d2826",
   "metadata": {},
   "outputs": [],
   "source": [
    "# Export the chart\n",
    "region_spending_bar.figure.savefig(os.path.join(path, '04 Analysis','Visualizations', 'region_spending_bar.png'))"
   ]
  },
  {
   "cell_type": "markdown",
   "id": "e8929358",
   "metadata": {},
   "source": [
    "### Orders by Department"
   ]
  },
  {
   "cell_type": "code",
   "execution_count": 60,
   "id": "808ad632",
   "metadata": {},
   "outputs": [],
   "source": [
    "# Import departments dataframe\n",
    "dept = pd.read_csv(os.path.join(path, '02 Data', 'Prepared Data', 'departments_wrangled.csv'))"
   ]
  },
  {
   "cell_type": "code",
   "execution_count": 61,
   "id": "12cf938c-04a6-4070-974e-529e9a02b87b",
   "metadata": {},
   "outputs": [],
   "source": [
    "dept.rename(columns={'department': 'department_id'}, inplace=True)"
   ]
  },
  {
   "cell_type": "code",
   "execution_count": 62,
   "id": "3d625245",
   "metadata": {},
   "outputs": [
    {
     "data": {
      "text/html": [
       "<div>\n",
       "<style scoped>\n",
       "    .dataframe tbody tr th:only-of-type {\n",
       "        vertical-align: middle;\n",
       "    }\n",
       "\n",
       "    .dataframe tbody tr th {\n",
       "        vertical-align: top;\n",
       "    }\n",
       "\n",
       "    .dataframe thead th {\n",
       "        text-align: right;\n",
       "    }\n",
       "</style>\n",
       "<table border=\"1\" class=\"dataframe\">\n",
       "  <thead>\n",
       "    <tr style=\"text-align: right;\">\n",
       "      <th></th>\n",
       "      <th>Unnamed: 0</th>\n",
       "      <th>department_id</th>\n",
       "    </tr>\n",
       "  </thead>\n",
       "  <tbody>\n",
       "    <tr>\n",
       "      <th>0</th>\n",
       "      <td>1</td>\n",
       "      <td>frozen</td>\n",
       "    </tr>\n",
       "    <tr>\n",
       "      <th>1</th>\n",
       "      <td>2</td>\n",
       "      <td>other</td>\n",
       "    </tr>\n",
       "    <tr>\n",
       "      <th>2</th>\n",
       "      <td>3</td>\n",
       "      <td>bakery</td>\n",
       "    </tr>\n",
       "    <tr>\n",
       "      <th>3</th>\n",
       "      <td>4</td>\n",
       "      <td>produce</td>\n",
       "    </tr>\n",
       "    <tr>\n",
       "      <th>4</th>\n",
       "      <td>5</td>\n",
       "      <td>alcohol</td>\n",
       "    </tr>\n",
       "    <tr>\n",
       "      <th>5</th>\n",
       "      <td>6</td>\n",
       "      <td>international</td>\n",
       "    </tr>\n",
       "    <tr>\n",
       "      <th>6</th>\n",
       "      <td>7</td>\n",
       "      <td>beverages</td>\n",
       "    </tr>\n",
       "    <tr>\n",
       "      <th>7</th>\n",
       "      <td>8</td>\n",
       "      <td>pets</td>\n",
       "    </tr>\n",
       "    <tr>\n",
       "      <th>8</th>\n",
       "      <td>9</td>\n",
       "      <td>dry goods pasta</td>\n",
       "    </tr>\n",
       "    <tr>\n",
       "      <th>9</th>\n",
       "      <td>10</td>\n",
       "      <td>bulk</td>\n",
       "    </tr>\n",
       "    <tr>\n",
       "      <th>10</th>\n",
       "      <td>11</td>\n",
       "      <td>personal care</td>\n",
       "    </tr>\n",
       "    <tr>\n",
       "      <th>11</th>\n",
       "      <td>12</td>\n",
       "      <td>meat seafood</td>\n",
       "    </tr>\n",
       "    <tr>\n",
       "      <th>12</th>\n",
       "      <td>13</td>\n",
       "      <td>pantry</td>\n",
       "    </tr>\n",
       "    <tr>\n",
       "      <th>13</th>\n",
       "      <td>14</td>\n",
       "      <td>breakfast</td>\n",
       "    </tr>\n",
       "    <tr>\n",
       "      <th>14</th>\n",
       "      <td>15</td>\n",
       "      <td>canned goods</td>\n",
       "    </tr>\n",
       "    <tr>\n",
       "      <th>15</th>\n",
       "      <td>16</td>\n",
       "      <td>dairy eggs</td>\n",
       "    </tr>\n",
       "    <tr>\n",
       "      <th>16</th>\n",
       "      <td>17</td>\n",
       "      <td>household</td>\n",
       "    </tr>\n",
       "    <tr>\n",
       "      <th>17</th>\n",
       "      <td>18</td>\n",
       "      <td>babies</td>\n",
       "    </tr>\n",
       "    <tr>\n",
       "      <th>18</th>\n",
       "      <td>19</td>\n",
       "      <td>snacks</td>\n",
       "    </tr>\n",
       "    <tr>\n",
       "      <th>19</th>\n",
       "      <td>20</td>\n",
       "      <td>deli</td>\n",
       "    </tr>\n",
       "    <tr>\n",
       "      <th>20</th>\n",
       "      <td>21</td>\n",
       "      <td>missing</td>\n",
       "    </tr>\n",
       "  </tbody>\n",
       "</table>\n",
       "</div>"
      ],
      "text/plain": [
       "    Unnamed: 0    department_id\n",
       "0            1           frozen\n",
       "1            2            other\n",
       "2            3           bakery\n",
       "3            4          produce\n",
       "4            5          alcohol\n",
       "5            6    international\n",
       "6            7        beverages\n",
       "7            8             pets\n",
       "8            9  dry goods pasta\n",
       "9           10             bulk\n",
       "10          11    personal care\n",
       "11          12     meat seafood\n",
       "12          13           pantry\n",
       "13          14        breakfast\n",
       "14          15     canned goods\n",
       "15          16       dairy eggs\n",
       "16          17        household\n",
       "17          18           babies\n",
       "18          19           snacks\n",
       "19          20             deli\n",
       "20          21          missing"
      ]
     },
     "execution_count": 62,
     "metadata": {},
     "output_type": "execute_result"
    }
   ],
   "source": [
    "dept"
   ]
  },
  {
   "cell_type": "code",
   "execution_count": 63,
   "id": "9c75442f-664e-463d-bfc2-ab474dbca6f2",
   "metadata": {},
   "outputs": [
    {
     "name": "stderr",
     "output_type": "stream",
     "text": [
      "C:\\Users\\ascon\\AppData\\Local\\Temp\\ipykernel_14068\\1323681355.py:1: SettingWithCopyWarning: \n",
      "A value is trying to be set on a copy of a slice from a DataFrame.\n",
      "Try using .loc[row_indexer,col_indexer] = value instead\n",
      "\n",
      "See the caveats in the documentation: https://pandas.pydata.org/pandas-docs/stable/user_guide/indexing.html#returning-a-view-versus-a-copy\n",
      "  df_excluded['department_id'] = df_excluded['department_id'].astype(str)\n"
     ]
    }
   ],
   "source": [
    "df_excluded['department_id'] = df_excluded['department_id'].astype(str)\n",
    "dept['department_id'] = dept['department_id'].astype(str)"
   ]
  },
  {
   "cell_type": "code",
   "execution_count": 64,
   "id": "ee692af8-4688-4a6c-89f2-ffcda004961a",
   "metadata": {},
   "outputs": [],
   "source": [
    "df_excluded = df_excluded[['department_id', 'loyalty_flag','spending_flag','order_frequency_flag','State', 'Age','Number of Dependents', 'Family Status', 'Income', 'region','activity_flag', 'income_group', 'age_group', 'dependants_flag', 'user_id', 'order_dow', 'Gender','order_hour_of_day', 'prices','order_number','days_since_prior_order']]"
   ]
  },
  {
   "cell_type": "code",
   "execution_count": 65,
   "id": "69778045-c2be-4f14-8115-0b2f7cb46f54",
   "metadata": {},
   "outputs": [
    {
     "name": "stdout",
     "output_type": "stream",
     "text": [
      "Columns in df_excluded: Index(['department_id', 'loyalty_flag', 'spending_flag',\n",
      "       'order_frequency_flag', 'State', 'Age', 'Number of Dependents',\n",
      "       'Family Status', 'Income', 'region', 'activity_flag', 'income_group',\n",
      "       'age_group', 'dependants_flag', 'user_id', 'order_dow', 'Gender',\n",
      "       'order_hour_of_day', 'prices', 'order_number',\n",
      "       'days_since_prior_order'],\n",
      "      dtype='object')\n"
     ]
    }
   ],
   "source": [
    "print(\"Columns in df_excluded:\", df_excluded.columns)"
   ]
  },
  {
   "cell_type": "code",
   "execution_count": 66,
   "id": "c8081bf9-1757-43eb-8608-aa24228dd9f2",
   "metadata": {},
   "outputs": [],
   "source": [
    "dept = dept[['department_id']]"
   ]
  },
  {
   "cell_type": "code",
   "execution_count": 67,
   "id": "381a2dd8",
   "metadata": {
    "scrolled": true
   },
   "outputs": [],
   "source": [
    "df_final_merged = df_excluded"
   ]
  },
  {
   "cell_type": "code",
   "execution_count": 68,
   "id": "99b8833e",
   "metadata": {},
   "outputs": [],
   "source": [
    "# Exporting new dataframe with department merged \n",
    "df_final_merged.to_pickle(os.path.join(path,'02 Data','Prepared Data','orders_products_customers_departments.pkl'))"
   ]
  },
  {
   "cell_type": "code",
   "execution_count": 69,
   "id": "14bc8bbf-f927-4186-b3e0-ede31bec7d31",
   "metadata": {},
   "outputs": [
    {
     "data": {
      "text/html": [
       "<div>\n",
       "<style scoped>\n",
       "    .dataframe tbody tr th:only-of-type {\n",
       "        vertical-align: middle;\n",
       "    }\n",
       "\n",
       "    .dataframe tbody tr th {\n",
       "        vertical-align: top;\n",
       "    }\n",
       "\n",
       "    .dataframe thead th {\n",
       "        text-align: right;\n",
       "    }\n",
       "</style>\n",
       "<table border=\"1\" class=\"dataframe\">\n",
       "  <thead>\n",
       "    <tr style=\"text-align: right;\">\n",
       "      <th></th>\n",
       "      <th>department_id</th>\n",
       "      <th>loyalty_flag</th>\n",
       "      <th>spending_flag</th>\n",
       "      <th>order_frequency_flag</th>\n",
       "      <th>State</th>\n",
       "      <th>Age</th>\n",
       "      <th>Number of Dependents</th>\n",
       "      <th>Family Status</th>\n",
       "      <th>Income</th>\n",
       "      <th>region</th>\n",
       "      <th>...</th>\n",
       "      <th>income_group</th>\n",
       "      <th>age_group</th>\n",
       "      <th>dependants_flag</th>\n",
       "      <th>user_id</th>\n",
       "      <th>order_dow</th>\n",
       "      <th>Gender</th>\n",
       "      <th>order_hour_of_day</th>\n",
       "      <th>prices</th>\n",
       "      <th>order_number</th>\n",
       "      <th>days_since_prior_order</th>\n",
       "    </tr>\n",
       "  </thead>\n",
       "  <tbody>\n",
       "    <tr>\n",
       "      <th>0</th>\n",
       "      <td>7</td>\n",
       "      <td>New customer</td>\n",
       "      <td>Low spender</td>\n",
       "      <td>Non-frequent customer</td>\n",
       "      <td>Alabama</td>\n",
       "      <td>31</td>\n",
       "      <td>3</td>\n",
       "      <td>married</td>\n",
       "      <td>40423</td>\n",
       "      <td>South</td>\n",
       "      <td>...</td>\n",
       "      <td>low-income</td>\n",
       "      <td>adult</td>\n",
       "      <td>has dependants</td>\n",
       "      <td>1</td>\n",
       "      <td>2</td>\n",
       "      <td>Female</td>\n",
       "      <td>8</td>\n",
       "      <td>9.0</td>\n",
       "      <td>1</td>\n",
       "      <td>NaN</td>\n",
       "    </tr>\n",
       "    <tr>\n",
       "      <th>1</th>\n",
       "      <td>7</td>\n",
       "      <td>New customer</td>\n",
       "      <td>Low spender</td>\n",
       "      <td>Non-frequent customer</td>\n",
       "      <td>Alabama</td>\n",
       "      <td>31</td>\n",
       "      <td>3</td>\n",
       "      <td>married</td>\n",
       "      <td>40423</td>\n",
       "      <td>South</td>\n",
       "      <td>...</td>\n",
       "      <td>low-income</td>\n",
       "      <td>adult</td>\n",
       "      <td>has dependants</td>\n",
       "      <td>1</td>\n",
       "      <td>3</td>\n",
       "      <td>Female</td>\n",
       "      <td>7</td>\n",
       "      <td>9.0</td>\n",
       "      <td>2</td>\n",
       "      <td>15.0</td>\n",
       "    </tr>\n",
       "    <tr>\n",
       "      <th>2</th>\n",
       "      <td>7</td>\n",
       "      <td>New customer</td>\n",
       "      <td>Low spender</td>\n",
       "      <td>Non-frequent customer</td>\n",
       "      <td>Alabama</td>\n",
       "      <td>31</td>\n",
       "      <td>3</td>\n",
       "      <td>married</td>\n",
       "      <td>40423</td>\n",
       "      <td>South</td>\n",
       "      <td>...</td>\n",
       "      <td>low-income</td>\n",
       "      <td>adult</td>\n",
       "      <td>has dependants</td>\n",
       "      <td>1</td>\n",
       "      <td>3</td>\n",
       "      <td>Female</td>\n",
       "      <td>12</td>\n",
       "      <td>9.0</td>\n",
       "      <td>3</td>\n",
       "      <td>21.0</td>\n",
       "    </tr>\n",
       "    <tr>\n",
       "      <th>3</th>\n",
       "      <td>7</td>\n",
       "      <td>New customer</td>\n",
       "      <td>Low spender</td>\n",
       "      <td>Non-frequent customer</td>\n",
       "      <td>Alabama</td>\n",
       "      <td>31</td>\n",
       "      <td>3</td>\n",
       "      <td>married</td>\n",
       "      <td>40423</td>\n",
       "      <td>South</td>\n",
       "      <td>...</td>\n",
       "      <td>low-income</td>\n",
       "      <td>adult</td>\n",
       "      <td>has dependants</td>\n",
       "      <td>1</td>\n",
       "      <td>4</td>\n",
       "      <td>Female</td>\n",
       "      <td>7</td>\n",
       "      <td>9.0</td>\n",
       "      <td>4</td>\n",
       "      <td>29.0</td>\n",
       "    </tr>\n",
       "    <tr>\n",
       "      <th>4</th>\n",
       "      <td>7</td>\n",
       "      <td>New customer</td>\n",
       "      <td>Low spender</td>\n",
       "      <td>Non-frequent customer</td>\n",
       "      <td>Alabama</td>\n",
       "      <td>31</td>\n",
       "      <td>3</td>\n",
       "      <td>married</td>\n",
       "      <td>40423</td>\n",
       "      <td>South</td>\n",
       "      <td>...</td>\n",
       "      <td>low-income</td>\n",
       "      <td>adult</td>\n",
       "      <td>has dependants</td>\n",
       "      <td>1</td>\n",
       "      <td>4</td>\n",
       "      <td>Female</td>\n",
       "      <td>15</td>\n",
       "      <td>9.0</td>\n",
       "      <td>5</td>\n",
       "      <td>28.0</td>\n",
       "    </tr>\n",
       "  </tbody>\n",
       "</table>\n",
       "<p>5 rows × 21 columns</p>\n",
       "</div>"
      ],
      "text/plain": [
       "  department_id  loyalty_flag spending_flag   order_frequency_flag    State  \\\n",
       "0             7  New customer   Low spender  Non-frequent customer  Alabama   \n",
       "1             7  New customer   Low spender  Non-frequent customer  Alabama   \n",
       "2             7  New customer   Low spender  Non-frequent customer  Alabama   \n",
       "3             7  New customer   Low spender  Non-frequent customer  Alabama   \n",
       "4             7  New customer   Low spender  Non-frequent customer  Alabama   \n",
       "\n",
       "   Age  Number of Dependents Family Status  Income region  ... income_group  \\\n",
       "0   31                     3       married   40423  South  ...   low-income   \n",
       "1   31                     3       married   40423  South  ...   low-income   \n",
       "2   31                     3       married   40423  South  ...   low-income   \n",
       "3   31                     3       married   40423  South  ...   low-income   \n",
       "4   31                     3       married   40423  South  ...   low-income   \n",
       "\n",
       "  age_group dependants_flag user_id  order_dow  Gender order_hour_of_day  \\\n",
       "0     adult  has dependants       1          2  Female                 8   \n",
       "1     adult  has dependants       1          3  Female                 7   \n",
       "2     adult  has dependants       1          3  Female                12   \n",
       "3     adult  has dependants       1          4  Female                 7   \n",
       "4     adult  has dependants       1          4  Female                15   \n",
       "\n",
       "   prices  order_number  days_since_prior_order  \n",
       "0     9.0             1                     NaN  \n",
       "1     9.0             2                    15.0  \n",
       "2     9.0             3                    21.0  \n",
       "3     9.0             4                    29.0  \n",
       "4     9.0             5                    28.0  \n",
       "\n",
       "[5 rows x 21 columns]"
      ]
     },
     "execution_count": 69,
     "metadata": {},
     "output_type": "execute_result"
    }
   ],
   "source": [
    "df_final_merged.head()"
   ]
  },
  {
   "cell_type": "code",
   "execution_count": 70,
   "id": "6c31c513",
   "metadata": {},
   "outputs": [
    {
     "data": {
      "image/png": "[encoded data removed]",
      "text/plain": [
       "<Figure size 640x480 with 1 Axes>"
      ]
     },
     "metadata": {},
     "output_type": "display_data"
    }
   ],
   "source": [
    "# bar chart frequency of orders vs department\n",
    "depts_bar = df_final_merged['department_id'].value_counts(ascending=True).plot(kind='barh', color='blue', xlabel = 'Count', title='Products Ordered by Department')"
   ]
  },
  {
   "cell_type": "code",
   "execution_count": 71,
   "id": "e6eca5cb",
   "metadata": {},
   "outputs": [],
   "source": [
    "# Export bar chart\n",
    "depts_bar.figure.savefig(os.path.join(path, '04 Analysis','Visualizations', 'depts_bar.png'))"
   ]
  },
  {
   "cell_type": "markdown",
   "id": "4f4b9762",
   "metadata": {},
   "source": [
    "### Age VS Department"
   ]
  },
  {
   "cell_type": "code",
   "execution_count": 73,
   "id": "e3675920",
   "metadata": {},
   "outputs": [
    {
     "data": {
      "text/html": [
       "<div>\n",
       "<style scoped>\n",
       "    .dataframe tbody tr th:only-of-type {\n",
       "        vertical-align: middle;\n",
       "    }\n",
       "\n",
       "    .dataframe tbody tr th {\n",
       "        vertical-align: top;\n",
       "    }\n",
       "\n",
       "    .dataframe thead th {\n",
       "        text-align: right;\n",
       "    }\n",
       "</style>\n",
       "<table border=\"1\" class=\"dataframe\">\n",
       "  <thead>\n",
       "    <tr style=\"text-align: right;\">\n",
       "      <th>department_id</th>\n",
       "      <th>1</th>\n",
       "      <th>10</th>\n",
       "      <th>11</th>\n",
       "      <th>12</th>\n",
       "      <th>13</th>\n",
       "      <th>14</th>\n",
       "      <th>15</th>\n",
       "      <th>16</th>\n",
       "      <th>17</th>\n",
       "      <th>18</th>\n",
       "      <th>...</th>\n",
       "      <th>2</th>\n",
       "      <th>20</th>\n",
       "      <th>21</th>\n",
       "      <th>3</th>\n",
       "      <th>4</th>\n",
       "      <th>5</th>\n",
       "      <th>6</th>\n",
       "      <th>7</th>\n",
       "      <th>8</th>\n",
       "      <th>9</th>\n",
       "    </tr>\n",
       "    <tr>\n",
       "      <th>age_group</th>\n",
       "      <th></th>\n",
       "      <th></th>\n",
       "      <th></th>\n",
       "      <th></th>\n",
       "      <th></th>\n",
       "      <th></th>\n",
       "      <th></th>\n",
       "      <th></th>\n",
       "      <th></th>\n",
       "      <th></th>\n",
       "      <th></th>\n",
       "      <th></th>\n",
       "      <th></th>\n",
       "      <th></th>\n",
       "      <th></th>\n",
       "      <th></th>\n",
       "      <th></th>\n",
       "      <th></th>\n",
       "      <th></th>\n",
       "      <th></th>\n",
       "      <th></th>\n",
       "    </tr>\n",
       "  </thead>\n",
       "  <tbody>\n",
       "    <tr>\n",
       "      <th>adult</th>\n",
       "      <td>624442</td>\n",
       "      <td>9902</td>\n",
       "      <td>125522</td>\n",
       "      <td>199124</td>\n",
       "      <td>529307</td>\n",
       "      <td>198803</td>\n",
       "      <td>302479</td>\n",
       "      <td>1549127</td>\n",
       "      <td>207553</td>\n",
       "      <td>123044</td>\n",
       "      <td>...</td>\n",
       "      <td>10198</td>\n",
       "      <td>299970</td>\n",
       "      <td>19130</td>\n",
       "      <td>334154</td>\n",
       "      <td>2712590</td>\n",
       "      <td>42167</td>\n",
       "      <td>76675</td>\n",
       "      <td>754851</td>\n",
       "      <td>27034</td>\n",
       "      <td>243702</td>\n",
       "    </tr>\n",
       "    <tr>\n",
       "      <th>middle-aged</th>\n",
       "      <td>667149</td>\n",
       "      <td>10298</td>\n",
       "      <td>134736</td>\n",
       "      <td>209927</td>\n",
       "      <td>558929</td>\n",
       "      <td>211274</td>\n",
       "      <td>315774</td>\n",
       "      <td>1612490</td>\n",
       "      <td>218860</td>\n",
       "      <td>129910</td>\n",
       "      <td>...</td>\n",
       "      <td>10811</td>\n",
       "      <td>314110</td>\n",
       "      <td>20340</td>\n",
       "      <td>350804</td>\n",
       "      <td>2830853</td>\n",
       "      <td>46579</td>\n",
       "      <td>79743</td>\n",
       "      <td>814687</td>\n",
       "      <td>28293</td>\n",
       "      <td>256920</td>\n",
       "    </tr>\n",
       "    <tr>\n",
       "      <th>senior</th>\n",
       "      <td>564250</td>\n",
       "      <td>8945</td>\n",
       "      <td>111052</td>\n",
       "      <td>181150</td>\n",
       "      <td>472383</td>\n",
       "      <td>175296</td>\n",
       "      <td>267509</td>\n",
       "      <td>1368072</td>\n",
       "      <td>186630</td>\n",
       "      <td>106204</td>\n",
       "      <td>...</td>\n",
       "      <td>8946</td>\n",
       "      <td>265199</td>\n",
       "      <td>16915</td>\n",
       "      <td>295997</td>\n",
       "      <td>2408104</td>\n",
       "      <td>36693</td>\n",
       "      <td>67199</td>\n",
       "      <td>684020</td>\n",
       "      <td>25115</td>\n",
       "      <td>217316</td>\n",
       "    </tr>\n",
       "    <tr>\n",
       "      <th>young adult</th>\n",
       "      <td>265890</td>\n",
       "      <td>4306</td>\n",
       "      <td>52996</td>\n",
       "      <td>84580</td>\n",
       "      <td>222086</td>\n",
       "      <td>85477</td>\n",
       "      <td>126312</td>\n",
       "      <td>647493</td>\n",
       "      <td>86814</td>\n",
       "      <td>51234</td>\n",
       "      <td>...</td>\n",
       "      <td>4456</td>\n",
       "      <td>124555</td>\n",
       "      <td>8383</td>\n",
       "      <td>139873</td>\n",
       "      <td>1127726</td>\n",
       "      <td>19188</td>\n",
       "      <td>32374</td>\n",
       "      <td>318343</td>\n",
       "      <td>12618</td>\n",
       "      <td>104198</td>\n",
       "    </tr>\n",
       "  </tbody>\n",
       "</table>\n",
       "<p>4 rows × 21 columns</p>\n",
       "</div>"
      ],
      "text/plain": [
       "department_id       1     10      11      12      13      14      15       16  \\\n",
       "age_group                                                                       \n",
       "adult          624442   9902  125522  199124  529307  198803  302479  1549127   \n",
       "middle-aged    667149  10298  134736  209927  558929  211274  315774  1612490   \n",
       "senior         564250   8945  111052  181150  472383  175296  267509  1368072   \n",
       "young adult    265890   4306   52996   84580  222086   85477  126312   647493   \n",
       "\n",
       "department_id      17      18  ...      2      20     21       3        4  \\\n",
       "age_group                      ...                                          \n",
       "adult          207553  123044  ...  10198  299970  19130  334154  2712590   \n",
       "middle-aged    218860  129910  ...  10811  314110  20340  350804  2830853   \n",
       "senior         186630  106204  ...   8946  265199  16915  295997  2408104   \n",
       "young adult     86814   51234  ...   4456  124555   8383  139873  1127726   \n",
       "\n",
       "department_id      5      6       7      8       9  \n",
       "age_group                                           \n",
       "adult          42167  76675  754851  27034  243702  \n",
       "middle-aged    46579  79743  814687  28293  256920  \n",
       "senior         36693  67199  684020  25115  217316  \n",
       "young adult    19188  32374  318343  12618  104198  \n",
       "\n",
       "[4 rows x 21 columns]"
      ]
     },
     "execution_count": 73,
     "metadata": {},
     "output_type": "execute_result"
    }
   ],
   "source": [
    "# crosstab age group vs department\n",
    "age_dept_cross = pd.crosstab(df_final_merged['age_group'], df_final_merged['department_id'], dropna = False)\n",
    "age_dept_cross"
   ]
  },
  {
   "cell_type": "code",
   "execution_count": 74,
   "id": "5bafc776",
   "metadata": {},
   "outputs": [
    {
     "data": {
      "text/plain": [
       "<matplotlib.legend.Legend at 0x217170fca40>"
      ]
     },
     "execution_count": 74,
     "metadata": {},
     "output_type": "execute_result"
    },
    {
     "data": {
      "image/png": "[encoded data removed]",
      "text/plain": [
       "<Figure size 1400x1000 with 1 Axes>"
      ]
     },
     "metadata": {},
     "output_type": "display_data"
    }
   ],
   "source": [
    "# bar chart\n",
    "age_dept_bar = age_dept_cross.plot(kind = 'barh', figsize=(14,10))\n",
    "plt.title('Department Sales by Age Group')\n",
    "plt.xlabel('products count')\n",
    "plt.ylabel('age group')\n",
    "# Move legend outside of plot\n",
    "plt.legend(title='Department', bbox_to_anchor=(1.05, 1), loc='upper left', fontsize=12, title_fontsize=14)"
   ]
  },
  {
   "cell_type": "code",
   "execution_count": 75,
   "id": "486f5439",
   "metadata": {},
   "outputs": [],
   "source": [
    "# Export bar chart\n",
    "age_dept_bar.figure.savefig(os.path.join(path, '04 Analysis','Visualizations', 'age_depts_bar.png'))"
   ]
  },
  {
   "cell_type": "markdown",
   "id": "7867b437",
   "metadata": {},
   "source": [
    "# Income VS Department"
   ]
  },
  {
   "cell_type": "code",
   "execution_count": 77,
   "id": "e52b6db0",
   "metadata": {},
   "outputs": [
    {
     "data": {
      "text/html": [
       "<div>\n",
       "<style scoped>\n",
       "    .dataframe tbody tr th:only-of-type {\n",
       "        vertical-align: middle;\n",
       "    }\n",
       "\n",
       "    .dataframe tbody tr th {\n",
       "        vertical-align: top;\n",
       "    }\n",
       "\n",
       "    .dataframe thead th {\n",
       "        text-align: right;\n",
       "    }\n",
       "</style>\n",
       "<table border=\"1\" class=\"dataframe\">\n",
       "  <thead>\n",
       "    <tr style=\"text-align: right;\">\n",
       "      <th>department_id</th>\n",
       "      <th>1</th>\n",
       "      <th>10</th>\n",
       "      <th>11</th>\n",
       "      <th>12</th>\n",
       "      <th>13</th>\n",
       "      <th>14</th>\n",
       "      <th>15</th>\n",
       "      <th>16</th>\n",
       "      <th>17</th>\n",
       "      <th>18</th>\n",
       "      <th>...</th>\n",
       "      <th>2</th>\n",
       "      <th>20</th>\n",
       "      <th>21</th>\n",
       "      <th>3</th>\n",
       "      <th>4</th>\n",
       "      <th>5</th>\n",
       "      <th>6</th>\n",
       "      <th>7</th>\n",
       "      <th>8</th>\n",
       "      <th>9</th>\n",
       "    </tr>\n",
       "    <tr>\n",
       "      <th>income_group</th>\n",
       "      <th></th>\n",
       "      <th></th>\n",
       "      <th></th>\n",
       "      <th></th>\n",
       "      <th></th>\n",
       "      <th></th>\n",
       "      <th></th>\n",
       "      <th></th>\n",
       "      <th></th>\n",
       "      <th></th>\n",
       "      <th></th>\n",
       "      <th></th>\n",
       "      <th></th>\n",
       "      <th></th>\n",
       "      <th></th>\n",
       "      <th></th>\n",
       "      <th></th>\n",
       "      <th></th>\n",
       "      <th></th>\n",
       "      <th></th>\n",
       "      <th></th>\n",
       "    </tr>\n",
       "  </thead>\n",
       "  <tbody>\n",
       "    <tr>\n",
       "      <th>high-income</th>\n",
       "      <td>276341</td>\n",
       "      <td>3671</td>\n",
       "      <td>53530</td>\n",
       "      <td>91514</td>\n",
       "      <td>231915</td>\n",
       "      <td>83418</td>\n",
       "      <td>132389</td>\n",
       "      <td>659149</td>\n",
       "      <td>92674</td>\n",
       "      <td>53001</td>\n",
       "      <td>...</td>\n",
       "      <td>4554</td>\n",
       "      <td>125886</td>\n",
       "      <td>8253</td>\n",
       "      <td>148430</td>\n",
       "      <td>1134490</td>\n",
       "      <td>24067</td>\n",
       "      <td>32822</td>\n",
       "      <td>313325</td>\n",
       "      <td>12991</td>\n",
       "      <td>106335</td>\n",
       "    </tr>\n",
       "    <tr>\n",
       "      <th>low-income</th>\n",
       "      <td>287968</td>\n",
       "      <td>5974</td>\n",
       "      <td>62888</td>\n",
       "      <td>54717</td>\n",
       "      <td>226221</td>\n",
       "      <td>116540</td>\n",
       "      <td>112945</td>\n",
       "      <td>680816</td>\n",
       "      <td>111508</td>\n",
       "      <td>43438</td>\n",
       "      <td>...</td>\n",
       "      <td>4958</td>\n",
       "      <td>141758</td>\n",
       "      <td>8902</td>\n",
       "      <td>144086</td>\n",
       "      <td>1139552</td>\n",
       "      <td>22199</td>\n",
       "      <td>30240</td>\n",
       "      <td>479742</td>\n",
       "      <td>11782</td>\n",
       "      <td>92401</td>\n",
       "    </tr>\n",
       "    <tr>\n",
       "      <th>middle-income</th>\n",
       "      <td>1557422</td>\n",
       "      <td>23806</td>\n",
       "      <td>307888</td>\n",
       "      <td>528550</td>\n",
       "      <td>1324569</td>\n",
       "      <td>470892</td>\n",
       "      <td>766740</td>\n",
       "      <td>3837217</td>\n",
       "      <td>495675</td>\n",
       "      <td>313953</td>\n",
       "      <td>...</td>\n",
       "      <td>24899</td>\n",
       "      <td>736190</td>\n",
       "      <td>47613</td>\n",
       "      <td>828312</td>\n",
       "      <td>6805231</td>\n",
       "      <td>98361</td>\n",
       "      <td>192929</td>\n",
       "      <td>1778834</td>\n",
       "      <td>68287</td>\n",
       "      <td>623400</td>\n",
       "    </tr>\n",
       "  </tbody>\n",
       "</table>\n",
       "<p>3 rows × 21 columns</p>\n",
       "</div>"
      ],
      "text/plain": [
       "department_id        1     10      11      12       13      14      15  \\\n",
       "income_group                                                             \n",
       "high-income     276341   3671   53530   91514   231915   83418  132389   \n",
       "low-income      287968   5974   62888   54717   226221  116540  112945   \n",
       "middle-income  1557422  23806  307888  528550  1324569  470892  766740   \n",
       "\n",
       "department_id       16      17      18  ...      2      20     21       3  \\\n",
       "income_group                            ...                                 \n",
       "high-income     659149   92674   53001  ...   4554  125886   8253  148430   \n",
       "low-income      680816  111508   43438  ...   4958  141758   8902  144086   \n",
       "middle-income  3837217  495675  313953  ...  24899  736190  47613  828312   \n",
       "\n",
       "department_id        4      5       6        7      8       9  \n",
       "income_group                                                   \n",
       "high-income    1134490  24067   32822   313325  12991  106335  \n",
       "low-income     1139552  22199   30240   479742  11782   92401  \n",
       "middle-income  6805231  98361  192929  1778834  68287  623400  \n",
       "\n",
       "[3 rows x 21 columns]"
      ]
     },
     "execution_count": 77,
     "metadata": {},
     "output_type": "execute_result"
    }
   ],
   "source": [
    "# crosstab income group vs department\n",
    "income_dept_cross = pd.crosstab(df_final_merged['income_group'], df_final_merged['department_id'], dropna = False)\n",
    "income_dept_cross"
   ]
  },
  {
   "cell_type": "code",
   "execution_count": 78,
   "id": "ad6f50c0",
   "metadata": {},
   "outputs": [
    {
     "data": {
      "text/plain": [
       "<matplotlib.legend.Legend at 0x2126331dd90>"
      ]
     },
     "execution_count": 78,
     "metadata": {},
     "output_type": "execute_result"
    },
    {
     "data": {
      "image/png": "[encoded data removed]",
      "text/plain": [
       "<Figure size 1400x1000 with 1 Axes>"
      ]
     },
     "metadata": {},
     "output_type": "display_data"
    }
   ],
   "source": [
    "# bar chart\n",
    "income_dept_bar = income_dept_cross.plot(kind = 'barh', figsize=(14,10))\n",
    "plt.title('Department Sales by Income Group')\n",
    "plt.xlabel('products count')\n",
    "plt.ylabel('income group')\n",
    "# Move legend outside of plot\n",
    "plt.legend(title='Department', bbox_to_anchor=(1.05, 1), loc='upper left', fontsize=12, title_fontsize=14)"
   ]
  },
  {
   "cell_type": "code",
   "execution_count": 79,
   "id": "d3066b02",
   "metadata": {},
   "outputs": [],
   "source": [
    "# Export bar chart\n",
    "income_dept_bar.figure.savefig(os.path.join(path, '04 Analysis','Visualizations', 'income_depts_bar.png'))"
   ]
  },
  {
   "cell_type": "markdown",
   "id": "58dc28ab",
   "metadata": {},
   "source": [
    "# 7. Aggregate max, mean, and min variables on a customer-profile level for usage frequency and expenditure"
   ]
  },
  {
   "cell_type": "code",
   "execution_count": 81,
   "id": "578b03e5",
   "metadata": {},
   "outputs": [],
   "source": [
    "# Create a subset of customer profiles and show the total price of each order\n",
    "customer_profile = df_final_merged.groupby(['user_id', 'Gender', 'State', 'region', 'Number of Dependents', 'Family Status', 'age_group', 'order_dow', 'loyalty_flag', 'dependants_flag', 'income_group', 'spending_flag', 'order_number'])['prices'].sum().reset_index()"
   ]
  },
  {
   "cell_type": "code",
   "execution_count": 82,
   "id": "3aaf4d74",
   "metadata": {},
   "outputs": [
    {
     "data": {
      "text/html": [
       "<div>\n",
       "<style scoped>\n",
       "    .dataframe tbody tr th:only-of-type {\n",
       "        vertical-align: middle;\n",
       "    }\n",
       "\n",
       "    .dataframe tbody tr th {\n",
       "        vertical-align: top;\n",
       "    }\n",
       "\n",
       "    .dataframe thead th {\n",
       "        text-align: right;\n",
       "    }\n",
       "</style>\n",
       "<table border=\"1\" class=\"dataframe\">\n",
       "  <thead>\n",
       "    <tr style=\"text-align: right;\">\n",
       "      <th></th>\n",
       "      <th>user_id</th>\n",
       "      <th>Gender</th>\n",
       "      <th>State</th>\n",
       "      <th>region</th>\n",
       "      <th>Number of Dependents</th>\n",
       "      <th>Family Status</th>\n",
       "      <th>age_group</th>\n",
       "      <th>order_dow</th>\n",
       "      <th>loyalty_flag</th>\n",
       "      <th>dependants_flag</th>\n",
       "      <th>income_group</th>\n",
       "      <th>spending_flag</th>\n",
       "      <th>order_number</th>\n",
       "      <th>prices</th>\n",
       "    </tr>\n",
       "  </thead>\n",
       "  <tbody>\n",
       "    <tr>\n",
       "      <th>0</th>\n",
       "      <td>1</td>\n",
       "      <td>Female</td>\n",
       "      <td>Alabama</td>\n",
       "      <td>South</td>\n",
       "      <td>3</td>\n",
       "      <td>married</td>\n",
       "      <td>adult</td>\n",
       "      <td>1</td>\n",
       "      <td>New customer</td>\n",
       "      <td>has dependants</td>\n",
       "      <td>low-income</td>\n",
       "      <td>Low spender</td>\n",
       "      <td>7</td>\n",
       "      <td>29.0</td>\n",
       "    </tr>\n",
       "    <tr>\n",
       "      <th>1</th>\n",
       "      <td>1</td>\n",
       "      <td>Female</td>\n",
       "      <td>Alabama</td>\n",
       "      <td>South</td>\n",
       "      <td>3</td>\n",
       "      <td>married</td>\n",
       "      <td>adult</td>\n",
       "      <td>1</td>\n",
       "      <td>New customer</td>\n",
       "      <td>has dependants</td>\n",
       "      <td>low-income</td>\n",
       "      <td>Low spender</td>\n",
       "      <td>8</td>\n",
       "      <td>40.2</td>\n",
       "    </tr>\n",
       "    <tr>\n",
       "      <th>2</th>\n",
       "      <td>1</td>\n",
       "      <td>Female</td>\n",
       "      <td>Alabama</td>\n",
       "      <td>South</td>\n",
       "      <td>3</td>\n",
       "      <td>married</td>\n",
       "      <td>adult</td>\n",
       "      <td>1</td>\n",
       "      <td>New customer</td>\n",
       "      <td>has dependants</td>\n",
       "      <td>low-income</td>\n",
       "      <td>Low spender</td>\n",
       "      <td>9</td>\n",
       "      <td>40.2</td>\n",
       "    </tr>\n",
       "    <tr>\n",
       "      <th>3</th>\n",
       "      <td>1</td>\n",
       "      <td>Female</td>\n",
       "      <td>Alabama</td>\n",
       "      <td>South</td>\n",
       "      <td>3</td>\n",
       "      <td>married</td>\n",
       "      <td>adult</td>\n",
       "      <td>2</td>\n",
       "      <td>New customer</td>\n",
       "      <td>has dependants</td>\n",
       "      <td>low-income</td>\n",
       "      <td>Low spender</td>\n",
       "      <td>1</td>\n",
       "      <td>31.6</td>\n",
       "    </tr>\n",
       "    <tr>\n",
       "      <th>4</th>\n",
       "      <td>1</td>\n",
       "      <td>Female</td>\n",
       "      <td>Alabama</td>\n",
       "      <td>South</td>\n",
       "      <td>3</td>\n",
       "      <td>married</td>\n",
       "      <td>adult</td>\n",
       "      <td>2</td>\n",
       "      <td>New customer</td>\n",
       "      <td>has dependants</td>\n",
       "      <td>low-income</td>\n",
       "      <td>Low spender</td>\n",
       "      <td>6</td>\n",
       "      <td>25.0</td>\n",
       "    </tr>\n",
       "  </tbody>\n",
       "</table>\n",
       "</div>"
      ],
      "text/plain": [
       "   user_id  Gender    State region  Number of Dependents Family Status  \\\n",
       "0        1  Female  Alabama  South                     3       married   \n",
       "1        1  Female  Alabama  South                     3       married   \n",
       "2        1  Female  Alabama  South                     3       married   \n",
       "3        1  Female  Alabama  South                     3       married   \n",
       "4        1  Female  Alabama  South                     3       married   \n",
       "\n",
       "  age_group  order_dow  loyalty_flag dependants_flag income_group  \\\n",
       "0     adult          1  New customer  has dependants   low-income   \n",
       "1     adult          1  New customer  has dependants   low-income   \n",
       "2     adult          1  New customer  has dependants   low-income   \n",
       "3     adult          2  New customer  has dependants   low-income   \n",
       "4     adult          2  New customer  has dependants   low-income   \n",
       "\n",
       "  spending_flag  order_number  prices  \n",
       "0   Low spender             7    29.0  \n",
       "1   Low spender             8    40.2  \n",
       "2   Low spender             9    40.2  \n",
       "3   Low spender             1    31.6  \n",
       "4   Low spender             6    25.0  "
      ]
     },
     "execution_count": 82,
     "metadata": {},
     "output_type": "execute_result"
    }
   ],
   "source": [
    "customer_profile.head()"
   ]
  },
  {
   "cell_type": "code",
   "execution_count": 83,
   "id": "7aa20f12",
   "metadata": {},
   "outputs": [],
   "source": [
    "# Aggregate variables for customer profiles for expenditure\n",
    "customer_agg = customer_profile.groupby('user_id').agg({'order_number': ['max', 'min', 'mean'], 'prices': ['max', 'min', 'mean']})"
   ]
  },
  {
   "cell_type": "code",
   "execution_count": 84,
   "id": "c1e47d37",
   "metadata": {},
   "outputs": [
    {
     "data": {
      "text/html": [
       "<div>\n",
       "<style scoped>\n",
       "    .dataframe tbody tr th:only-of-type {\n",
       "        vertical-align: middle;\n",
       "    }\n",
       "\n",
       "    .dataframe tbody tr th {\n",
       "        vertical-align: top;\n",
       "    }\n",
       "\n",
       "    .dataframe thead tr th {\n",
       "        text-align: left;\n",
       "    }\n",
       "\n",
       "    .dataframe thead tr:last-of-type th {\n",
       "        text-align: right;\n",
       "    }\n",
       "</style>\n",
       "<table border=\"1\" class=\"dataframe\">\n",
       "  <thead>\n",
       "    <tr>\n",
       "      <th></th>\n",
       "      <th colspan=\"3\" halign=\"left\">order_number</th>\n",
       "      <th colspan=\"3\" halign=\"left\">prices</th>\n",
       "    </tr>\n",
       "    <tr>\n",
       "      <th></th>\n",
       "      <th>max</th>\n",
       "      <th>min</th>\n",
       "      <th>mean</th>\n",
       "      <th>max</th>\n",
       "      <th>min</th>\n",
       "      <th>mean</th>\n",
       "    </tr>\n",
       "    <tr>\n",
       "      <th>user_id</th>\n",
       "      <th></th>\n",
       "      <th></th>\n",
       "      <th></th>\n",
       "      <th></th>\n",
       "      <th></th>\n",
       "      <th></th>\n",
       "    </tr>\n",
       "  </thead>\n",
       "  <tbody>\n",
       "    <tr>\n",
       "      <th>1</th>\n",
       "      <td>10</td>\n",
       "      <td>1</td>\n",
       "      <td>5.5</td>\n",
       "      <td>63.1</td>\n",
       "      <td>25.0</td>\n",
       "      <td>37.570000</td>\n",
       "    </tr>\n",
       "    <tr>\n",
       "      <th>2</th>\n",
       "      <td>14</td>\n",
       "      <td>1</td>\n",
       "      <td>7.5</td>\n",
       "      <td>213.1</td>\n",
       "      <td>19.0</td>\n",
       "      <td>104.685714</td>\n",
       "    </tr>\n",
       "    <tr>\n",
       "      <th>3</th>\n",
       "      <td>12</td>\n",
       "      <td>1</td>\n",
       "      <td>6.5</td>\n",
       "      <td>107.2</td>\n",
       "      <td>30.7</td>\n",
       "      <td>60.116667</td>\n",
       "    </tr>\n",
       "    <tr>\n",
       "      <th>4</th>\n",
       "      <td>5</td>\n",
       "      <td>1</td>\n",
       "      <td>3.0</td>\n",
       "      <td>63.4</td>\n",
       "      <td>10.8</td>\n",
       "      <td>29.540000</td>\n",
       "    </tr>\n",
       "    <tr>\n",
       "      <th>7</th>\n",
       "      <td>20</td>\n",
       "      <td>1</td>\n",
       "      <td>10.5</td>\n",
       "      <td>166.7</td>\n",
       "      <td>6.3</td>\n",
       "      <td>76.910000</td>\n",
       "    </tr>\n",
       "    <tr>\n",
       "      <th>...</th>\n",
       "      <td>...</td>\n",
       "      <td>...</td>\n",
       "      <td>...</td>\n",
       "      <td>...</td>\n",
       "      <td>...</td>\n",
       "      <td>...</td>\n",
       "    </tr>\n",
       "    <tr>\n",
       "      <th>206203</th>\n",
       "      <td>5</td>\n",
       "      <td>1</td>\n",
       "      <td>3.0</td>\n",
       "      <td>216.3</td>\n",
       "      <td>126.6</td>\n",
       "      <td>169.900000</td>\n",
       "    </tr>\n",
       "    <tr>\n",
       "      <th>206206</th>\n",
       "      <td>67</td>\n",
       "      <td>1</td>\n",
       "      <td>34.0</td>\n",
       "      <td>157.3</td>\n",
       "      <td>9.6</td>\n",
       "      <td>32.526866</td>\n",
       "    </tr>\n",
       "    <tr>\n",
       "      <th>206207</th>\n",
       "      <td>16</td>\n",
       "      <td>1</td>\n",
       "      <td>8.5</td>\n",
       "      <td>200.8</td>\n",
       "      <td>42.8</td>\n",
       "      <td>101.931250</td>\n",
       "    </tr>\n",
       "    <tr>\n",
       "      <th>206208</th>\n",
       "      <td>49</td>\n",
       "      <td>1</td>\n",
       "      <td>25.0</td>\n",
       "      <td>238.5</td>\n",
       "      <td>38.7</td>\n",
       "      <td>115.595918</td>\n",
       "    </tr>\n",
       "    <tr>\n",
       "      <th>206209</th>\n",
       "      <td>13</td>\n",
       "      <td>1</td>\n",
       "      <td>7.0</td>\n",
       "      <td>131.5</td>\n",
       "      <td>11.1</td>\n",
       "      <td>70.046154</td>\n",
       "    </tr>\n",
       "  </tbody>\n",
       "</table>\n",
       "<p>156301 rows × 6 columns</p>\n",
       "</div>"
      ],
      "text/plain": [
       "        order_number           prices                   \n",
       "                 max min  mean    max    min        mean\n",
       "user_id                                                 \n",
       "1                 10   1   5.5   63.1   25.0   37.570000\n",
       "2                 14   1   7.5  213.1   19.0  104.685714\n",
       "3                 12   1   6.5  107.2   30.7   60.116667\n",
       "4                  5   1   3.0   63.4   10.8   29.540000\n",
       "7                 20   1  10.5  166.7    6.3   76.910000\n",
       "...              ...  ..   ...    ...    ...         ...\n",
       "206203             5   1   3.0  216.3  126.6  169.900000\n",
       "206206            67   1  34.0  157.3    9.6   32.526866\n",
       "206207            16   1   8.5  200.8   42.8  101.931250\n",
       "206208            49   1  25.0  238.5   38.7  115.595918\n",
       "206209            13   1   7.0  131.5   11.1   70.046154\n",
       "\n",
       "[156301 rows x 6 columns]"
      ]
     },
     "execution_count": 84,
     "metadata": {},
     "output_type": "execute_result"
    }
   ],
   "source": [
    "customer_agg"
   ]
  },
  {
   "cell_type": "code",
   "execution_count": 85,
   "id": "ad1f2bd3",
   "metadata": {},
   "outputs": [],
   "source": [
    "# Aggregate variables for customer profiles for usage frequency\n",
    "freq_agg = df_excluded.groupby('user_id').agg({'order_number': ['max', 'min', 'mean'], 'days_since_prior_order': ['max', 'min', 'mean']})"
   ]
  },
  {
   "cell_type": "code",
   "execution_count": 86,
   "id": "0e323646",
   "metadata": {
    "scrolled": true
   },
   "outputs": [
    {
     "data": {
      "text/html": [
       "<div>\n",
       "<style scoped>\n",
       "    .dataframe tbody tr th:only-of-type {\n",
       "        vertical-align: middle;\n",
       "    }\n",
       "\n",
       "    .dataframe tbody tr th {\n",
       "        vertical-align: top;\n",
       "    }\n",
       "\n",
       "    .dataframe thead tr th {\n",
       "        text-align: left;\n",
       "    }\n",
       "\n",
       "    .dataframe thead tr:last-of-type th {\n",
       "        text-align: right;\n",
       "    }\n",
       "</style>\n",
       "<table border=\"1\" class=\"dataframe\">\n",
       "  <thead>\n",
       "    <tr>\n",
       "      <th></th>\n",
       "      <th colspan=\"3\" halign=\"left\">order_number</th>\n",
       "      <th colspan=\"3\" halign=\"left\">days_since_prior_order</th>\n",
       "    </tr>\n",
       "    <tr>\n",
       "      <th></th>\n",
       "      <th>max</th>\n",
       "      <th>min</th>\n",
       "      <th>mean</th>\n",
       "      <th>max</th>\n",
       "      <th>min</th>\n",
       "      <th>mean</th>\n",
       "    </tr>\n",
       "    <tr>\n",
       "      <th>user_id</th>\n",
       "      <th></th>\n",
       "      <th></th>\n",
       "      <th></th>\n",
       "      <th></th>\n",
       "      <th></th>\n",
       "      <th></th>\n",
       "    </tr>\n",
       "  </thead>\n",
       "  <tbody>\n",
       "    <tr>\n",
       "      <th>1</th>\n",
       "      <td>10</td>\n",
       "      <td>1</td>\n",
       "      <td>5.813559</td>\n",
       "      <td>30.0</td>\n",
       "      <td>0.0</td>\n",
       "      <td>20.259259</td>\n",
       "    </tr>\n",
       "    <tr>\n",
       "      <th>2</th>\n",
       "      <td>14</td>\n",
       "      <td>1</td>\n",
       "      <td>8.035897</td>\n",
       "      <td>30.0</td>\n",
       "      <td>3.0</td>\n",
       "      <td>15.967033</td>\n",
       "    </tr>\n",
       "    <tr>\n",
       "      <th>3</th>\n",
       "      <td>12</td>\n",
       "      <td>1</td>\n",
       "      <td>6.000000</td>\n",
       "      <td>21.0</td>\n",
       "      <td>7.0</td>\n",
       "      <td>11.487179</td>\n",
       "    </tr>\n",
       "    <tr>\n",
       "      <th>4</th>\n",
       "      <td>5</td>\n",
       "      <td>1</td>\n",
       "      <td>2.888889</td>\n",
       "      <td>21.0</td>\n",
       "      <td>0.0</td>\n",
       "      <td>15.357143</td>\n",
       "    </tr>\n",
       "    <tr>\n",
       "      <th>7</th>\n",
       "      <td>20</td>\n",
       "      <td>1</td>\n",
       "      <td>9.645631</td>\n",
       "      <td>30.0</td>\n",
       "      <td>2.0</td>\n",
       "      <td>13.546392</td>\n",
       "    </tr>\n",
       "    <tr>\n",
       "      <th>...</th>\n",
       "      <td>...</td>\n",
       "      <td>...</td>\n",
       "      <td>...</td>\n",
       "      <td>...</td>\n",
       "      <td>...</td>\n",
       "      <td>...</td>\n",
       "    </tr>\n",
       "    <tr>\n",
       "      <th>206203</th>\n",
       "      <td>5</td>\n",
       "      <td>1</td>\n",
       "      <td>2.983193</td>\n",
       "      <td>30.0</td>\n",
       "      <td>27.0</td>\n",
       "      <td>29.103093</td>\n",
       "    </tr>\n",
       "    <tr>\n",
       "      <th>206206</th>\n",
       "      <td>67</td>\n",
       "      <td>1</td>\n",
       "      <td>38.007018</td>\n",
       "      <td>15.0</td>\n",
       "      <td>0.0</td>\n",
       "      <td>4.042705</td>\n",
       "    </tr>\n",
       "    <tr>\n",
       "      <th>206207</th>\n",
       "      <td>16</td>\n",
       "      <td>1</td>\n",
       "      <td>8.116592</td>\n",
       "      <td>30.0</td>\n",
       "      <td>1.0</td>\n",
       "      <td>14.879397</td>\n",
       "    </tr>\n",
       "    <tr>\n",
       "      <th>206208</th>\n",
       "      <td>49</td>\n",
       "      <td>1</td>\n",
       "      <td>25.505170</td>\n",
       "      <td>20.0</td>\n",
       "      <td>0.0</td>\n",
       "      <td>7.442105</td>\n",
       "    </tr>\n",
       "    <tr>\n",
       "      <th>206209</th>\n",
       "      <td>13</td>\n",
       "      <td>1</td>\n",
       "      <td>6.937984</td>\n",
       "      <td>30.0</td>\n",
       "      <td>3.0</td>\n",
       "      <td>20.275862</td>\n",
       "    </tr>\n",
       "  </tbody>\n",
       "</table>\n",
       "<p>162631 rows × 6 columns</p>\n",
       "</div>"
      ],
      "text/plain": [
       "        order_number                days_since_prior_order                 \n",
       "                 max min       mean                    max   min       mean\n",
       "user_id                                                                    \n",
       "1                 10   1   5.813559                   30.0   0.0  20.259259\n",
       "2                 14   1   8.035897                   30.0   3.0  15.967033\n",
       "3                 12   1   6.000000                   21.0   7.0  11.487179\n",
       "4                  5   1   2.888889                   21.0   0.0  15.357143\n",
       "7                 20   1   9.645631                   30.0   2.0  13.546392\n",
       "...              ...  ..        ...                    ...   ...        ...\n",
       "206203             5   1   2.983193                   30.0  27.0  29.103093\n",
       "206206            67   1  38.007018                   15.0   0.0   4.042705\n",
       "206207            16   1   8.116592                   30.0   1.0  14.879397\n",
       "206208            49   1  25.505170                   20.0   0.0   7.442105\n",
       "206209            13   1   6.937984                   30.0   3.0  20.275862\n",
       "\n",
       "[162631 rows x 6 columns]"
      ]
     },
     "execution_count": 86,
     "metadata": {},
     "output_type": "execute_result"
    }
   ],
   "source": [
    "freq_agg"
   ]
  },
  {
   "cell_type": "markdown",
   "id": "f87e6509",
   "metadata": {},
   "source": [
    "# 8. Customer profiles compared with regions and departments"
   ]
  },
  {
   "cell_type": "markdown",
   "id": "3e060f31",
   "metadata": {},
   "source": [
    "### Region VS Department"
   ]
  },
  {
   "cell_type": "code",
   "execution_count": 89,
   "id": "ab696f8a",
   "metadata": {},
   "outputs": [
    {
     "data": {
      "text/html": [
       "<div>\n",
       "<style scoped>\n",
       "    .dataframe tbody tr th:only-of-type {\n",
       "        vertical-align: middle;\n",
       "    }\n",
       "\n",
       "    .dataframe tbody tr th {\n",
       "        vertical-align: top;\n",
       "    }\n",
       "\n",
       "    .dataframe thead th {\n",
       "        text-align: right;\n",
       "    }\n",
       "</style>\n",
       "<table border=\"1\" class=\"dataframe\">\n",
       "  <thead>\n",
       "    <tr style=\"text-align: right;\">\n",
       "      <th>department_id</th>\n",
       "      <th>1</th>\n",
       "      <th>10</th>\n",
       "      <th>11</th>\n",
       "      <th>12</th>\n",
       "      <th>13</th>\n",
       "      <th>14</th>\n",
       "      <th>15</th>\n",
       "      <th>16</th>\n",
       "      <th>17</th>\n",
       "      <th>18</th>\n",
       "      <th>...</th>\n",
       "      <th>2</th>\n",
       "      <th>20</th>\n",
       "      <th>21</th>\n",
       "      <th>3</th>\n",
       "      <th>4</th>\n",
       "      <th>5</th>\n",
       "      <th>6</th>\n",
       "      <th>7</th>\n",
       "      <th>8</th>\n",
       "      <th>9</th>\n",
       "    </tr>\n",
       "    <tr>\n",
       "      <th>region</th>\n",
       "      <th></th>\n",
       "      <th></th>\n",
       "      <th></th>\n",
       "      <th></th>\n",
       "      <th></th>\n",
       "      <th></th>\n",
       "      <th></th>\n",
       "      <th></th>\n",
       "      <th></th>\n",
       "      <th></th>\n",
       "      <th></th>\n",
       "      <th></th>\n",
       "      <th></th>\n",
       "      <th></th>\n",
       "      <th></th>\n",
       "      <th></th>\n",
       "      <th></th>\n",
       "      <th></th>\n",
       "      <th></th>\n",
       "      <th></th>\n",
       "      <th></th>\n",
       "    </tr>\n",
       "  </thead>\n",
       "  <tbody>\n",
       "    <tr>\n",
       "      <th>Midwest</th>\n",
       "      <td>498225</td>\n",
       "      <td>7929</td>\n",
       "      <td>100398</td>\n",
       "      <td>158260</td>\n",
       "      <td>420334</td>\n",
       "      <td>156155</td>\n",
       "      <td>237459</td>\n",
       "      <td>1212490</td>\n",
       "      <td>166992</td>\n",
       "      <td>95741</td>\n",
       "      <td>...</td>\n",
       "      <td>7983</td>\n",
       "      <td>234464</td>\n",
       "      <td>15563</td>\n",
       "      <td>261753</td>\n",
       "      <td>2134115</td>\n",
       "      <td>34043</td>\n",
       "      <td>60666</td>\n",
       "      <td>598979</td>\n",
       "      <td>21358</td>\n",
       "      <td>193463</td>\n",
       "    </tr>\n",
       "    <tr>\n",
       "      <th>Northeast</th>\n",
       "      <td>286464</td>\n",
       "      <td>4471</td>\n",
       "      <td>58664</td>\n",
       "      <td>91595</td>\n",
       "      <td>244582</td>\n",
       "      <td>92420</td>\n",
       "      <td>137738</td>\n",
       "      <td>711976</td>\n",
       "      <td>96810</td>\n",
       "      <td>56872</td>\n",
       "      <td>...</td>\n",
       "      <td>4926</td>\n",
       "      <td>139808</td>\n",
       "      <td>8970</td>\n",
       "      <td>155882</td>\n",
       "      <td>1239418</td>\n",
       "      <td>20120</td>\n",
       "      <td>35265</td>\n",
       "      <td>364615</td>\n",
       "      <td>13150</td>\n",
       "      <td>111939</td>\n",
       "    </tr>\n",
       "    <tr>\n",
       "      <th>South</th>\n",
       "      <td>709906</td>\n",
       "      <td>11180</td>\n",
       "      <td>142496</td>\n",
       "      <td>224120</td>\n",
       "      <td>591754</td>\n",
       "      <td>223172</td>\n",
       "      <td>337458</td>\n",
       "      <td>1723016</td>\n",
       "      <td>230061</td>\n",
       "      <td>139511</td>\n",
       "      <td>...</td>\n",
       "      <td>11579</td>\n",
       "      <td>333620</td>\n",
       "      <td>21787</td>\n",
       "      <td>371620</td>\n",
       "      <td>3027476</td>\n",
       "      <td>48813</td>\n",
       "      <td>84649</td>\n",
       "      <td>859419</td>\n",
       "      <td>29909</td>\n",
       "      <td>272813</td>\n",
       "    </tr>\n",
       "    <tr>\n",
       "      <th>West</th>\n",
       "      <td>543164</td>\n",
       "      <td>8743</td>\n",
       "      <td>106647</td>\n",
       "      <td>173830</td>\n",
       "      <td>457886</td>\n",
       "      <td>173619</td>\n",
       "      <td>260221</td>\n",
       "      <td>1327060</td>\n",
       "      <td>178200</td>\n",
       "      <td>102428</td>\n",
       "      <td>...</td>\n",
       "      <td>8581</td>\n",
       "      <td>257352</td>\n",
       "      <td>15906</td>\n",
       "      <td>288155</td>\n",
       "      <td>2324678</td>\n",
       "      <td>36754</td>\n",
       "      <td>65998</td>\n",
       "      <td>650574</td>\n",
       "      <td>24059</td>\n",
       "      <td>212043</td>\n",
       "    </tr>\n",
       "    <tr>\n",
       "      <th>NaN</th>\n",
       "      <td>83972</td>\n",
       "      <td>1128</td>\n",
       "      <td>16101</td>\n",
       "      <td>26976</td>\n",
       "      <td>68149</td>\n",
       "      <td>25484</td>\n",
       "      <td>39198</td>\n",
       "      <td>202640</td>\n",
       "      <td>27794</td>\n",
       "      <td>15840</td>\n",
       "      <td>...</td>\n",
       "      <td>1342</td>\n",
       "      <td>38590</td>\n",
       "      <td>2542</td>\n",
       "      <td>43418</td>\n",
       "      <td>353586</td>\n",
       "      <td>4897</td>\n",
       "      <td>9413</td>\n",
       "      <td>98314</td>\n",
       "      <td>4584</td>\n",
       "      <td>31878</td>\n",
       "    </tr>\n",
       "  </tbody>\n",
       "</table>\n",
       "<p>5 rows × 21 columns</p>\n",
       "</div>"
      ],
      "text/plain": [
       "department_id       1     10      11      12      13      14      15       16  \\\n",
       "region                                                                          \n",
       "Midwest        498225   7929  100398  158260  420334  156155  237459  1212490   \n",
       "Northeast      286464   4471   58664   91595  244582   92420  137738   711976   \n",
       "South          709906  11180  142496  224120  591754  223172  337458  1723016   \n",
       "West           543164   8743  106647  173830  457886  173619  260221  1327060   \n",
       "NaN             83972   1128   16101   26976   68149   25484   39198   202640   \n",
       "\n",
       "department_id      17      18  ...      2      20     21       3        4  \\\n",
       "region                         ...                                          \n",
       "Midwest        166992   95741  ...   7983  234464  15563  261753  2134115   \n",
       "Northeast       96810   56872  ...   4926  139808   8970  155882  1239418   \n",
       "South          230061  139511  ...  11579  333620  21787  371620  3027476   \n",
       "West           178200  102428  ...   8581  257352  15906  288155  2324678   \n",
       "NaN             27794   15840  ...   1342   38590   2542   43418   353586   \n",
       "\n",
       "department_id      5      6       7      8       9  \n",
       "region                                              \n",
       "Midwest        34043  60666  598979  21358  193463  \n",
       "Northeast      20120  35265  364615  13150  111939  \n",
       "South          48813  84649  859419  29909  272813  \n",
       "West           36754  65998  650574  24059  212043  \n",
       "NaN             4897   9413   98314   4584   31878  \n",
       "\n",
       "[5 rows x 21 columns]"
      ]
     },
     "execution_count": 89,
     "metadata": {},
     "output_type": "execute_result"
    }
   ],
   "source": [
    "# crosstab age group vs department\n",
    "region_dept_cross = pd.crosstab(df_final_merged['region'], df_final_merged['department_id'], dropna = False)\n",
    "region_dept_cross"
   ]
  },
  {
   "cell_type": "code",
   "execution_count": 90,
   "id": "4a50065c",
   "metadata": {},
   "outputs": [
    {
     "data": {
      "text/plain": [
       "<matplotlib.legend.Legend at 0x2171731b470>"
      ]
     },
     "execution_count": 90,
     "metadata": {},
     "output_type": "execute_result"
    },
    {
     "data": {
      "image/png": "[encoded data removed]",
      "text/plain": [
       "<Figure size 1400x1000 with 1 Axes>"
      ]
     },
     "metadata": {},
     "output_type": "display_data"
    }
   ],
   "source": [
    "# bar chart\n",
    "region_dept_bar = region_dept_cross.plot(kind = 'barh', figsize=(14,10))\n",
    "plt.title('Department Sales by Region')\n",
    "plt.xlabel('products count')\n",
    "plt.ylabel('region')\n",
    "# Move legend outside of plot\n",
    "plt.legend(title='Department', bbox_to_anchor=(1.05, 1), loc='upper left', fontsize=12, title_fontsize=14)"
   ]
  },
  {
   "cell_type": "code",
   "execution_count": 93,
   "id": "1c1da7c3",
   "metadata": {},
   "outputs": [],
   "source": [
    "# Export bar chart\n",
    "region_dept_bar.figure.savefig(os.path.join(path, '04 Analysis','Visualizations', 'region_depts_bar.png'))"
   ]
  },
  {
   "cell_type": "code",
   "execution_count": null,
   "id": "b0b8bb45",
   "metadata": {},
   "outputs": [],
   "source": []
  },
  {
   "cell_type": "code",
   "execution_count": null,
   "id": "cb438b62",
   "metadata": {},
   "outputs": [],
   "source": []
  },
  {
   "cell_type": "code",
   "execution_count": null,
   "id": "8c61bcba",
   "metadata": {},
   "outputs": [],
   "source": []
  },
  {
   "cell_type": "code",
   "execution_count": null,
   "id": "9ba29388",
   "metadata": {},
   "outputs": [],
   "source": []
  },
  {
   "cell_type": "code",
   "execution_count": null,
   "id": "aec2a262",
   "metadata": {},
   "outputs": [],
   "source": []
  },
  {
   "cell_type": "code",
   "execution_count": null,
   "id": "92d3f987",
   "metadata": {},
   "outputs": [],
   "source": []
  },
  {
   "cell_type": "code",
   "execution_count": null,
   "id": "d93aa9a3",
   "metadata": {},
   "outputs": [],
   "source": []
  },
  {
   "cell_type": "code",
   "execution_count": null,
   "id": "0ed10f5e",
   "metadata": {},
   "outputs": [],
   "source": []
  },
  {
   "cell_type": "code",
   "execution_count": null,
   "id": "a1dea2d0",
   "metadata": {},
   "outputs": [],
   "source": []
  },
  {
   "cell_type": "code",
   "execution_count": null,
   "id": "f5719719",
   "metadata": {},
   "outputs": [],
   "source": []
  },
  {
   "cell_type": "code",
   "execution_count": null,
   "id": "7a67b67a",
   "metadata": {},
   "outputs": [],
   "source": []
  }
 ],
 "metadata": {
  "kernelspec": {
   "display_name": "Python [conda env:base] *",
   "language": "python",
   "name": "conda-base-py"
  },
  "language_info": {
   "codemirror_mode": {
    "name": "ipython",
    "version": 3
   },
   "file_extension": ".py",
   "mimetype": "text/x-python",
   "name": "python",
   "nbconvert_exporter": "python",
   "pygments_lexer": "ipython3",
   "version": "3.12.7"
  }
 },
 "nbformat": 4,
 "nbformat_minor": 5
}
